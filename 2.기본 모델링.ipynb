{
 "cells": [
  {
   "cell_type": "markdown",
   "metadata": {
    "id": "NbI_RoQ9AP5r"
   },
   "source": [
    "#**스마트폰 센서 데이터 기반 모션 분류**\n",
    "# 단계2 : 기본 모델링\n"
   ]
  },
  {
   "cell_type": "markdown",
   "metadata": {
    "id": "ubUjMgXEzTUv"
   },
   "source": [
    "* 데이터 전처리\n",
    "    * 가변수화, 데이터 분할, NaN 확인 및 조치, 스케일링 등 필요한 전처리 수행\n",
    "* 다양한 딥러닝 구조의 모델로 분류 모델 생성\n",
    "    * 최소 4개 이상 모델링 수행\n",
    "    * 각 모델별 최소 5회 반복수행해서 얻은 성능의 평균으로 비교\n",
    "    * 각 모델의 성능을 저장하는 별도 데이터 프레임을 만들고 비교\n",
    "* 옵션 : 다음 사항은 선택사항입니다. 시간이 허용하는 범위 내에서 수행하세요.\n",
    "    * 상위 N개 변수를 선정하여 모델링 및 성능 비교\n",
    "        * 모델링에 항상 모든 변수가 필요한 것은 아닙니다.\n",
    "        * 변수 중요도 상위 N개를 선정하여 모델링하고 타 모델과 성능을 비교하세요.\n",
    "        * 상위 N개를 선택하는 방법은, 변수를 하나씩 늘려가며 모델링 및 성능 검증을 수행하여 적절한 지점을 찾는 것입니다.\n",
    "* 성능 가이드\n",
    "    * Accuracy : 0.90 ~ 0.99"
   ]
  },
  {
   "cell_type": "markdown",
   "metadata": {
    "id": "a2oWtdJPzTUy"
   },
   "source": [
    "## 1.환경설정"
   ]
  },
  {
   "cell_type": "markdown",
   "metadata": {
    "id": "OUF6xQFZzTUz"
   },
   "source": [
    "* 세부 요구사항\n",
    "    - 경로 설정 : 구글콜랩\n",
    "        * 구글 드라이브 바로 밑에 project3 폴더를 만들고,\n",
    "        * 데이터 파일을 복사해 넣습니다.\n",
    "    - 기본적으로 필요한 라이브러리를 import 하도록 코드가 작성되어 있습니다.\n",
    "        * 필요하다고 판단되는 라이브러리를 추가하세요.\n"
   ]
  },
  {
   "cell_type": "markdown",
   "metadata": {
    "id": "4bg7tWxSzTU0"
   },
   "source": [
    "### (1) 경로 설정"
   ]
  },
  {
   "cell_type": "markdown",
   "metadata": {
    "id": "o86e1aHRzTU0"
   },
   "source": [
    "* 구글 드라이브 연결"
   ]
  },
  {
   "cell_type": "code",
   "execution_count": null,
   "metadata": {
    "colab": {
     "base_uri": "https://localhost:8080/"
    },
    "executionInfo": {
     "elapsed": 23344,
     "status": "ok",
     "timestamp": 1729209105422,
     "user": {
      "displayName": "ByeongJin O",
      "userId": "14912423715743829428"
     },
     "user_tz": -540
    },
    "id": "9G0Si0qDzTU0",
    "outputId": "f0353d03-9a2b-46e4-d4d2-02b05b1a35a9"
   },
   "outputs": [
    {
     "name": "stdout",
     "output_type": "stream",
     "text": [
      "Mounted at /content/drive\n"
     ]
    }
   ],
   "source": [
    "from google.colab import drive\n",
    "drive.mount('/content/drive')"
   ]
  },
  {
   "cell_type": "code",
   "execution_count": null,
   "metadata": {
    "id": "5i7K-4UGzTU3"
   },
   "outputs": [],
   "source": [
    "path = '/content/drive/MyDrive/project3/'\n",
    "# path = 'C:/Users/User/Desktop'"
   ]
  },
  {
   "cell_type": "markdown",
   "metadata": {
    "id": "0Xnr5atSzTU4"
   },
   "source": [
    "### (2) 라이브러리 불러오기"
   ]
  },
  {
   "cell_type": "markdown",
   "metadata": {
    "id": "waGFA7e9zTU4"
   },
   "source": [
    "* 라이브러리 로딩"
   ]
  },
  {
   "cell_type": "code",
   "execution_count": null,
   "metadata": {
    "id": "cuVV49MizTU5"
   },
   "outputs": [],
   "source": [
    "import pandas as pd\n",
    "import numpy as np\n",
    "import matplotlib.pyplot as plt\n",
    "import seaborn as sns\n",
    "\n",
    "import joblib\n",
    "from tqdm import tqdm\n",
    "\n",
    "from sklearn.model_selection import train_test_split\n",
    "from sklearn.preprocessing import MinMaxScaler, LabelEncoder\n",
    "from sklearn.metrics import *\n",
    "\n",
    "from keras.models import Sequential, Model\n",
    "from keras.layers import Dense, Flatten, Dropout, Input, concatenate\n",
    "from keras.backend import clear_session\n",
    "from keras.optimizers import Adam\n",
    "from keras.callbacks import EarlyStopping"
   ]
  },
  {
   "cell_type": "code",
   "execution_count": null,
   "metadata": {
    "id": "3c4JgiEbNKfo"
   },
   "outputs": [],
   "source": [
    "# 학습곡선 함수\n",
    "def dl_history_plot(history):\n",
    "    plt.figure(figsize=(10,6))\n",
    "    plt.plot(history['loss'], label='train_err', marker = '.')\n",
    "    plt.plot(history['val_loss'], label='val_err', marker = '.')\n",
    "\n",
    "    plt.ylabel('Loss')\n",
    "    plt.xlabel('Epoch')\n",
    "    plt.legend()\n",
    "    plt.grid()\n",
    "    plt.show()"
   ]
  },
  {
   "cell_type": "markdown",
   "metadata": {
    "id": "bA-eHXdwBDCz"
   },
   "source": [
    "### (3) 데이터 불러오기"
   ]
  },
  {
   "cell_type": "markdown",
   "metadata": {
    "id": "HwIACQyupklv"
   },
   "source": [
    "* 주어진 데이터셋\n",
    "    * data01_train.csv : 학습 및 검증용\n",
    "    * data01_test.csv : 테스트용\n",
    "    * feature.csv : feature 이름을 계층구조로 정리한 데이터\n",
    "\n",
    "* 세부 요구사항\n",
    "    * 칼럼 삭제 : data01_train.csv와 data01_test.csv 에서 'subject' 칼럼은 불필요하므로 삭제합니다."
   ]
  },
  {
   "cell_type": "markdown",
   "metadata": {
    "id": "fmgUEGOipvG5"
   },
   "source": [
    "#### 1) 데이터로딩"
   ]
  },
  {
   "cell_type": "code",
   "execution_count": null,
   "metadata": {
    "id": "HdZCcSs6qfRC"
   },
   "outputs": [],
   "source": [
    "original_data = pd.read_csv(path + 'data01_train.csv')"
   ]
  },
  {
   "cell_type": "code",
   "execution_count": null,
   "metadata": {
    "id": "u3vFr9cJboZ9"
   },
   "outputs": [],
   "source": []
  },
  {
   "cell_type": "markdown",
   "metadata": {
    "id": "aI7qJqz3pr3m"
   },
   "source": [
    "#### 2) 기본 정보 조회"
   ]
  },
  {
   "cell_type": "code",
   "execution_count": null,
   "metadata": {
    "colab": {
     "base_uri": "https://localhost:8080/"
    },
    "executionInfo": {
     "elapsed": 7,
     "status": "ok",
     "timestamp": 1729209122134,
     "user": {
      "displayName": "ByeongJin O",
      "userId": "14912423715743829428"
     },
     "user_tz": -540
    },
    "id": "yFVSAGNhpr3m",
    "outputId": "cd18667b-c172-4b94-a31f-c12de8bf9aa5"
   },
   "outputs": [
    {
     "name": "stdout",
     "output_type": "stream",
     "text": [
      "<class 'pandas.core.frame.DataFrame'>\n",
      "RangeIndex: 5881 entries, 0 to 5880\n",
      "Columns: 563 entries, tBodyAcc-mean()-X to Activity\n",
      "dtypes: float64(561), int64(1), object(1)\n",
      "memory usage: 25.3+ MB\n"
     ]
    }
   ],
   "source": [
    "original_data.info()"
   ]
  },
  {
   "cell_type": "code",
   "execution_count": null,
   "metadata": {
    "colab": {
     "base_uri": "https://localhost:8080/",
     "height": 367
    },
    "executionInfo": {
     "elapsed": 1321,
     "status": "ok",
     "timestamp": 1729209123448,
     "user": {
      "displayName": "ByeongJin O",
      "userId": "14912423715743829428"
     },
     "user_tz": -540
    },
    "id": "xJnnr8K-pr3m",
    "outputId": "35501f44-6d94-4ed4-d63a-107627b3d29a"
   },
   "outputs": [
    {
     "data": {
      "application/vnd.google.colaboratory.intrinsic+json": {
       "type": "dataframe"
      },
      "text/html": [
       "\n",
       "  <div id=\"df-f36913e4-a10e-467d-9c8d-f27e5929f707\" class=\"colab-df-container\">\n",
       "    <div>\n",
       "<style scoped>\n",
       "    .dataframe tbody tr th:only-of-type {\n",
       "        vertical-align: middle;\n",
       "    }\n",
       "\n",
       "    .dataframe tbody tr th {\n",
       "        vertical-align: top;\n",
       "    }\n",
       "\n",
       "    .dataframe thead th {\n",
       "        text-align: right;\n",
       "    }\n",
       "</style>\n",
       "<table border=\"1\" class=\"dataframe\">\n",
       "  <thead>\n",
       "    <tr style=\"text-align: right;\">\n",
       "      <th></th>\n",
       "      <th>tBodyAcc-mean()-X</th>\n",
       "      <th>tBodyAcc-mean()-Y</th>\n",
       "      <th>tBodyAcc-mean()-Z</th>\n",
       "      <th>tBodyAcc-std()-X</th>\n",
       "      <th>tBodyAcc-std()-Y</th>\n",
       "      <th>tBodyAcc-std()-Z</th>\n",
       "      <th>tBodyAcc-mad()-X</th>\n",
       "      <th>tBodyAcc-mad()-Y</th>\n",
       "      <th>tBodyAcc-mad()-Z</th>\n",
       "      <th>tBodyAcc-max()-X</th>\n",
       "      <th>...</th>\n",
       "      <th>fBodyBodyGyroJerkMag-skewness()</th>\n",
       "      <th>fBodyBodyGyroJerkMag-kurtosis()</th>\n",
       "      <th>angle(tBodyAccMean,gravity)</th>\n",
       "      <th>angle(tBodyAccJerkMean),gravityMean)</th>\n",
       "      <th>angle(tBodyGyroMean,gravityMean)</th>\n",
       "      <th>angle(tBodyGyroJerkMean,gravityMean)</th>\n",
       "      <th>angle(X,gravityMean)</th>\n",
       "      <th>angle(Y,gravityMean)</th>\n",
       "      <th>angle(Z,gravityMean)</th>\n",
       "      <th>subject</th>\n",
       "    </tr>\n",
       "  </thead>\n",
       "  <tbody>\n",
       "    <tr>\n",
       "      <th>count</th>\n",
       "      <td>5881.000000</td>\n",
       "      <td>5881.000000</td>\n",
       "      <td>5881.000000</td>\n",
       "      <td>5881.000000</td>\n",
       "      <td>5881.000000</td>\n",
       "      <td>5881.000000</td>\n",
       "      <td>5881.000000</td>\n",
       "      <td>5881.000000</td>\n",
       "      <td>5881.000000</td>\n",
       "      <td>5881.000000</td>\n",
       "      <td>...</td>\n",
       "      <td>5881.000000</td>\n",
       "      <td>5881.000000</td>\n",
       "      <td>5881.000000</td>\n",
       "      <td>5881.000000</td>\n",
       "      <td>5881.000000</td>\n",
       "      <td>5881.000000</td>\n",
       "      <td>5881.000000</td>\n",
       "      <td>5881.000000</td>\n",
       "      <td>5881.000000</td>\n",
       "      <td>5881.000000</td>\n",
       "    </tr>\n",
       "    <tr>\n",
       "      <th>mean</th>\n",
       "      <td>0.274811</td>\n",
       "      <td>-0.017799</td>\n",
       "      <td>-0.109396</td>\n",
       "      <td>-0.603138</td>\n",
       "      <td>-0.509815</td>\n",
       "      <td>-0.604058</td>\n",
       "      <td>-0.628151</td>\n",
       "      <td>-0.525944</td>\n",
       "      <td>-0.605374</td>\n",
       "      <td>-0.465490</td>\n",
       "      <td>...</td>\n",
       "      <td>-0.305883</td>\n",
       "      <td>-0.623548</td>\n",
       "      <td>0.008524</td>\n",
       "      <td>-0.001185</td>\n",
       "      <td>0.009340</td>\n",
       "      <td>-0.007099</td>\n",
       "      <td>-0.491501</td>\n",
       "      <td>0.059299</td>\n",
       "      <td>-0.054594</td>\n",
       "      <td>17.381568</td>\n",
       "    </tr>\n",
       "    <tr>\n",
       "      <th>std</th>\n",
       "      <td>0.067614</td>\n",
       "      <td>0.039422</td>\n",
       "      <td>0.058373</td>\n",
       "      <td>0.448807</td>\n",
       "      <td>0.501815</td>\n",
       "      <td>0.417319</td>\n",
       "      <td>0.424345</td>\n",
       "      <td>0.485115</td>\n",
       "      <td>0.413043</td>\n",
       "      <td>0.544995</td>\n",
       "      <td>...</td>\n",
       "      <td>0.322808</td>\n",
       "      <td>0.310371</td>\n",
       "      <td>0.339730</td>\n",
       "      <td>0.447197</td>\n",
       "      <td>0.608190</td>\n",
       "      <td>0.476738</td>\n",
       "      <td>0.509069</td>\n",
       "      <td>0.297340</td>\n",
       "      <td>0.278479</td>\n",
       "      <td>8.938316</td>\n",
       "    </tr>\n",
       "    <tr>\n",
       "      <th>min</th>\n",
       "      <td>-0.503823</td>\n",
       "      <td>-0.684893</td>\n",
       "      <td>-1.000000</td>\n",
       "      <td>-1.000000</td>\n",
       "      <td>-0.999844</td>\n",
       "      <td>-0.999667</td>\n",
       "      <td>-1.000000</td>\n",
       "      <td>-0.999419</td>\n",
       "      <td>-1.000000</td>\n",
       "      <td>-1.000000</td>\n",
       "      <td>...</td>\n",
       "      <td>-0.979261</td>\n",
       "      <td>-0.999765</td>\n",
       "      <td>-0.976580</td>\n",
       "      <td>-1.000000</td>\n",
       "      <td>-1.000000</td>\n",
       "      <td>-1.000000</td>\n",
       "      <td>-1.000000</td>\n",
       "      <td>-1.000000</td>\n",
       "      <td>-0.980143</td>\n",
       "      <td>1.000000</td>\n",
       "    </tr>\n",
       "    <tr>\n",
       "      <th>25%</th>\n",
       "      <td>0.262919</td>\n",
       "      <td>-0.024877</td>\n",
       "      <td>-0.121051</td>\n",
       "      <td>-0.992774</td>\n",
       "      <td>-0.977680</td>\n",
       "      <td>-0.980127</td>\n",
       "      <td>-0.993602</td>\n",
       "      <td>-0.977865</td>\n",
       "      <td>-0.980112</td>\n",
       "      <td>-0.936067</td>\n",
       "      <td>...</td>\n",
       "      <td>-0.541969</td>\n",
       "      <td>-0.845985</td>\n",
       "      <td>-0.122361</td>\n",
       "      <td>-0.294369</td>\n",
       "      <td>-0.481718</td>\n",
       "      <td>-0.373345</td>\n",
       "      <td>-0.811397</td>\n",
       "      <td>-0.018203</td>\n",
       "      <td>-0.141555</td>\n",
       "      <td>8.000000</td>\n",
       "    </tr>\n",
       "    <tr>\n",
       "      <th>50%</th>\n",
       "      <td>0.277154</td>\n",
       "      <td>-0.017221</td>\n",
       "      <td>-0.108781</td>\n",
       "      <td>-0.943933</td>\n",
       "      <td>-0.844575</td>\n",
       "      <td>-0.856352</td>\n",
       "      <td>-0.948501</td>\n",
       "      <td>-0.849266</td>\n",
       "      <td>-0.849896</td>\n",
       "      <td>-0.878729</td>\n",
       "      <td>...</td>\n",
       "      <td>-0.342923</td>\n",
       "      <td>-0.712677</td>\n",
       "      <td>0.010278</td>\n",
       "      <td>0.005146</td>\n",
       "      <td>0.011448</td>\n",
       "      <td>-0.000847</td>\n",
       "      <td>-0.709441</td>\n",
       "      <td>0.182893</td>\n",
       "      <td>0.003951</td>\n",
       "      <td>19.000000</td>\n",
       "    </tr>\n",
       "    <tr>\n",
       "      <th>75%</th>\n",
       "      <td>0.288526</td>\n",
       "      <td>-0.010920</td>\n",
       "      <td>-0.098163</td>\n",
       "      <td>-0.242130</td>\n",
       "      <td>-0.034499</td>\n",
       "      <td>-0.262690</td>\n",
       "      <td>-0.291138</td>\n",
       "      <td>-0.068857</td>\n",
       "      <td>-0.268539</td>\n",
       "      <td>-0.013690</td>\n",
       "      <td>...</td>\n",
       "      <td>-0.127371</td>\n",
       "      <td>-0.501158</td>\n",
       "      <td>0.154985</td>\n",
       "      <td>0.285030</td>\n",
       "      <td>0.499857</td>\n",
       "      <td>0.356236</td>\n",
       "      <td>-0.511330</td>\n",
       "      <td>0.248435</td>\n",
       "      <td>0.111932</td>\n",
       "      <td>26.000000</td>\n",
       "    </tr>\n",
       "    <tr>\n",
       "      <th>max</th>\n",
       "      <td>1.000000</td>\n",
       "      <td>1.000000</td>\n",
       "      <td>1.000000</td>\n",
       "      <td>1.000000</td>\n",
       "      <td>0.916238</td>\n",
       "      <td>1.000000</td>\n",
       "      <td>1.000000</td>\n",
       "      <td>0.967664</td>\n",
       "      <td>1.000000</td>\n",
       "      <td>1.000000</td>\n",
       "      <td>...</td>\n",
       "      <td>0.989538</td>\n",
       "      <td>0.956845</td>\n",
       "      <td>1.000000</td>\n",
       "      <td>1.000000</td>\n",
       "      <td>0.998702</td>\n",
       "      <td>0.996078</td>\n",
       "      <td>0.977344</td>\n",
       "      <td>0.478157</td>\n",
       "      <td>1.000000</td>\n",
       "      <td>30.000000</td>\n",
       "    </tr>\n",
       "  </tbody>\n",
       "</table>\n",
       "<p>8 rows × 562 columns</p>\n",
       "</div>\n",
       "    <div class=\"colab-df-buttons\">\n",
       "\n",
       "  <div class=\"colab-df-container\">\n",
       "    <button class=\"colab-df-convert\" onclick=\"convertToInteractive('df-f36913e4-a10e-467d-9c8d-f27e5929f707')\"\n",
       "            title=\"Convert this dataframe to an interactive table.\"\n",
       "            style=\"display:none;\">\n",
       "\n",
       "  <svg xmlns=\"http://www.w3.org/2000/svg\" height=\"24px\" viewBox=\"0 -960 960 960\">\n",
       "    <path d=\"M120-120v-720h720v720H120Zm60-500h600v-160H180v160Zm220 220h160v-160H400v160Zm0 220h160v-160H400v160ZM180-400h160v-160H180v160Zm440 0h160v-160H620v160ZM180-180h160v-160H180v160Zm440 0h160v-160H620v160Z\"/>\n",
       "  </svg>\n",
       "    </button>\n",
       "\n",
       "  <style>\n",
       "    .colab-df-container {\n",
       "      display:flex;\n",
       "      gap: 12px;\n",
       "    }\n",
       "\n",
       "    .colab-df-convert {\n",
       "      background-color: #E8F0FE;\n",
       "      border: none;\n",
       "      border-radius: 50%;\n",
       "      cursor: pointer;\n",
       "      display: none;\n",
       "      fill: #1967D2;\n",
       "      height: 32px;\n",
       "      padding: 0 0 0 0;\n",
       "      width: 32px;\n",
       "    }\n",
       "\n",
       "    .colab-df-convert:hover {\n",
       "      background-color: #E2EBFA;\n",
       "      box-shadow: 0px 1px 2px rgba(60, 64, 67, 0.3), 0px 1px 3px 1px rgba(60, 64, 67, 0.15);\n",
       "      fill: #174EA6;\n",
       "    }\n",
       "\n",
       "    .colab-df-buttons div {\n",
       "      margin-bottom: 4px;\n",
       "    }\n",
       "\n",
       "    [theme=dark] .colab-df-convert {\n",
       "      background-color: #3B4455;\n",
       "      fill: #D2E3FC;\n",
       "    }\n",
       "\n",
       "    [theme=dark] .colab-df-convert:hover {\n",
       "      background-color: #434B5C;\n",
       "      box-shadow: 0px 1px 3px 1px rgba(0, 0, 0, 0.15);\n",
       "      filter: drop-shadow(0px 1px 2px rgba(0, 0, 0, 0.3));\n",
       "      fill: #FFFFFF;\n",
       "    }\n",
       "  </style>\n",
       "\n",
       "    <script>\n",
       "      const buttonEl =\n",
       "        document.querySelector('#df-f36913e4-a10e-467d-9c8d-f27e5929f707 button.colab-df-convert');\n",
       "      buttonEl.style.display =\n",
       "        google.colab.kernel.accessAllowed ? 'block' : 'none';\n",
       "\n",
       "      async function convertToInteractive(key) {\n",
       "        const element = document.querySelector('#df-f36913e4-a10e-467d-9c8d-f27e5929f707');\n",
       "        const dataTable =\n",
       "          await google.colab.kernel.invokeFunction('convertToInteractive',\n",
       "                                                    [key], {});\n",
       "        if (!dataTable) return;\n",
       "\n",
       "        const docLinkHtml = 'Like what you see? Visit the ' +\n",
       "          '<a target=\"_blank\" href=https://colab.research.google.com/notebooks/data_table.ipynb>data table notebook</a>'\n",
       "          + ' to learn more about interactive tables.';\n",
       "        element.innerHTML = '';\n",
       "        dataTable['output_type'] = 'display_data';\n",
       "        await google.colab.output.renderOutput(dataTable, element);\n",
       "        const docLink = document.createElement('div');\n",
       "        docLink.innerHTML = docLinkHtml;\n",
       "        element.appendChild(docLink);\n",
       "      }\n",
       "    </script>\n",
       "  </div>\n",
       "\n",
       "\n",
       "<div id=\"df-9a27a522-fa64-4d16-beb0-dc46f98044e0\">\n",
       "  <button class=\"colab-df-quickchart\" onclick=\"quickchart('df-9a27a522-fa64-4d16-beb0-dc46f98044e0')\"\n",
       "            title=\"Suggest charts\"\n",
       "            style=\"display:none;\">\n",
       "\n",
       "<svg xmlns=\"http://www.w3.org/2000/svg\" height=\"24px\"viewBox=\"0 0 24 24\"\n",
       "     width=\"24px\">\n",
       "    <g>\n",
       "        <path d=\"M19 3H5c-1.1 0-2 .9-2 2v14c0 1.1.9 2 2 2h14c1.1 0 2-.9 2-2V5c0-1.1-.9-2-2-2zM9 17H7v-7h2v7zm4 0h-2V7h2v10zm4 0h-2v-4h2v4z\"/>\n",
       "    </g>\n",
       "</svg>\n",
       "  </button>\n",
       "\n",
       "<style>\n",
       "  .colab-df-quickchart {\n",
       "      --bg-color: #E8F0FE;\n",
       "      --fill-color: #1967D2;\n",
       "      --hover-bg-color: #E2EBFA;\n",
       "      --hover-fill-color: #174EA6;\n",
       "      --disabled-fill-color: #AAA;\n",
       "      --disabled-bg-color: #DDD;\n",
       "  }\n",
       "\n",
       "  [theme=dark] .colab-df-quickchart {\n",
       "      --bg-color: #3B4455;\n",
       "      --fill-color: #D2E3FC;\n",
       "      --hover-bg-color: #434B5C;\n",
       "      --hover-fill-color: #FFFFFF;\n",
       "      --disabled-bg-color: #3B4455;\n",
       "      --disabled-fill-color: #666;\n",
       "  }\n",
       "\n",
       "  .colab-df-quickchart {\n",
       "    background-color: var(--bg-color);\n",
       "    border: none;\n",
       "    border-radius: 50%;\n",
       "    cursor: pointer;\n",
       "    display: none;\n",
       "    fill: var(--fill-color);\n",
       "    height: 32px;\n",
       "    padding: 0;\n",
       "    width: 32px;\n",
       "  }\n",
       "\n",
       "  .colab-df-quickchart:hover {\n",
       "    background-color: var(--hover-bg-color);\n",
       "    box-shadow: 0 1px 2px rgba(60, 64, 67, 0.3), 0 1px 3px 1px rgba(60, 64, 67, 0.15);\n",
       "    fill: var(--button-hover-fill-color);\n",
       "  }\n",
       "\n",
       "  .colab-df-quickchart-complete:disabled,\n",
       "  .colab-df-quickchart-complete:disabled:hover {\n",
       "    background-color: var(--disabled-bg-color);\n",
       "    fill: var(--disabled-fill-color);\n",
       "    box-shadow: none;\n",
       "  }\n",
       "\n",
       "  .colab-df-spinner {\n",
       "    border: 2px solid var(--fill-color);\n",
       "    border-color: transparent;\n",
       "    border-bottom-color: var(--fill-color);\n",
       "    animation:\n",
       "      spin 1s steps(1) infinite;\n",
       "  }\n",
       "\n",
       "  @keyframes spin {\n",
       "    0% {\n",
       "      border-color: transparent;\n",
       "      border-bottom-color: var(--fill-color);\n",
       "      border-left-color: var(--fill-color);\n",
       "    }\n",
       "    20% {\n",
       "      border-color: transparent;\n",
       "      border-left-color: var(--fill-color);\n",
       "      border-top-color: var(--fill-color);\n",
       "    }\n",
       "    30% {\n",
       "      border-color: transparent;\n",
       "      border-left-color: var(--fill-color);\n",
       "      border-top-color: var(--fill-color);\n",
       "      border-right-color: var(--fill-color);\n",
       "    }\n",
       "    40% {\n",
       "      border-color: transparent;\n",
       "      border-right-color: var(--fill-color);\n",
       "      border-top-color: var(--fill-color);\n",
       "    }\n",
       "    60% {\n",
       "      border-color: transparent;\n",
       "      border-right-color: var(--fill-color);\n",
       "    }\n",
       "    80% {\n",
       "      border-color: transparent;\n",
       "      border-right-color: var(--fill-color);\n",
       "      border-bottom-color: var(--fill-color);\n",
       "    }\n",
       "    90% {\n",
       "      border-color: transparent;\n",
       "      border-bottom-color: var(--fill-color);\n",
       "    }\n",
       "  }\n",
       "</style>\n",
       "\n",
       "  <script>\n",
       "    async function quickchart(key) {\n",
       "      const quickchartButtonEl =\n",
       "        document.querySelector('#' + key + ' button');\n",
       "      quickchartButtonEl.disabled = true;  // To prevent multiple clicks.\n",
       "      quickchartButtonEl.classList.add('colab-df-spinner');\n",
       "      try {\n",
       "        const charts = await google.colab.kernel.invokeFunction(\n",
       "            'suggestCharts', [key], {});\n",
       "      } catch (error) {\n",
       "        console.error('Error during call to suggestCharts:', error);\n",
       "      }\n",
       "      quickchartButtonEl.classList.remove('colab-df-spinner');\n",
       "      quickchartButtonEl.classList.add('colab-df-quickchart-complete');\n",
       "    }\n",
       "    (() => {\n",
       "      let quickchartButtonEl =\n",
       "        document.querySelector('#df-9a27a522-fa64-4d16-beb0-dc46f98044e0 button');\n",
       "      quickchartButtonEl.style.display =\n",
       "        google.colab.kernel.accessAllowed ? 'block' : 'none';\n",
       "    })();\n",
       "  </script>\n",
       "</div>\n",
       "\n",
       "    </div>\n",
       "  </div>\n"
      ],
      "text/plain": [
       "       tBodyAcc-mean()-X  tBodyAcc-mean()-Y  tBodyAcc-mean()-Z  \\\n",
       "count        5881.000000        5881.000000        5881.000000   \n",
       "mean            0.274811          -0.017799          -0.109396   \n",
       "std             0.067614           0.039422           0.058373   \n",
       "min            -0.503823          -0.684893          -1.000000   \n",
       "25%             0.262919          -0.024877          -0.121051   \n",
       "50%             0.277154          -0.017221          -0.108781   \n",
       "75%             0.288526          -0.010920          -0.098163   \n",
       "max             1.000000           1.000000           1.000000   \n",
       "\n",
       "       tBodyAcc-std()-X  tBodyAcc-std()-Y  tBodyAcc-std()-Z  tBodyAcc-mad()-X  \\\n",
       "count       5881.000000       5881.000000       5881.000000       5881.000000   \n",
       "mean          -0.603138         -0.509815         -0.604058         -0.628151   \n",
       "std            0.448807          0.501815          0.417319          0.424345   \n",
       "min           -1.000000         -0.999844         -0.999667         -1.000000   \n",
       "25%           -0.992774         -0.977680         -0.980127         -0.993602   \n",
       "50%           -0.943933         -0.844575         -0.856352         -0.948501   \n",
       "75%           -0.242130         -0.034499         -0.262690         -0.291138   \n",
       "max            1.000000          0.916238          1.000000          1.000000   \n",
       "\n",
       "       tBodyAcc-mad()-Y  tBodyAcc-mad()-Z  tBodyAcc-max()-X  ...  \\\n",
       "count       5881.000000       5881.000000       5881.000000  ...   \n",
       "mean          -0.525944         -0.605374         -0.465490  ...   \n",
       "std            0.485115          0.413043          0.544995  ...   \n",
       "min           -0.999419         -1.000000         -1.000000  ...   \n",
       "25%           -0.977865         -0.980112         -0.936067  ...   \n",
       "50%           -0.849266         -0.849896         -0.878729  ...   \n",
       "75%           -0.068857         -0.268539         -0.013690  ...   \n",
       "max            0.967664          1.000000          1.000000  ...   \n",
       "\n",
       "       fBodyBodyGyroJerkMag-skewness()  fBodyBodyGyroJerkMag-kurtosis()  \\\n",
       "count                      5881.000000                      5881.000000   \n",
       "mean                         -0.305883                        -0.623548   \n",
       "std                           0.322808                         0.310371   \n",
       "min                          -0.979261                        -0.999765   \n",
       "25%                          -0.541969                        -0.845985   \n",
       "50%                          -0.342923                        -0.712677   \n",
       "75%                          -0.127371                        -0.501158   \n",
       "max                           0.989538                         0.956845   \n",
       "\n",
       "       angle(tBodyAccMean,gravity)  angle(tBodyAccJerkMean),gravityMean)  \\\n",
       "count                  5881.000000                           5881.000000   \n",
       "mean                      0.008524                             -0.001185   \n",
       "std                       0.339730                              0.447197   \n",
       "min                      -0.976580                             -1.000000   \n",
       "25%                      -0.122361                             -0.294369   \n",
       "50%                       0.010278                              0.005146   \n",
       "75%                       0.154985                              0.285030   \n",
       "max                       1.000000                              1.000000   \n",
       "\n",
       "       angle(tBodyGyroMean,gravityMean)  angle(tBodyGyroJerkMean,gravityMean)  \\\n",
       "count                       5881.000000                           5881.000000   \n",
       "mean                           0.009340                             -0.007099   \n",
       "std                            0.608190                              0.476738   \n",
       "min                           -1.000000                             -1.000000   \n",
       "25%                           -0.481718                             -0.373345   \n",
       "50%                            0.011448                             -0.000847   \n",
       "75%                            0.499857                              0.356236   \n",
       "max                            0.998702                              0.996078   \n",
       "\n",
       "       angle(X,gravityMean)  angle(Y,gravityMean)  angle(Z,gravityMean)  \\\n",
       "count           5881.000000           5881.000000           5881.000000   \n",
       "mean              -0.491501              0.059299             -0.054594   \n",
       "std                0.509069              0.297340              0.278479   \n",
       "min               -1.000000             -1.000000             -0.980143   \n",
       "25%               -0.811397             -0.018203             -0.141555   \n",
       "50%               -0.709441              0.182893              0.003951   \n",
       "75%               -0.511330              0.248435              0.111932   \n",
       "max                0.977344              0.478157              1.000000   \n",
       "\n",
       "           subject  \n",
       "count  5881.000000  \n",
       "mean     17.381568  \n",
       "std       8.938316  \n",
       "min       1.000000  \n",
       "25%       8.000000  \n",
       "50%      19.000000  \n",
       "75%      26.000000  \n",
       "max      30.000000  \n",
       "\n",
       "[8 rows x 562 columns]"
      ]
     },
     "execution_count": 8,
     "metadata": {},
     "output_type": "execute_result"
    }
   ],
   "source": [
    "original_data.describe()"
   ]
  },
  {
   "cell_type": "code",
   "execution_count": null,
   "metadata": {
    "colab": {
     "base_uri": "https://localhost:8080/",
     "height": 461
    },
    "executionInfo": {
     "elapsed": 6308,
     "status": "ok",
     "timestamp": 1729209129751,
     "user": {
      "displayName": "ByeongJin O",
      "userId": "14912423715743829428"
     },
     "user_tz": -540
    },
    "id": "ajJ1qJkhpr3n",
    "outputId": "bbdeefaf-4430-418c-a156-449664b7db0b"
   },
   "outputs": [
    {
     "data": {
      "application/vnd.google.colaboratory.intrinsic+json": {
       "type": "dataframe"
      },
      "text/html": [
       "\n",
       "  <div id=\"df-1261a795-ea88-4b4e-a6e2-8606c318a471\" class=\"colab-df-container\">\n",
       "    <div>\n",
       "<style scoped>\n",
       "    .dataframe tbody tr th:only-of-type {\n",
       "        vertical-align: middle;\n",
       "    }\n",
       "\n",
       "    .dataframe tbody tr th {\n",
       "        vertical-align: top;\n",
       "    }\n",
       "\n",
       "    .dataframe thead th {\n",
       "        text-align: right;\n",
       "    }\n",
       "</style>\n",
       "<table border=\"1\" class=\"dataframe\">\n",
       "  <thead>\n",
       "    <tr style=\"text-align: right;\">\n",
       "      <th></th>\n",
       "      <th>tBodyAcc-mean()-X</th>\n",
       "      <th>tBodyAcc-mean()-Y</th>\n",
       "      <th>tBodyAcc-mean()-Z</th>\n",
       "      <th>tBodyAcc-std()-X</th>\n",
       "      <th>tBodyAcc-std()-Y</th>\n",
       "      <th>tBodyAcc-std()-Z</th>\n",
       "      <th>tBodyAcc-mad()-X</th>\n",
       "      <th>tBodyAcc-mad()-Y</th>\n",
       "      <th>tBodyAcc-mad()-Z</th>\n",
       "      <th>tBodyAcc-max()-X</th>\n",
       "      <th>...</th>\n",
       "      <th>fBodyBodyGyroJerkMag-skewness()</th>\n",
       "      <th>fBodyBodyGyroJerkMag-kurtosis()</th>\n",
       "      <th>angle(tBodyAccMean,gravity)</th>\n",
       "      <th>angle(tBodyAccJerkMean),gravityMean)</th>\n",
       "      <th>angle(tBodyGyroMean,gravityMean)</th>\n",
       "      <th>angle(tBodyGyroJerkMean,gravityMean)</th>\n",
       "      <th>angle(X,gravityMean)</th>\n",
       "      <th>angle(Y,gravityMean)</th>\n",
       "      <th>angle(Z,gravityMean)</th>\n",
       "      <th>subject</th>\n",
       "    </tr>\n",
       "  </thead>\n",
       "  <tbody>\n",
       "    <tr>\n",
       "      <th>tBodyAcc-mean()-X</th>\n",
       "      <td>1.000000</td>\n",
       "      <td>0.203297</td>\n",
       "      <td>-0.266383</td>\n",
       "      <td>0.012067</td>\n",
       "      <td>-0.018489</td>\n",
       "      <td>-0.040405</td>\n",
       "      <td>0.018367</td>\n",
       "      <td>-0.019752</td>\n",
       "      <td>-0.043303</td>\n",
       "      <td>0.048725</td>\n",
       "      <td>...</td>\n",
       "      <td>-0.012101</td>\n",
       "      <td>-0.011490</td>\n",
       "      <td>-0.567455</td>\n",
       "      <td>0.019251</td>\n",
       "      <td>0.034065</td>\n",
       "      <td>0.030968</td>\n",
       "      <td>-0.027010</td>\n",
       "      <td>0.028177</td>\n",
       "      <td>0.019025</td>\n",
       "      <td>0.027597</td>\n",
       "    </tr>\n",
       "    <tr>\n",
       "      <th>tBodyAcc-mean()-Y</th>\n",
       "      <td>0.203297</td>\n",
       "      <td>1.000000</td>\n",
       "      <td>-0.145709</td>\n",
       "      <td>-0.049467</td>\n",
       "      <td>-0.052489</td>\n",
       "      <td>-0.058499</td>\n",
       "      <td>-0.048703</td>\n",
       "      <td>-0.053018</td>\n",
       "      <td>-0.058559</td>\n",
       "      <td>-0.038544</td>\n",
       "      <td>...</td>\n",
       "      <td>-0.003101</td>\n",
       "      <td>-0.003467</td>\n",
       "      <td>0.076995</td>\n",
       "      <td>-0.013001</td>\n",
       "      <td>0.019670</td>\n",
       "      <td>0.074955</td>\n",
       "      <td>0.000039</td>\n",
       "      <td>0.002376</td>\n",
       "      <td>-0.022329</td>\n",
       "      <td>0.006299</td>\n",
       "    </tr>\n",
       "    <tr>\n",
       "      <th>tBodyAcc-mean()-Z</th>\n",
       "      <td>-0.266383</td>\n",
       "      <td>-0.145709</td>\n",
       "      <td>1.000000</td>\n",
       "      <td>-0.024839</td>\n",
       "      <td>-0.017613</td>\n",
       "      <td>-0.016924</td>\n",
       "      <td>-0.023323</td>\n",
       "      <td>-0.015794</td>\n",
       "      <td>-0.012575</td>\n",
       "      <td>-0.040397</td>\n",
       "      <td>...</td>\n",
       "      <td>0.018155</td>\n",
       "      <td>0.018234</td>\n",
       "      <td>0.056806</td>\n",
       "      <td>-0.036749</td>\n",
       "      <td>-0.054069</td>\n",
       "      <td>-0.035593</td>\n",
       "      <td>0.007045</td>\n",
       "      <td>-0.017900</td>\n",
       "      <td>-0.019169</td>\n",
       "      <td>-0.000459</td>\n",
       "    </tr>\n",
       "    <tr>\n",
       "      <th>tBodyAcc-std()-X</th>\n",
       "      <td>0.012067</td>\n",
       "      <td>-0.049467</td>\n",
       "      <td>-0.024839</td>\n",
       "      <td>1.000000</td>\n",
       "      <td>0.927809</td>\n",
       "      <td>0.851841</td>\n",
       "      <td>0.998656</td>\n",
       "      <td>0.921154</td>\n",
       "      <td>0.846308</td>\n",
       "      <td>0.981190</td>\n",
       "      <td>...</td>\n",
       "      <td>0.151555</td>\n",
       "      <td>0.116425</td>\n",
       "      <td>-0.043069</td>\n",
       "      <td>-0.032145</td>\n",
       "      <td>0.016542</td>\n",
       "      <td>-0.024749</td>\n",
       "      <td>-0.373500</td>\n",
       "      <td>0.470834</td>\n",
       "      <td>0.392843</td>\n",
       "      <td>-0.055562</td>\n",
       "    </tr>\n",
       "    <tr>\n",
       "      <th>tBodyAcc-std()-Y</th>\n",
       "      <td>-0.018489</td>\n",
       "      <td>-0.052489</td>\n",
       "      <td>-0.017613</td>\n",
       "      <td>0.927809</td>\n",
       "      <td>1.000000</td>\n",
       "      <td>0.893995</td>\n",
       "      <td>0.923386</td>\n",
       "      <td>0.997320</td>\n",
       "      <td>0.892843</td>\n",
       "      <td>0.916853</td>\n",
       "      <td>...</td>\n",
       "      <td>0.209119</td>\n",
       "      <td>0.177232</td>\n",
       "      <td>-0.027671</td>\n",
       "      <td>-0.022181</td>\n",
       "      <td>-0.012927</td>\n",
       "      <td>-0.015237</td>\n",
       "      <td>-0.380258</td>\n",
       "      <td>0.521249</td>\n",
       "      <td>0.429141</td>\n",
       "      <td>-0.107235</td>\n",
       "    </tr>\n",
       "    <tr>\n",
       "      <th>...</th>\n",
       "      <td>...</td>\n",
       "      <td>...</td>\n",
       "      <td>...</td>\n",
       "      <td>...</td>\n",
       "      <td>...</td>\n",
       "      <td>...</td>\n",
       "      <td>...</td>\n",
       "      <td>...</td>\n",
       "      <td>...</td>\n",
       "      <td>...</td>\n",
       "      <td>...</td>\n",
       "      <td>...</td>\n",
       "      <td>...</td>\n",
       "      <td>...</td>\n",
       "      <td>...</td>\n",
       "      <td>...</td>\n",
       "      <td>...</td>\n",
       "      <td>...</td>\n",
       "      <td>...</td>\n",
       "      <td>...</td>\n",
       "      <td>...</td>\n",
       "    </tr>\n",
       "    <tr>\n",
       "      <th>angle(tBodyGyroJerkMean,gravityMean)</th>\n",
       "      <td>0.030968</td>\n",
       "      <td>0.074955</td>\n",
       "      <td>-0.035593</td>\n",
       "      <td>-0.024749</td>\n",
       "      <td>-0.015237</td>\n",
       "      <td>-0.004077</td>\n",
       "      <td>-0.025205</td>\n",
       "      <td>-0.013152</td>\n",
       "      <td>-0.004784</td>\n",
       "      <td>-0.028239</td>\n",
       "      <td>...</td>\n",
       "      <td>-0.018015</td>\n",
       "      <td>-0.015179</td>\n",
       "      <td>-0.027075</td>\n",
       "      <td>0.029856</td>\n",
       "      <td>-0.113677</td>\n",
       "      <td>1.000000</td>\n",
       "      <td>0.012598</td>\n",
       "      <td>0.005132</td>\n",
       "      <td>0.001242</td>\n",
       "      <td>0.010505</td>\n",
       "    </tr>\n",
       "    <tr>\n",
       "      <th>angle(X,gravityMean)</th>\n",
       "      <td>-0.027010</td>\n",
       "      <td>0.000039</td>\n",
       "      <td>0.007045</td>\n",
       "      <td>-0.373500</td>\n",
       "      <td>-0.380258</td>\n",
       "      <td>-0.346237</td>\n",
       "      <td>-0.370024</td>\n",
       "      <td>-0.376665</td>\n",
       "      <td>-0.348279</td>\n",
       "      <td>-0.385300</td>\n",
       "      <td>...</td>\n",
       "      <td>-0.088810</td>\n",
       "      <td>-0.080113</td>\n",
       "      <td>0.012382</td>\n",
       "      <td>0.020700</td>\n",
       "      <td>-0.001992</td>\n",
       "      <td>0.012598</td>\n",
       "      <td>1.000000</td>\n",
       "      <td>-0.783107</td>\n",
       "      <td>-0.639201</td>\n",
       "      <td>0.012622</td>\n",
       "    </tr>\n",
       "    <tr>\n",
       "      <th>angle(Y,gravityMean)</th>\n",
       "      <td>0.028177</td>\n",
       "      <td>0.002376</td>\n",
       "      <td>-0.017900</td>\n",
       "      <td>0.470834</td>\n",
       "      <td>0.521249</td>\n",
       "      <td>0.473572</td>\n",
       "      <td>0.466287</td>\n",
       "      <td>0.522401</td>\n",
       "      <td>0.474880</td>\n",
       "      <td>0.478832</td>\n",
       "      <td>...</td>\n",
       "      <td>0.092383</td>\n",
       "      <td>0.080726</td>\n",
       "      <td>-0.000955</td>\n",
       "      <td>-0.013508</td>\n",
       "      <td>-0.013863</td>\n",
       "      <td>0.005132</td>\n",
       "      <td>-0.783107</td>\n",
       "      <td>1.000000</td>\n",
       "      <td>0.590883</td>\n",
       "      <td>0.002219</td>\n",
       "    </tr>\n",
       "    <tr>\n",
       "      <th>angle(Z,gravityMean)</th>\n",
       "      <td>0.019025</td>\n",
       "      <td>-0.022329</td>\n",
       "      <td>-0.019169</td>\n",
       "      <td>0.392843</td>\n",
       "      <td>0.429141</td>\n",
       "      <td>0.480593</td>\n",
       "      <td>0.389196</td>\n",
       "      <td>0.427486</td>\n",
       "      <td>0.477848</td>\n",
       "      <td>0.401217</td>\n",
       "      <td>...</td>\n",
       "      <td>0.056005</td>\n",
       "      <td>0.049690</td>\n",
       "      <td>-0.004422</td>\n",
       "      <td>-0.014844</td>\n",
       "      <td>-0.021702</td>\n",
       "      <td>0.001242</td>\n",
       "      <td>-0.639201</td>\n",
       "      <td>0.590883</td>\n",
       "      <td>1.000000</td>\n",
       "      <td>-0.085036</td>\n",
       "    </tr>\n",
       "    <tr>\n",
       "      <th>subject</th>\n",
       "      <td>0.027597</td>\n",
       "      <td>0.006299</td>\n",
       "      <td>-0.000459</td>\n",
       "      <td>-0.055562</td>\n",
       "      <td>-0.107235</td>\n",
       "      <td>-0.041947</td>\n",
       "      <td>-0.054814</td>\n",
       "      <td>-0.106383</td>\n",
       "      <td>-0.047428</td>\n",
       "      <td>-0.045658</td>\n",
       "      <td>...</td>\n",
       "      <td>-0.040148</td>\n",
       "      <td>-0.036173</td>\n",
       "      <td>-0.011981</td>\n",
       "      <td>0.012204</td>\n",
       "      <td>0.001991</td>\n",
       "      <td>0.010505</td>\n",
       "      <td>0.012622</td>\n",
       "      <td>0.002219</td>\n",
       "      <td>-0.085036</td>\n",
       "      <td>1.000000</td>\n",
       "    </tr>\n",
       "  </tbody>\n",
       "</table>\n",
       "<p>562 rows × 562 columns</p>\n",
       "</div>\n",
       "    <div class=\"colab-df-buttons\">\n",
       "\n",
       "  <div class=\"colab-df-container\">\n",
       "    <button class=\"colab-df-convert\" onclick=\"convertToInteractive('df-1261a795-ea88-4b4e-a6e2-8606c318a471')\"\n",
       "            title=\"Convert this dataframe to an interactive table.\"\n",
       "            style=\"display:none;\">\n",
       "\n",
       "  <svg xmlns=\"http://www.w3.org/2000/svg\" height=\"24px\" viewBox=\"0 -960 960 960\">\n",
       "    <path d=\"M120-120v-720h720v720H120Zm60-500h600v-160H180v160Zm220 220h160v-160H400v160Zm0 220h160v-160H400v160ZM180-400h160v-160H180v160Zm440 0h160v-160H620v160ZM180-180h160v-160H180v160Zm440 0h160v-160H620v160Z\"/>\n",
       "  </svg>\n",
       "    </button>\n",
       "\n",
       "  <style>\n",
       "    .colab-df-container {\n",
       "      display:flex;\n",
       "      gap: 12px;\n",
       "    }\n",
       "\n",
       "    .colab-df-convert {\n",
       "      background-color: #E8F0FE;\n",
       "      border: none;\n",
       "      border-radius: 50%;\n",
       "      cursor: pointer;\n",
       "      display: none;\n",
       "      fill: #1967D2;\n",
       "      height: 32px;\n",
       "      padding: 0 0 0 0;\n",
       "      width: 32px;\n",
       "    }\n",
       "\n",
       "    .colab-df-convert:hover {\n",
       "      background-color: #E2EBFA;\n",
       "      box-shadow: 0px 1px 2px rgba(60, 64, 67, 0.3), 0px 1px 3px 1px rgba(60, 64, 67, 0.15);\n",
       "      fill: #174EA6;\n",
       "    }\n",
       "\n",
       "    .colab-df-buttons div {\n",
       "      margin-bottom: 4px;\n",
       "    }\n",
       "\n",
       "    [theme=dark] .colab-df-convert {\n",
       "      background-color: #3B4455;\n",
       "      fill: #D2E3FC;\n",
       "    }\n",
       "\n",
       "    [theme=dark] .colab-df-convert:hover {\n",
       "      background-color: #434B5C;\n",
       "      box-shadow: 0px 1px 3px 1px rgba(0, 0, 0, 0.15);\n",
       "      filter: drop-shadow(0px 1px 2px rgba(0, 0, 0, 0.3));\n",
       "      fill: #FFFFFF;\n",
       "    }\n",
       "  </style>\n",
       "\n",
       "    <script>\n",
       "      const buttonEl =\n",
       "        document.querySelector('#df-1261a795-ea88-4b4e-a6e2-8606c318a471 button.colab-df-convert');\n",
       "      buttonEl.style.display =\n",
       "        google.colab.kernel.accessAllowed ? 'block' : 'none';\n",
       "\n",
       "      async function convertToInteractive(key) {\n",
       "        const element = document.querySelector('#df-1261a795-ea88-4b4e-a6e2-8606c318a471');\n",
       "        const dataTable =\n",
       "          await google.colab.kernel.invokeFunction('convertToInteractive',\n",
       "                                                    [key], {});\n",
       "        if (!dataTable) return;\n",
       "\n",
       "        const docLinkHtml = 'Like what you see? Visit the ' +\n",
       "          '<a target=\"_blank\" href=https://colab.research.google.com/notebooks/data_table.ipynb>data table notebook</a>'\n",
       "          + ' to learn more about interactive tables.';\n",
       "        element.innerHTML = '';\n",
       "        dataTable['output_type'] = 'display_data';\n",
       "        await google.colab.output.renderOutput(dataTable, element);\n",
       "        const docLink = document.createElement('div');\n",
       "        docLink.innerHTML = docLinkHtml;\n",
       "        element.appendChild(docLink);\n",
       "      }\n",
       "    </script>\n",
       "  </div>\n",
       "\n",
       "\n",
       "<div id=\"df-1dd8dd2f-538e-45d2-a083-15e78a3b0c03\">\n",
       "  <button class=\"colab-df-quickchart\" onclick=\"quickchart('df-1dd8dd2f-538e-45d2-a083-15e78a3b0c03')\"\n",
       "            title=\"Suggest charts\"\n",
       "            style=\"display:none;\">\n",
       "\n",
       "<svg xmlns=\"http://www.w3.org/2000/svg\" height=\"24px\"viewBox=\"0 0 24 24\"\n",
       "     width=\"24px\">\n",
       "    <g>\n",
       "        <path d=\"M19 3H5c-1.1 0-2 .9-2 2v14c0 1.1.9 2 2 2h14c1.1 0 2-.9 2-2V5c0-1.1-.9-2-2-2zM9 17H7v-7h2v7zm4 0h-2V7h2v10zm4 0h-2v-4h2v4z\"/>\n",
       "    </g>\n",
       "</svg>\n",
       "  </button>\n",
       "\n",
       "<style>\n",
       "  .colab-df-quickchart {\n",
       "      --bg-color: #E8F0FE;\n",
       "      --fill-color: #1967D2;\n",
       "      --hover-bg-color: #E2EBFA;\n",
       "      --hover-fill-color: #174EA6;\n",
       "      --disabled-fill-color: #AAA;\n",
       "      --disabled-bg-color: #DDD;\n",
       "  }\n",
       "\n",
       "  [theme=dark] .colab-df-quickchart {\n",
       "      --bg-color: #3B4455;\n",
       "      --fill-color: #D2E3FC;\n",
       "      --hover-bg-color: #434B5C;\n",
       "      --hover-fill-color: #FFFFFF;\n",
       "      --disabled-bg-color: #3B4455;\n",
       "      --disabled-fill-color: #666;\n",
       "  }\n",
       "\n",
       "  .colab-df-quickchart {\n",
       "    background-color: var(--bg-color);\n",
       "    border: none;\n",
       "    border-radius: 50%;\n",
       "    cursor: pointer;\n",
       "    display: none;\n",
       "    fill: var(--fill-color);\n",
       "    height: 32px;\n",
       "    padding: 0;\n",
       "    width: 32px;\n",
       "  }\n",
       "\n",
       "  .colab-df-quickchart:hover {\n",
       "    background-color: var(--hover-bg-color);\n",
       "    box-shadow: 0 1px 2px rgba(60, 64, 67, 0.3), 0 1px 3px 1px rgba(60, 64, 67, 0.15);\n",
       "    fill: var(--button-hover-fill-color);\n",
       "  }\n",
       "\n",
       "  .colab-df-quickchart-complete:disabled,\n",
       "  .colab-df-quickchart-complete:disabled:hover {\n",
       "    background-color: var(--disabled-bg-color);\n",
       "    fill: var(--disabled-fill-color);\n",
       "    box-shadow: none;\n",
       "  }\n",
       "\n",
       "  .colab-df-spinner {\n",
       "    border: 2px solid var(--fill-color);\n",
       "    border-color: transparent;\n",
       "    border-bottom-color: var(--fill-color);\n",
       "    animation:\n",
       "      spin 1s steps(1) infinite;\n",
       "  }\n",
       "\n",
       "  @keyframes spin {\n",
       "    0% {\n",
       "      border-color: transparent;\n",
       "      border-bottom-color: var(--fill-color);\n",
       "      border-left-color: var(--fill-color);\n",
       "    }\n",
       "    20% {\n",
       "      border-color: transparent;\n",
       "      border-left-color: var(--fill-color);\n",
       "      border-top-color: var(--fill-color);\n",
       "    }\n",
       "    30% {\n",
       "      border-color: transparent;\n",
       "      border-left-color: var(--fill-color);\n",
       "      border-top-color: var(--fill-color);\n",
       "      border-right-color: var(--fill-color);\n",
       "    }\n",
       "    40% {\n",
       "      border-color: transparent;\n",
       "      border-right-color: var(--fill-color);\n",
       "      border-top-color: var(--fill-color);\n",
       "    }\n",
       "    60% {\n",
       "      border-color: transparent;\n",
       "      border-right-color: var(--fill-color);\n",
       "    }\n",
       "    80% {\n",
       "      border-color: transparent;\n",
       "      border-right-color: var(--fill-color);\n",
       "      border-bottom-color: var(--fill-color);\n",
       "    }\n",
       "    90% {\n",
       "      border-color: transparent;\n",
       "      border-bottom-color: var(--fill-color);\n",
       "    }\n",
       "  }\n",
       "</style>\n",
       "\n",
       "  <script>\n",
       "    async function quickchart(key) {\n",
       "      const quickchartButtonEl =\n",
       "        document.querySelector('#' + key + ' button');\n",
       "      quickchartButtonEl.disabled = true;  // To prevent multiple clicks.\n",
       "      quickchartButtonEl.classList.add('colab-df-spinner');\n",
       "      try {\n",
       "        const charts = await google.colab.kernel.invokeFunction(\n",
       "            'suggestCharts', [key], {});\n",
       "      } catch (error) {\n",
       "        console.error('Error during call to suggestCharts:', error);\n",
       "      }\n",
       "      quickchartButtonEl.classList.remove('colab-df-spinner');\n",
       "      quickchartButtonEl.classList.add('colab-df-quickchart-complete');\n",
       "    }\n",
       "    (() => {\n",
       "      let quickchartButtonEl =\n",
       "        document.querySelector('#df-1dd8dd2f-538e-45d2-a083-15e78a3b0c03 button');\n",
       "      quickchartButtonEl.style.display =\n",
       "        google.colab.kernel.accessAllowed ? 'block' : 'none';\n",
       "    })();\n",
       "  </script>\n",
       "</div>\n",
       "\n",
       "    </div>\n",
       "  </div>\n"
      ],
      "text/plain": [
       "                                      tBodyAcc-mean()-X  tBodyAcc-mean()-Y  \\\n",
       "tBodyAcc-mean()-X                              1.000000           0.203297   \n",
       "tBodyAcc-mean()-Y                              0.203297           1.000000   \n",
       "tBodyAcc-mean()-Z                             -0.266383          -0.145709   \n",
       "tBodyAcc-std()-X                               0.012067          -0.049467   \n",
       "tBodyAcc-std()-Y                              -0.018489          -0.052489   \n",
       "...                                                 ...                ...   \n",
       "angle(tBodyGyroJerkMean,gravityMean)           0.030968           0.074955   \n",
       "angle(X,gravityMean)                          -0.027010           0.000039   \n",
       "angle(Y,gravityMean)                           0.028177           0.002376   \n",
       "angle(Z,gravityMean)                           0.019025          -0.022329   \n",
       "subject                                        0.027597           0.006299   \n",
       "\n",
       "                                      tBodyAcc-mean()-Z  tBodyAcc-std()-X  \\\n",
       "tBodyAcc-mean()-X                             -0.266383          0.012067   \n",
       "tBodyAcc-mean()-Y                             -0.145709         -0.049467   \n",
       "tBodyAcc-mean()-Z                              1.000000         -0.024839   \n",
       "tBodyAcc-std()-X                              -0.024839          1.000000   \n",
       "tBodyAcc-std()-Y                              -0.017613          0.927809   \n",
       "...                                                 ...               ...   \n",
       "angle(tBodyGyroJerkMean,gravityMean)          -0.035593         -0.024749   \n",
       "angle(X,gravityMean)                           0.007045         -0.373500   \n",
       "angle(Y,gravityMean)                          -0.017900          0.470834   \n",
       "angle(Z,gravityMean)                          -0.019169          0.392843   \n",
       "subject                                       -0.000459         -0.055562   \n",
       "\n",
       "                                      tBodyAcc-std()-Y  tBodyAcc-std()-Z  \\\n",
       "tBodyAcc-mean()-X                            -0.018489         -0.040405   \n",
       "tBodyAcc-mean()-Y                            -0.052489         -0.058499   \n",
       "tBodyAcc-mean()-Z                            -0.017613         -0.016924   \n",
       "tBodyAcc-std()-X                              0.927809          0.851841   \n",
       "tBodyAcc-std()-Y                              1.000000          0.893995   \n",
       "...                                                ...               ...   \n",
       "angle(tBodyGyroJerkMean,gravityMean)         -0.015237         -0.004077   \n",
       "angle(X,gravityMean)                         -0.380258         -0.346237   \n",
       "angle(Y,gravityMean)                          0.521249          0.473572   \n",
       "angle(Z,gravityMean)                          0.429141          0.480593   \n",
       "subject                                      -0.107235         -0.041947   \n",
       "\n",
       "                                      tBodyAcc-mad()-X  tBodyAcc-mad()-Y  \\\n",
       "tBodyAcc-mean()-X                             0.018367         -0.019752   \n",
       "tBodyAcc-mean()-Y                            -0.048703         -0.053018   \n",
       "tBodyAcc-mean()-Z                            -0.023323         -0.015794   \n",
       "tBodyAcc-std()-X                              0.998656          0.921154   \n",
       "tBodyAcc-std()-Y                              0.923386          0.997320   \n",
       "...                                                ...               ...   \n",
       "angle(tBodyGyroJerkMean,gravityMean)         -0.025205         -0.013152   \n",
       "angle(X,gravityMean)                         -0.370024         -0.376665   \n",
       "angle(Y,gravityMean)                          0.466287          0.522401   \n",
       "angle(Z,gravityMean)                          0.389196          0.427486   \n",
       "subject                                      -0.054814         -0.106383   \n",
       "\n",
       "                                      tBodyAcc-mad()-Z  tBodyAcc-max()-X  ...  \\\n",
       "tBodyAcc-mean()-X                            -0.043303          0.048725  ...   \n",
       "tBodyAcc-mean()-Y                            -0.058559         -0.038544  ...   \n",
       "tBodyAcc-mean()-Z                            -0.012575         -0.040397  ...   \n",
       "tBodyAcc-std()-X                              0.846308          0.981190  ...   \n",
       "tBodyAcc-std()-Y                              0.892843          0.916853  ...   \n",
       "...                                                ...               ...  ...   \n",
       "angle(tBodyGyroJerkMean,gravityMean)         -0.004784         -0.028239  ...   \n",
       "angle(X,gravityMean)                         -0.348279         -0.385300  ...   \n",
       "angle(Y,gravityMean)                          0.474880          0.478832  ...   \n",
       "angle(Z,gravityMean)                          0.477848          0.401217  ...   \n",
       "subject                                      -0.047428         -0.045658  ...   \n",
       "\n",
       "                                      fBodyBodyGyroJerkMag-skewness()  \\\n",
       "tBodyAcc-mean()-X                                           -0.012101   \n",
       "tBodyAcc-mean()-Y                                           -0.003101   \n",
       "tBodyAcc-mean()-Z                                            0.018155   \n",
       "tBodyAcc-std()-X                                             0.151555   \n",
       "tBodyAcc-std()-Y                                             0.209119   \n",
       "...                                                               ...   \n",
       "angle(tBodyGyroJerkMean,gravityMean)                        -0.018015   \n",
       "angle(X,gravityMean)                                        -0.088810   \n",
       "angle(Y,gravityMean)                                         0.092383   \n",
       "angle(Z,gravityMean)                                         0.056005   \n",
       "subject                                                     -0.040148   \n",
       "\n",
       "                                      fBodyBodyGyroJerkMag-kurtosis()  \\\n",
       "tBodyAcc-mean()-X                                           -0.011490   \n",
       "tBodyAcc-mean()-Y                                           -0.003467   \n",
       "tBodyAcc-mean()-Z                                            0.018234   \n",
       "tBodyAcc-std()-X                                             0.116425   \n",
       "tBodyAcc-std()-Y                                             0.177232   \n",
       "...                                                               ...   \n",
       "angle(tBodyGyroJerkMean,gravityMean)                        -0.015179   \n",
       "angle(X,gravityMean)                                        -0.080113   \n",
       "angle(Y,gravityMean)                                         0.080726   \n",
       "angle(Z,gravityMean)                                         0.049690   \n",
       "subject                                                     -0.036173   \n",
       "\n",
       "                                      angle(tBodyAccMean,gravity)  \\\n",
       "tBodyAcc-mean()-X                                       -0.567455   \n",
       "tBodyAcc-mean()-Y                                        0.076995   \n",
       "tBodyAcc-mean()-Z                                        0.056806   \n",
       "tBodyAcc-std()-X                                        -0.043069   \n",
       "tBodyAcc-std()-Y                                        -0.027671   \n",
       "...                                                           ...   \n",
       "angle(tBodyGyroJerkMean,gravityMean)                    -0.027075   \n",
       "angle(X,gravityMean)                                     0.012382   \n",
       "angle(Y,gravityMean)                                    -0.000955   \n",
       "angle(Z,gravityMean)                                    -0.004422   \n",
       "subject                                                 -0.011981   \n",
       "\n",
       "                                      angle(tBodyAccJerkMean),gravityMean)  \\\n",
       "tBodyAcc-mean()-X                                                 0.019251   \n",
       "tBodyAcc-mean()-Y                                                -0.013001   \n",
       "tBodyAcc-mean()-Z                                                -0.036749   \n",
       "tBodyAcc-std()-X                                                 -0.032145   \n",
       "tBodyAcc-std()-Y                                                 -0.022181   \n",
       "...                                                                    ...   \n",
       "angle(tBodyGyroJerkMean,gravityMean)                              0.029856   \n",
       "angle(X,gravityMean)                                              0.020700   \n",
       "angle(Y,gravityMean)                                             -0.013508   \n",
       "angle(Z,gravityMean)                                             -0.014844   \n",
       "subject                                                           0.012204   \n",
       "\n",
       "                                      angle(tBodyGyroMean,gravityMean)  \\\n",
       "tBodyAcc-mean()-X                                             0.034065   \n",
       "tBodyAcc-mean()-Y                                             0.019670   \n",
       "tBodyAcc-mean()-Z                                            -0.054069   \n",
       "tBodyAcc-std()-X                                              0.016542   \n",
       "tBodyAcc-std()-Y                                             -0.012927   \n",
       "...                                                                ...   \n",
       "angle(tBodyGyroJerkMean,gravityMean)                         -0.113677   \n",
       "angle(X,gravityMean)                                         -0.001992   \n",
       "angle(Y,gravityMean)                                         -0.013863   \n",
       "angle(Z,gravityMean)                                         -0.021702   \n",
       "subject                                                       0.001991   \n",
       "\n",
       "                                      angle(tBodyGyroJerkMean,gravityMean)  \\\n",
       "tBodyAcc-mean()-X                                                 0.030968   \n",
       "tBodyAcc-mean()-Y                                                 0.074955   \n",
       "tBodyAcc-mean()-Z                                                -0.035593   \n",
       "tBodyAcc-std()-X                                                 -0.024749   \n",
       "tBodyAcc-std()-Y                                                 -0.015237   \n",
       "...                                                                    ...   \n",
       "angle(tBodyGyroJerkMean,gravityMean)                              1.000000   \n",
       "angle(X,gravityMean)                                              0.012598   \n",
       "angle(Y,gravityMean)                                              0.005132   \n",
       "angle(Z,gravityMean)                                              0.001242   \n",
       "subject                                                           0.010505   \n",
       "\n",
       "                                      angle(X,gravityMean)  \\\n",
       "tBodyAcc-mean()-X                                -0.027010   \n",
       "tBodyAcc-mean()-Y                                 0.000039   \n",
       "tBodyAcc-mean()-Z                                 0.007045   \n",
       "tBodyAcc-std()-X                                 -0.373500   \n",
       "tBodyAcc-std()-Y                                 -0.380258   \n",
       "...                                                    ...   \n",
       "angle(tBodyGyroJerkMean,gravityMean)              0.012598   \n",
       "angle(X,gravityMean)                              1.000000   \n",
       "angle(Y,gravityMean)                             -0.783107   \n",
       "angle(Z,gravityMean)                             -0.639201   \n",
       "subject                                           0.012622   \n",
       "\n",
       "                                      angle(Y,gravityMean)  \\\n",
       "tBodyAcc-mean()-X                                 0.028177   \n",
       "tBodyAcc-mean()-Y                                 0.002376   \n",
       "tBodyAcc-mean()-Z                                -0.017900   \n",
       "tBodyAcc-std()-X                                  0.470834   \n",
       "tBodyAcc-std()-Y                                  0.521249   \n",
       "...                                                    ...   \n",
       "angle(tBodyGyroJerkMean,gravityMean)              0.005132   \n",
       "angle(X,gravityMean)                             -0.783107   \n",
       "angle(Y,gravityMean)                              1.000000   \n",
       "angle(Z,gravityMean)                              0.590883   \n",
       "subject                                           0.002219   \n",
       "\n",
       "                                      angle(Z,gravityMean)   subject  \n",
       "tBodyAcc-mean()-X                                 0.019025  0.027597  \n",
       "tBodyAcc-mean()-Y                                -0.022329  0.006299  \n",
       "tBodyAcc-mean()-Z                                -0.019169 -0.000459  \n",
       "tBodyAcc-std()-X                                  0.392843 -0.055562  \n",
       "tBodyAcc-std()-Y                                  0.429141 -0.107235  \n",
       "...                                                    ...       ...  \n",
       "angle(tBodyGyroJerkMean,gravityMean)              0.001242  0.010505  \n",
       "angle(X,gravityMean)                             -0.639201  0.012622  \n",
       "angle(Y,gravityMean)                              0.590883  0.002219  \n",
       "angle(Z,gravityMean)                              1.000000 -0.085036  \n",
       "subject                                          -0.085036  1.000000  \n",
       "\n",
       "[562 rows x 562 columns]"
      ]
     },
     "execution_count": 9,
     "metadata": {},
     "output_type": "execute_result"
    }
   ],
   "source": [
    "original_data.corr(numeric_only=True)"
   ]
  },
  {
   "cell_type": "code",
   "execution_count": null,
   "metadata": {
    "id": "Jn78I6JFpr3n"
   },
   "outputs": [],
   "source": []
  },
  {
   "cell_type": "markdown",
   "metadata": {
    "id": "JkxLbsvybJci"
   },
   "source": [
    "#### 3) 필요 함수 제작"
   ]
  },
  {
   "cell_type": "code",
   "execution_count": null,
   "metadata": {
    "id": "3snJT6-2bIeB"
   },
   "outputs": [],
   "source": [
    "# 가장 기본적인 pipeline\n",
    "def data01_pipeline(df):\n",
    "  df.drop(columns='subject', inplace=True)\n",
    "\n",
    "  scaler = MinMaxScaler()\n",
    "  df = scaler.fit_transform(df)\n",
    "\n",
    "  return df\n",
    "\n",
    "# STANDING, SITTING, LAYING, WALKING, WALKING-UPSTAIRS, WALKING-DOWNSTAIRS\n",
    "# LabelEncoder 방식으로 변환\n",
    "def data01_pipeline_activity(df):\n",
    "  x = df.drop(columns='Activity')\n",
    "  y = df.loc[:, ['Activity']]\n",
    "\n",
    "  df = data01_pipeline(x)\n",
    "\n",
    "  lenc = LabelEncoder()\n",
    "  y['Activity'] = lenc.fit_transform(y['Activity'])\n",
    "  return df, y['Activity'], lenc.classes_\n",
    "\n",
    "# Activity 기준으로 is_dynamic 변환\n",
    "def data01_pipeline_is_dynamic(df):\n",
    "  x = df.drop(columns='Activity')\n",
    "  y = df.loc[:, ['Activity']]\n",
    "\n",
    "  df = data01_pipeline(x)\n",
    "\n",
    "  y['is_dynamic'] = y['Activity'].apply(lambda x : 1 if x in ('WALKING', 'WALKING_UPSTAIRS', 'WALKING_DOWNSTAIRS') else 0)\n",
    "  y.drop(columns=['Activity'], inplace=True)\n",
    "\n",
    "  return df, y['is_dynamic']\n",
    "\n",
    "# is_dynamic, Activity 전부 출력\n",
    "def data01_pipeline_all(df):\n",
    "  x = df.drop(columns='Activity')\n",
    "  y = df.loc[:, ['Activity']]\n",
    "\n",
    "  df = data01_pipeline(x)\n",
    "\n",
    "  y['is_dynamic'] = y['Activity'].apply(lambda x : 1 if x in ('WALKING', 'WALKING_UPSTAIRS', 'WALKING_DOWNSTAIRS') else 0)\n",
    "\n",
    "  lenc = LabelEncoder()\n",
    "  y['Activity'] = lenc.fit_transform(y['Activity'])\n",
    "  return df, y['Activity'], lenc.classes_, y['is_dynamic']\n",
    "\n",
    "# is_dynamic에 따라 분리를 위한 함수\n",
    "def devide_is_dynamic(df, activity, is_dynamic):\n",
    "  result = pd.concat([pd.DataFrame(df), activity, is_dynamic], axis=1)\n",
    "  dynamic = result.loc[(is_dynamic == 1)]\n",
    "  dynamic_x = dynamic.drop(columns=['Activity', 'is_dynamic'])\n",
    "  dynamic_y = dynamic.loc[:, 'Activity']\n",
    "\n",
    "  static = result.loc[(is_dynamic == 0)]\n",
    "  static_x = static.drop(columns=['Activity', 'is_dynamic'])\n",
    "  static_y = static.loc[:, 'Activity']\n",
    "\n",
    "\n",
    "  return dynamic_x, dynamic_y, static_x, static_y\n",
    "\n",
    "# Loop 테스트 함수\n",
    "def loop_fit_test(param, x_train, y_train, x_val, y_val, loop_count=5, learning_rate=0.001, epochs=100, validation_split=0.2, es_info=None, verbose='auto'):\n",
    "  result = []\n",
    "  history_list = []\n",
    "  model_list = []\n",
    "  for i in range(loop_count):\n",
    "    clear_session()\n",
    "    model = Sequential(eval(param))\n",
    "    model.compile(optimizer=Adam(learning_rate=learning_rate), loss='sparse_categorical_crossentropy')\n",
    "    es = None if es_info is None else [EarlyStopping(monitor=es_info['monitor'], min_delta=es_info['min_delta'], patience=es_info['patience'])]\n",
    "    history = model.fit(x_train, y_train, epochs=epochs, verbose=verbose, validation_split=validation_split, callbacks=es).history\n",
    "    pred = model.predict(x_val)\n",
    "    pred = pred.argmax(axis=1)\n",
    "    result.append({\n",
    "        'accuracy_score' : accuracy_score(y_val, pred),\n",
    "        'confusion_matrix' : confusion_matrix(y_val, pred),\n",
    "        'classification_report' : classification_report(y_val, pred)\n",
    "    })\n",
    "    history_list.append(history)\n",
    "    model_list.append(model)\n",
    "    print(f\"{i+1} 번쨰 학습 Accuracy_score : {result[-1]['accuracy_score']}\")\n",
    "  return result, history_list, model_list"
   ]
  },
  {
   "cell_type": "markdown",
   "metadata": {
    "id": "L4vnMOyNzt3x"
   },
   "source": [
    "## **2. 데이터 전처리**\n",
    "\n",
    "* 가변수화, 데이터 분할, NaN 확인 및 조치, 스케일링 등 필요한 전처리를 수행한다.\n"
   ]
  },
  {
   "cell_type": "markdown",
   "metadata": {
    "id": "I_9sGxvxzt3y"
   },
   "source": [
    "### (1) 데이터 분할1 : x, y"
   ]
  },
  {
   "cell_type": "markdown",
   "metadata": {
    "id": "1TqlYFz-zt3z"
   },
   "source": [
    "* 세부 요구사항\n",
    "    - x, y로 분할합니다."
   ]
  },
  {
   "cell_type": "code",
   "execution_count": null,
   "metadata": {
    "id": "EAm84rxdzt30"
   },
   "outputs": [],
   "source": [
    "# # Activity 전처리 파이프라인\n",
    "# x1, y1, classes1 = data01_pipeline_activity(original_data.copy())\n",
    "# # is_dynamic 전처리 파이프라인\n",
    "# x2, y2 = data01_pipeline_is_dynamic(original_data.copy())\n",
    "\n",
    "# Activity, is_dynamic 통합 전처리 파이프라인 함수\n",
    "x, y_activity, classes, y_is_dynamic = data01_pipeline_all(original_data.copy())\n",
    "\n",
    "# is_dynamic 기준으로 구분\n",
    "# dynamic_x, dynamic_y, static_x, static_y = devide_is_dynamic(train, activity, is_dynamic)"
   ]
  },
  {
   "cell_type": "markdown",
   "metadata": {
    "id": "kH0LsKFizt30"
   },
   "source": [
    "### (2) 스케일링\n"
   ]
  },
  {
   "cell_type": "markdown",
   "metadata": {
    "id": "9EKjPKYjzt31"
   },
   "source": [
    "* 세부 요구사항\n",
    "    - 스케일링을 필요로 하는 알고리즘 사용을 위해서 코드 수행\n",
    "    - min-max 방식 혹은 standard 방식 중 한가지 사용."
   ]
  },
  {
   "cell_type": "code",
   "execution_count": null,
   "metadata": {
    "id": "zkEtWdkUzt31"
   },
   "outputs": [],
   "source": [
    "# 전처리 함수로 처리 진행\n",
    "# MinMax Scaler를 사용"
   ]
  },
  {
   "cell_type": "markdown",
   "metadata": {
    "id": "erf1kwLNL_BG"
   },
   "source": [
    "### (3) Y 전처리\n",
    "* integer encoding : LabelEncoder\n",
    "* (필요시) one-hot encoding"
   ]
  },
  {
   "cell_type": "code",
   "execution_count": null,
   "metadata": {
    "id": "V9ZjiqZxL9vu"
   },
   "outputs": [],
   "source": [
    "# 전처리 함수로 처리 진행\n",
    "# LabelEncoder를 사용"
   ]
  },
  {
   "cell_type": "markdown",
   "metadata": {
    "id": "KvFgLaegzt34"
   },
   "source": [
    "### (4) 데이터분할2 : train, validation"
   ]
  },
  {
   "cell_type": "markdown",
   "metadata": {
    "id": "eaMzPqRmzt34"
   },
   "source": [
    "* 세부 요구사항\n",
    "    - train : val = 8 : 2 혹은 7 : 3\n",
    "    - random_state 옵션을 사용하여 다른 모델과 비교를 위해 성능이 재현되도록 합니다."
   ]
  },
  {
   "cell_type": "code",
   "execution_count": null,
   "metadata": {
    "id": "0UiQn0pmzt35"
   },
   "outputs": [],
   "source": [
    "# activity 분할\n",
    "x_train, x_val, y_train, y_val = train_test_split(x, y_activity, test_size=0.3, random_state=20)\n",
    "\n",
    "# is_dynamic 분할\n",
    "x_train2, x_val2, y_train2, y_val2 = train_test_split(x, y_is_dynamic, test_size=0.3, random_state=20)"
   ]
  },
  {
   "cell_type": "markdown",
   "metadata": {
    "id": "QqIj25L-zt35"
   },
   "source": [
    "## **3. 기본 모델링**\n",
    "\n"
   ]
  },
  {
   "cell_type": "markdown",
   "metadata": {
    "id": "PsIDduJnzt36"
   },
   "source": [
    "* 세부 요구사항\n",
    "    - 모델1 : Base line 모델\n",
    "        * Hidden Layer 없이 모델 생성\n",
    "    - 모델2 : 복잡한 모델 생성\n",
    "        * 최소 5개 이상의 은닉층을 추가한 모델\n",
    "    - 모델3 ~ n : 튜닝 모델\n",
    "        * 학습률, epoch 등 조정\n",
    "        * 모델2에 과적합을 방지하기 위한 규제 기법 추가\n",
    "        * Accuracy 최대화 시키는 모델 생성하기\n",
    "    - 각 모델은 최소 5번 반복수행해서 얻은 성능의 평균값을 기록"
   ]
  },
  {
   "cell_type": "markdown",
   "metadata": {
    "id": "qA1B1nSp2oS_"
   },
   "source": [
    "### (0) 통계 데이터 변수 선언"
   ]
  },
  {
   "cell_type": "code",
   "execution_count": null,
   "metadata": {
    "id": "Pnu2IBHs2m7Y"
   },
   "outputs": [],
   "source": [
    "statistics_result = {}"
   ]
  },
  {
   "cell_type": "markdown",
   "metadata": {
    "id": "WnvECv0azt36"
   },
   "source": [
    "### (1) 모델1\n",
    "\n",
    "Base line 모델입니다. EarlyStopping을 곁들인"
   ]
  },
  {
   "cell_type": "code",
   "execution_count": null,
   "metadata": {
    "colab": {
     "base_uri": "https://localhost:8080/"
    },
    "executionInfo": {
     "elapsed": 90596,
     "status": "ok",
     "timestamp": 1729209220842,
     "user": {
      "displayName": "ByeongJin O",
      "userId": "14912423715743829428"
     },
     "user_tz": -540
    },
    "id": "Knj7SzObz8_2",
    "outputId": "3436608d-ab54-4b47-9487-83d67a1b6571"
   },
   "outputs": [
    {
     "name": "stdout",
     "output_type": "stream",
     "text": [
      "\u001b[1m56/56\u001b[0m \u001b[32m━━━━━━━━━━━━━━━━━━━━\u001b[0m\u001b[37m\u001b[0m \u001b[1m0s\u001b[0m 2ms/step\n",
      "1 번쨰 학습 Accuracy_score : 0.9762039660056657\n",
      "\u001b[1m56/56\u001b[0m \u001b[32m━━━━━━━━━━━━━━━━━━━━\u001b[0m\u001b[37m\u001b[0m \u001b[1m0s\u001b[0m 2ms/step\n",
      "2 번쨰 학습 Accuracy_score : 0.976770538243626\n",
      "\u001b[1m56/56\u001b[0m \u001b[32m━━━━━━━━━━━━━━━━━━━━\u001b[0m\u001b[37m\u001b[0m \u001b[1m0s\u001b[0m 2ms/step\n",
      "3 번쨰 학습 Accuracy_score : 0.9762039660056657\n",
      "\u001b[1m56/56\u001b[0m \u001b[32m━━━━━━━━━━━━━━━━━━━━\u001b[0m\u001b[37m\u001b[0m \u001b[1m0s\u001b[0m 2ms/step\n",
      "4 번쨰 학습 Accuracy_score : 0.973371104815864\n",
      "\u001b[1m56/56\u001b[0m \u001b[32m━━━━━━━━━━━━━━━━━━━━\u001b[0m\u001b[37m\u001b[0m \u001b[1m0s\u001b[0m 2ms/step\n",
      "5 번쨰 학습 Accuracy_score : 0.9716713881019831\n"
     ]
    }
   ],
   "source": [
    "param = '''[Input(shape=(x_train.shape[1],)),\n",
    "        Dense(6, activation='softmax')]'''\n",
    "es_info = {\n",
    "    'monitor': 'val_loss',\n",
    "    'min_delta': 0,\n",
    "    'patience': 5\n",
    "}\n",
    "result, history_list = loop_fit_test(param, x_train, y_train, x_val, y_val, loop_count=5, learning_rate=0.005, epochs=100, validation_split=0.2, es_info=es_info, verbose=0)\n",
    "statistics_result['Model1'] = [result, history_list]"
   ]
  },
  {
   "cell_type": "code",
   "execution_count": null,
   "metadata": {
    "colab": {
     "base_uri": "https://localhost:8080/"
    },
    "executionInfo": {
     "elapsed": 9,
     "status": "ok",
     "timestamp": 1729209220842,
     "user": {
      "displayName": "ByeongJin O",
      "userId": "14912423715743829428"
     },
     "user_tz": -540
    },
    "id": "2-YyTrW3gdg4",
    "outputId": "2b5d8957-f4ca-4d36-d3ba-6a87eec060c7"
   },
   "outputs": [
    {
     "name": "stdout",
     "output_type": "stream",
     "text": [
      "5번 반복 평균 : 0.974844192634561\n",
      "[[312   0   0   0   0   0]\n",
      " [  0 316   7   0   0   0]\n",
      " [  0  37 284   0   0   0]\n",
      " [  0   0   0 290   1   1]\n",
      " [  0   0   0   1 253   0]\n",
      " [  0   0   0   0   3 260]]\n",
      "              precision    recall  f1-score   support\n",
      "\n",
      "           0       1.00      1.00      1.00       312\n",
      "           1       0.90      0.98      0.93       323\n",
      "           2       0.98      0.88      0.93       321\n",
      "           3       1.00      0.99      0.99       292\n",
      "           4       0.98      1.00      0.99       254\n",
      "           5       1.00      0.99      0.99       263\n",
      "\n",
      "    accuracy                           0.97      1765\n",
      "   macro avg       0.97      0.97      0.97      1765\n",
      "weighted avg       0.97      0.97      0.97      1765\n",
      "\n"
     ]
    }
   ],
   "source": [
    "print(f\"{len(result)}번 반복 평균 : {sum([x['accuracy_score'] for x in result]) / len(result)}\")\n",
    "print(result[-1]['confusion_matrix'])\n",
    "print(result[-1]['classification_report'])"
   ]
  },
  {
   "cell_type": "code",
   "execution_count": null,
   "metadata": {
    "colab": {
     "base_uri": "https://localhost:8080/",
     "height": 535
    },
    "collapsed": true,
    "executionInfo": {
     "elapsed": 949,
     "status": "ok",
     "timestamp": 1729209221784,
     "user": {
      "displayName": "ByeongJin O",
      "userId": "14912423715743829428"
     },
     "user_tz": -540
    },
    "id": "r4B2GA36z88O",
    "outputId": "3e0f1d93-7f4c-431b-f264-143db97da01e"
   },
   "outputs": [
    {
     "data": {
      "image/png": "[encoded data removed]",
      "text/plain": [
       "<Figure size 1000x600 with 1 Axes>"
      ]
     },
     "metadata": {},
     "output_type": "display_data"
    }
   ],
   "source": [
    "dl_history_plot(history_list[-1])"
   ]
  },
  {
   "cell_type": "code",
   "execution_count": null,
   "metadata": {
    "id": "DhugCZI5nyRS"
   },
   "outputs": [],
   "source": []
  },
  {
   "cell_type": "code",
   "execution_count": null,
   "metadata": {
    "id": "NwhuwDe2z85Y"
   },
   "outputs": [],
   "source": []
  },
  {
   "cell_type": "markdown",
   "metadata": {
    "id": "howmy2pdOUwh"
   },
   "source": [
    "### (2) 모델2\n",
    "\n",
    "512 Node 히든레이어 5개, EarlyStopping을 곁들인\n",
    "\n",
    "learning_rate = 0.005\n",
    "\n",
    "Created by. 오병진"
   ]
  },
  {
   "cell_type": "code",
   "execution_count": null,
   "metadata": {
    "colab": {
     "base_uri": "https://localhost:8080/"
    },
    "executionInfo": {
     "elapsed": 297705,
     "status": "ok",
     "timestamp": 1729209519484,
     "user": {
      "displayName": "ByeongJin O",
      "userId": "14912423715743829428"
     },
     "user_tz": -540
    },
    "id": "4RbzxM6fz9ji",
    "outputId": "ab590b41-1800-43dc-b018-cad8d47aa4c4"
   },
   "outputs": [
    {
     "name": "stdout",
     "output_type": "stream",
     "text": [
      "\u001b[1m56/56\u001b[0m \u001b[32m━━━━━━━━━━━━━━━━━━━━\u001b[0m\u001b[37m\u001b[0m \u001b[1m0s\u001b[0m 7ms/step\n",
      "1 번쨰 학습 Accuracy_score : 0.9365439093484419\n",
      "\u001b[1m56/56\u001b[0m \u001b[32m━━━━━━━━━━━━━━━━━━━━\u001b[0m\u001b[37m\u001b[0m \u001b[1m0s\u001b[0m 6ms/step\n",
      "2 번쨰 학습 Accuracy_score : 0.9263456090651558\n",
      "\u001b[1m56/56\u001b[0m \u001b[32m━━━━━━━━━━━━━━━━━━━━\u001b[0m\u001b[37m\u001b[0m \u001b[1m0s\u001b[0m 6ms/step\n",
      "3 번쨰 학습 Accuracy_score : 0.9592067988668556\n",
      "\u001b[1m56/56\u001b[0m \u001b[32m━━━━━━━━━━━━━━━━━━━━\u001b[0m\u001b[37m\u001b[0m \u001b[1m0s\u001b[0m 7ms/step\n",
      "4 번쨰 학습 Accuracy_score : 0.9677053824362606\n",
      "\u001b[1m56/56\u001b[0m \u001b[32m━━━━━━━━━━━━━━━━━━━━\u001b[0m\u001b[37m\u001b[0m \u001b[1m0s\u001b[0m 6ms/step\n",
      "5 번쨰 학습 Accuracy_score : 0.9677053824362606\n"
     ]
    }
   ],
   "source": [
    "param = '''[Input(shape=(x_train.shape[1],)),\n",
    "            Dense(512, activation='relu'),\n",
    "            Dense(512, activation='relu'),\n",
    "            Dense(512, activation='relu'),\n",
    "            Dense(512, activation='relu'),\n",
    "            Dense(512, activation='relu'),\n",
    "            Dense(6, activation='softmax')]'''\n",
    "es_info = {\n",
    "    'monitor': 'val_loss',\n",
    "    'min_delta': 0,\n",
    "    'patience': 5\n",
    "}\n",
    "result, history_list = loop_fit_test(param, x_train, y_train, x_val, y_val, loop_count=5, learning_rate=0.005, epochs=100, validation_split=0.2, es_info=es_info, verbose=0)\n",
    "statistics_result['Model2'] = [result, history_list]"
   ]
  },
  {
   "cell_type": "code",
   "execution_count": null,
   "metadata": {
    "colab": {
     "base_uri": "https://localhost:8080/"
    },
    "executionInfo": {
     "elapsed": 8,
     "status": "ok",
     "timestamp": 1729209519484,
     "user": {
      "displayName": "ByeongJin O",
      "userId": "14912423715743829428"
     },
     "user_tz": -540
    },
    "id": "9nm0jxxVz9ji",
    "outputId": "8a6c8358-a642-4d13-a5eb-4ab72c09a782"
   },
   "outputs": [
    {
     "name": "stdout",
     "output_type": "stream",
     "text": [
      "5번 반복 평균 : 0.9515014164305949\n",
      "[[311   1   0   0   0   0]\n",
      " [  0 312  11   0   0   0]\n",
      " [  0  35 286   0   0   0]\n",
      " [  0   0   0 287   0   5]\n",
      " [  0   0   0   1 251   2]\n",
      " [  0   0   0   1   1 261]]\n",
      "              precision    recall  f1-score   support\n",
      "\n",
      "           0       1.00      1.00      1.00       312\n",
      "           1       0.90      0.97      0.93       323\n",
      "           2       0.96      0.89      0.93       321\n",
      "           3       0.99      0.98      0.99       292\n",
      "           4       1.00      0.99      0.99       254\n",
      "           5       0.97      0.99      0.98       263\n",
      "\n",
      "    accuracy                           0.97      1765\n",
      "   macro avg       0.97      0.97      0.97      1765\n",
      "weighted avg       0.97      0.97      0.97      1765\n",
      "\n"
     ]
    }
   ],
   "source": [
    "print(f\"{len(result)}번 반복 평균 : {sum([x['accuracy_score'] for x in result]) / len(result)}\")\n",
    "print(result[-1]['confusion_matrix'])\n",
    "print(result[-1]['classification_report'])"
   ]
  },
  {
   "cell_type": "code",
   "execution_count": null,
   "metadata": {
    "colab": {
     "base_uri": "https://localhost:8080/",
     "height": 535
    },
    "executionInfo": {
     "elapsed": 526,
     "status": "ok",
     "timestamp": 1729209520003,
     "user": {
      "displayName": "ByeongJin O",
      "userId": "14912423715743829428"
     },
     "user_tz": -540
    },
    "id": "OKOXibRCz9jj",
    "outputId": "aacb4bcd-86dd-4d70-e5ae-b48d61c281d4"
   },
   "outputs": [
    {
     "data": {
      "image/png": "[encoded data removed]",
      "text/plain": [
       "<Figure size 1000x600 with 1 Axes>"
      ]
     },
     "metadata": {},
     "output_type": "display_data"
    }
   ],
   "source": [
    "dl_history_plot(history_list[-1])"
   ]
  },
  {
   "cell_type": "code",
   "execution_count": null,
   "metadata": {
    "id": "LGXSnT6bz9jj"
   },
   "outputs": [],
   "source": []
  },
  {
   "cell_type": "markdown",
   "metadata": {
    "id": "lId5dvDwQGEi"
   },
   "source": [
    "### (3) 모델3\n",
    "\n",
    "512, 256, 128, 64 히든 레이어\n",
    "\n",
    "learning_rate = 0.001\n",
    "\n",
    "Created by. 원대안"
   ]
  },
  {
   "cell_type": "code",
   "execution_count": null,
   "metadata": {
    "colab": {
     "base_uri": "https://localhost:8080/"
    },
    "executionInfo": {
     "elapsed": 730215,
     "status": "ok",
     "timestamp": 1729210250723,
     "user": {
      "displayName": "ByeongJin O",
      "userId": "14912423715743829428"
     },
     "user_tz": -540
    },
    "id": "o5Cr8k9-sym0",
    "outputId": "fc2d58c3-f1ea-4515-a087-6636c9e77db0"
   },
   "outputs": [
    {
     "name": "stdout",
     "output_type": "stream",
     "text": [
      "\u001b[1m56/56\u001b[0m \u001b[32m━━━━━━━━━━━━━━━━━━━━\u001b[0m\u001b[37m\u001b[0m \u001b[1m0s\u001b[0m 5ms/step\n",
      "1 번쨰 학습 Accuracy_score : 0.9858356940509915\n",
      "\u001b[1m56/56\u001b[0m \u001b[32m━━━━━━━━━━━━━━━━━━━━\u001b[0m\u001b[37m\u001b[0m \u001b[1m0s\u001b[0m 4ms/step\n",
      "2 번쨰 학습 Accuracy_score : 0.9790368271954675\n",
      "\u001b[1m56/56\u001b[0m \u001b[32m━━━━━━━━━━━━━━━━━━━━\u001b[0m\u001b[37m\u001b[0m \u001b[1m0s\u001b[0m 5ms/step\n",
      "3 번쨰 학습 Accuracy_score : 0.9688385269121813\n",
      "\u001b[1m56/56\u001b[0m \u001b[32m━━━━━━━━━━━━━━━━━━━━\u001b[0m\u001b[37m\u001b[0m \u001b[1m0s\u001b[0m 4ms/step\n",
      "4 번쨰 학습 Accuracy_score : 0.9858356940509915\n",
      "\u001b[1m56/56\u001b[0m \u001b[32m━━━━━━━━━━━━━━━━━━━━\u001b[0m\u001b[37m\u001b[0m \u001b[1m0s\u001b[0m 5ms/step\n",
      "5 번쨰 학습 Accuracy_score : 0.9858356940509915\n"
     ]
    }
   ],
   "source": [
    "param = '''[Input(shape = (x_train.shape[1],)),\n",
    "          Dense(512, activation = 'relu'),\n",
    "          Dense(256, activation = 'relu'),\n",
    "          Dense(128, activation = 'relu'),\n",
    "          Dense(64, activation = 'relu'),\n",
    "          Dense(6, activation = 'softmax')]'''\n",
    "es_info = None\n",
    "result, history_list = loop_fit_test(param, x_train, y_train, x_val, y_val, loop_count=5, learning_rate=0.001, epochs=100, validation_split=0.2, es_info=es_info, verbose=0)\n",
    "statistics_result['Model3'] = [result, history_list]"
   ]
  },
  {
   "cell_type": "code",
   "execution_count": null,
   "metadata": {
    "colab": {
     "base_uri": "https://localhost:8080/"
    },
    "executionInfo": {
     "elapsed": 11,
     "status": "ok",
     "timestamp": 1729210250723,
     "user": {
      "displayName": "ByeongJin O",
      "userId": "14912423715743829428"
     },
     "user_tz": -540
    },
    "id": "y4J7TwMJsym0",
    "outputId": "06b271df-284e-44e3-bb96-74b8d73ceacd"
   },
   "outputs": [
    {
     "name": "stdout",
     "output_type": "stream",
     "text": [
      "5번 반복 평균 : 0.9810764872521247\n",
      "[[312   0   0   0   0   0]\n",
      " [  0 314   9   0   0   0]\n",
      " [  0  13 308   0   0   0]\n",
      " [  0   0   0 291   0   1]\n",
      " [  0   0   0   0 254   0]\n",
      " [  0   0   0   1   1 261]]\n",
      "              precision    recall  f1-score   support\n",
      "\n",
      "           0       1.00      1.00      1.00       312\n",
      "           1       0.96      0.97      0.97       323\n",
      "           2       0.97      0.96      0.97       321\n",
      "           3       1.00      1.00      1.00       292\n",
      "           4       1.00      1.00      1.00       254\n",
      "           5       1.00      0.99      0.99       263\n",
      "\n",
      "    accuracy                           0.99      1765\n",
      "   macro avg       0.99      0.99      0.99      1765\n",
      "weighted avg       0.99      0.99      0.99      1765\n",
      "\n"
     ]
    }
   ],
   "source": [
    "print(f\"{len(result)}번 반복 평균 : {sum([x['accuracy_score'] for x in result]) / len(result)}\")\n",
    "print(result[-1]['confusion_matrix'])\n",
    "print(result[-1]['classification_report'])"
   ]
  },
  {
   "cell_type": "code",
   "execution_count": null,
   "metadata": {
    "colab": {
     "base_uri": "https://localhost:8080/"
    },
    "executionInfo": {
     "elapsed": 346,
     "status": "ok",
     "timestamp": 1729213402653,
     "user": {
      "displayName": "ByeongJin O",
      "userId": "14912423715743829428"
     },
     "user_tz": -540
    },
    "id": "da1EBu48JjPj",
    "outputId": "465805d4-7a1f-4988-8278-44b7d95ff9ea"
   },
   "outputs": [
    {
     "name": "stdout",
     "output_type": "stream",
     "text": [
      "[[312   0   0   0   0   0]\n",
      " [  1 307  15   0   0   0]\n",
      " [  0  14 307   0   0   0]\n",
      " [  0   0   0 289   1   2]\n",
      " [  0   0   0   1 251   2]\n",
      " [  0   0   0   0   3 260]]\n",
      "[[312   0   0   0   0   0]\n",
      " [  1 294  28   0   0   0]\n",
      " [  0   9 312   0   0   0]\n",
      " [  0   0   0 291   0   1]\n",
      " [  0   0   0   2 250   2]\n",
      " [  0   0   0  10   2 251]]\n",
      "[[311   1   0   0   0   0]\n",
      " [  0 297  26   0   0   0]\n",
      " [  0   8 313   0   0   0]\n",
      " [  0   0   0 288   0   4]\n",
      " [  0   0   0   3 250   1]\n",
      " [  0   0   0   1   3 259]]\n",
      "[[312   0   0   0   0   0]\n",
      " [  3 306  14   0   0   0]\n",
      " [  0  22 297   1   0   1]\n",
      " [  0   0   0 289   0   3]\n",
      " [  0   0   0   0 248   6]\n",
      " [  0   0   0   1   1 261]]\n",
      "[[312   0   0   0   0   0]\n",
      " [  1 302  20   0   0   0]\n",
      " [  0  10 311   0   0   0]\n",
      " [  0   0   0 289   1   2]\n",
      " [  0   0   0   1 252   1]\n",
      " [  0   0   0   2   2 259]]\n"
     ]
    }
   ],
   "source": [
    "for i in result:\n",
    "  print(i['confusion_matrix'])\n"
   ]
  },
  {
   "cell_type": "code",
   "execution_count": null,
   "metadata": {
    "colab": {
     "base_uri": "https://localhost:8080/",
     "height": 535
    },
    "executionInfo": {
     "elapsed": 10,
     "status": "ok",
     "timestamp": 1729210250723,
     "user": {
      "displayName": "ByeongJin O",
      "userId": "14912423715743829428"
     },
     "user_tz": -540
    },
    "id": "0k5PsbCHsym0",
    "outputId": "8336b425-3074-4d14-b2f2-6790e29a446d"
   },
   "outputs": [
    {
     "data": {
      "image/png": "[encoded data removed]",
      "text/plain": [
       "<Figure size 1000x600 with 1 Axes>"
      ]
     },
     "metadata": {},
     "output_type": "display_data"
    }
   ],
   "source": [
    "dl_history_plot(history_list[-1])"
   ]
  },
  {
   "cell_type": "code",
   "execution_count": null,
   "metadata": {
    "id": "GJsLIziOz-6F"
   },
   "outputs": [],
   "source": []
  },
  {
   "cell_type": "code",
   "execution_count": null,
   "metadata": {
    "id": "gwXb2CnFz-6G"
   },
   "outputs": [],
   "source": []
  },
  {
   "cell_type": "code",
   "execution_count": null,
   "metadata": {
    "id": "5AoGDqnvz-6G"
   },
   "outputs": [],
   "source": []
  },
  {
   "cell_type": "markdown",
   "metadata": {
    "id": "kSjKuMEbv1vK"
   },
   "source": [
    "### (4) 모델4\n",
    "\n",
    "512, 512, 256, 128, 64, 32 히든레이어\n",
    "\n",
    "2개의 Dropout으로 과적합 방지\n",
    "\n",
    "learning_rate = 0.001\n",
    "\n",
    "Created by. 소혜원"
   ]
  },
  {
   "cell_type": "code",
   "execution_count": null,
   "metadata": {
    "colab": {
     "base_uri": "https://localhost:8080/"
    },
    "executionInfo": {
     "elapsed": 1087137,
     "status": "ok",
     "timestamp": 1729211338338,
     "user": {
      "displayName": "ByeongJin O",
      "userId": "14912423715743829428"
     },
     "user_tz": -540
    },
    "id": "4f8IgsU9szJU",
    "outputId": "f87b8e34-846e-4ca1-fa76-5ada73a4998a"
   },
   "outputs": [
    {
     "name": "stdout",
     "output_type": "stream",
     "text": [
      "\u001b[1m56/56\u001b[0m \u001b[32m━━━━━━━━━━━━━━━━━━━━\u001b[0m\u001b[37m\u001b[0m \u001b[1m0s\u001b[0m 6ms/step\n",
      "1 번쨰 학습 Accuracy_score : 0.9801699716713881\n",
      "\u001b[1m56/56\u001b[0m \u001b[32m━━━━━━━━━━━━━━━━━━━━\u001b[0m\u001b[37m\u001b[0m \u001b[1m1s\u001b[0m 8ms/step\n",
      "2 번쨰 학습 Accuracy_score : 0.9762039660056657\n",
      "\u001b[1m56/56\u001b[0m \u001b[32m━━━━━━━━━━━━━━━━━━━━\u001b[0m\u001b[37m\u001b[0m \u001b[1m1s\u001b[0m 10ms/step\n",
      "3 번쨰 학습 Accuracy_score : 0.9830028328611898\n",
      "\u001b[1m56/56\u001b[0m \u001b[32m━━━━━━━━━━━━━━━━━━━━\u001b[0m\u001b[37m\u001b[0m \u001b[1m0s\u001b[0m 6ms/step\n",
      "4 번쨰 학습 Accuracy_score : 0.9835694050991501\n",
      "\u001b[1m56/56\u001b[0m \u001b[32m━━━━━━━━━━━━━━━━━━━━\u001b[0m\u001b[37m\u001b[0m \u001b[1m0s\u001b[0m 5ms/step\n",
      "5 번쨰 학습 Accuracy_score : 0.969971671388102\n"
     ]
    }
   ],
   "source": [
    "param = '''[Input(shape=(x_train.shape[1],)),\n",
    "        Dense(512, activation='relu'),\n",
    "        Dense(512, activation='relu'),\n",
    "        Dense(256, activation='relu'),\n",
    "        Dropout(0.4),\n",
    "        Dense(128, activation='relu'),\n",
    "        Dropout(0.4),\n",
    "        Dense(64, activation='relu'),\n",
    "        Dense(32, activation='relu'),\n",
    "        Dense(6, activation='softmax')]'''\n",
    "es_info = None\n",
    "result, history_list = loop_fit_test(param, x_train, y_train, x_val, y_val, loop_count=5, learning_rate=0.001, epochs=100, validation_split=0.2, es_info=es_info, verbose=0)\n",
    "statistics_result['Model4'] = [result, history_list]"
   ]
  },
  {
   "cell_type": "code",
   "execution_count": null,
   "metadata": {
    "colab": {
     "base_uri": "https://localhost:8080/"
    },
    "executionInfo": {
     "elapsed": 318,
     "status": "ok",
     "timestamp": 1729211338646,
     "user": {
      "displayName": "ByeongJin O",
      "userId": "14912423715743829428"
     },
     "user_tz": -540
    },
    "id": "ldEQVmUXszJU",
    "outputId": "ea32ed32-a0c7-4afe-fa92-16e4ea7a7916"
   },
   "outputs": [
    {
     "name": "stdout",
     "output_type": "stream",
     "text": [
      "5번 반복 평균 : 0.9785835694050992\n",
      "[[312   0   0   0   0   0]\n",
      " [  0 314   9   0   0   0]\n",
      " [  0  27 294   0   0   0]\n",
      " [  0   0   0 292   0   0]\n",
      " [  0   0   0  13 239   2]\n",
      " [  0   0   0   2   0 261]]\n",
      "              precision    recall  f1-score   support\n",
      "\n",
      "           0       1.00      1.00      1.00       312\n",
      "           1       0.92      0.97      0.95       323\n",
      "           2       0.97      0.92      0.94       321\n",
      "           3       0.95      1.00      0.97       292\n",
      "           4       1.00      0.94      0.97       254\n",
      "           5       0.99      0.99      0.99       263\n",
      "\n",
      "    accuracy                           0.97      1765\n",
      "   macro avg       0.97      0.97      0.97      1765\n",
      "weighted avg       0.97      0.97      0.97      1765\n",
      "\n"
     ]
    }
   ],
   "source": [
    "print(f\"{len(result)}번 반복 평균 : {sum([x['accuracy_score'] for x in result]) / len(result)}\")\n",
    "print(result[-1]['confusion_matrix'])\n",
    "print(result[-1]['classification_report'])"
   ]
  },
  {
   "cell_type": "code",
   "execution_count": null,
   "metadata": {
    "colab": {
     "base_uri": "https://localhost:8080/",
     "height": 535
    },
    "executionInfo": {
     "elapsed": 534,
     "status": "ok",
     "timestamp": 1729211339172,
     "user": {
      "displayName": "ByeongJin O",
      "userId": "14912423715743829428"
     },
     "user_tz": -540
    },
    "id": "xXkaftODszJU",
    "outputId": "0643537b-dc61-490a-ea07-598c0dd24021"
   },
   "outputs": [
    {
     "data": {
      "image/png": "[encoded data removed]",
      "text/plain": [
       "<Figure size 1000x600 with 1 Axes>"
      ]
     },
     "metadata": {},
     "output_type": "display_data"
    }
   ],
   "source": [
    "dl_history_plot(history_list[-1])"
   ]
  },
  {
   "cell_type": "code",
   "execution_count": null,
   "metadata": {
    "id": "JKW9t5-b0AH8"
   },
   "outputs": [],
   "source": []
  },
  {
   "cell_type": "code",
   "execution_count": null,
   "metadata": {
    "id": "5LviYQi-0AH9"
   },
   "outputs": [],
   "source": []
  },
  {
   "cell_type": "code",
   "execution_count": null,
   "metadata": {
    "id": "D91OxYLW0AH9"
   },
   "outputs": [],
   "source": []
  },
  {
   "cell_type": "markdown",
   "metadata": {
    "id": "2NlKrjo8tHNn"
   },
   "source": [
    "### (5) 모델5\n",
    "\n",
    "256, 256, 128, 64, 32 히든레이어\n",
    "\n",
    "5개의 Dropout으로 과적합 방지\n",
    "\n",
    "EarlyStopping 적용\n",
    "\n",
    "learning_rate = 0.0001\n",
    "epochs = 150\n",
    "\n",
    "Created by. 서영민"
   ]
  },
  {
   "cell_type": "code",
   "execution_count": null,
   "metadata": {
    "colab": {
     "base_uri": "https://localhost:8080/"
    },
    "executionInfo": {
     "elapsed": 546865,
     "status": "ok",
     "timestamp": 1729211994520,
     "user": {
      "displayName": "ByeongJin O",
      "userId": "14912423715743829428"
     },
     "user_tz": -540
    },
    "id": "mg-GVJ73tGfK",
    "outputId": "e40a3ab1-847d-4989-da37-30ed5e0c0fff"
   },
   "outputs": [
    {
     "name": "stdout",
     "output_type": "stream",
     "text": [
      "\u001b[1m56/56\u001b[0m \u001b[32m━━━━━━━━━━━━━━━━━━━━\u001b[0m\u001b[37m\u001b[0m \u001b[1m0s\u001b[0m 4ms/step\n",
      "1 번쨰 학습 Accuracy_score : 0.9813031161473088\n",
      "\u001b[1m56/56\u001b[0m \u001b[32m━━━━━━━━━━━━━━━━━━━━\u001b[0m\u001b[37m\u001b[0m \u001b[1m0s\u001b[0m 4ms/step\n",
      "2 번쨰 학습 Accuracy_score : 0.9818696883852691\n",
      "\u001b[1m56/56\u001b[0m \u001b[32m━━━━━━━━━━━━━━━━━━━━\u001b[0m\u001b[37m\u001b[0m \u001b[1m0s\u001b[0m 5ms/step\n",
      "3 번쨰 학습 Accuracy_score : 0.9756373937677054\n",
      "\u001b[1m56/56\u001b[0m \u001b[32m━━━━━━━━━━━━━━━━━━━━\u001b[0m\u001b[37m\u001b[0m \u001b[1m0s\u001b[0m 4ms/step\n",
      "4 번쨰 학습 Accuracy_score : 0.9711048158640226\n",
      "\u001b[1m56/56\u001b[0m \u001b[32m━━━━━━━━━━━━━━━━━━━━\u001b[0m\u001b[37m\u001b[0m \u001b[1m0s\u001b[0m 4ms/step\n",
      "5 번쨰 학습 Accuracy_score : 0.9824362606232294\n"
     ]
    }
   ],
   "source": [
    "param = '''[Input(shape=(x_train.shape[1],)),\n",
    "          Dense(256, activation='relu'),\n",
    "          Dropout(0.2),\n",
    "          Dense(256, activation='relu'),\n",
    "          Dropout(0.2),\n",
    "          Dense(128, activation='relu'),\n",
    "          Dropout(0.2),\n",
    "          Dense(64, activation='relu'),\n",
    "          Dropout(0.2),\n",
    "          Dense(32, activation='relu'),\n",
    "          Dropout(0.2),\n",
    "          Dense(6, activation='softmax')]'''\n",
    "es_info = {\n",
    "    'monitor': 'val_loss',\n",
    "    'min_delta': 0.001,\n",
    "    'patience': 20\n",
    "}\n",
    "result, history_list = loop_fit_test(param, x_train, y_train, x_val, y_val, loop_count=5, learning_rate=0.0001, epochs=150, validation_split=0.2, es_info=es_info, verbose=0)\n",
    "statistics_result['Model5'] = [result, history_list]"
   ]
  },
  {
   "cell_type": "code",
   "execution_count": null,
   "metadata": {
    "colab": {
     "base_uri": "https://localhost:8080/"
    },
    "executionInfo": {
     "elapsed": 5,
     "status": "ok",
     "timestamp": 1729211994522,
     "user": {
      "displayName": "ByeongJin O",
      "userId": "14912423715743829428"
     },
     "user_tz": -540
    },
    "id": "azmaA6u5tGfL",
    "outputId": "d0a7459b-2c55-4034-e439-226cd10cf010"
   },
   "outputs": [
    {
     "name": "stdout",
     "output_type": "stream",
     "text": [
      "5번 반복 평균 : 0.9784702549575071\n",
      "[[312   0   0   0   0   0]\n",
      " [  0 310  13   0   0   0]\n",
      " [  0  13 308   0   0   0]\n",
      " [  0   0   0 289   1   2]\n",
      " [  0   0   0   0 253   1]\n",
      " [  0   0   0   0   1 262]]\n",
      "              precision    recall  f1-score   support\n",
      "\n",
      "           0       1.00      1.00      1.00       312\n",
      "           1       0.96      0.96      0.96       323\n",
      "           2       0.96      0.96      0.96       321\n",
      "           3       1.00      0.99      0.99       292\n",
      "           4       0.99      1.00      0.99       254\n",
      "           5       0.99      1.00      0.99       263\n",
      "\n",
      "    accuracy                           0.98      1765\n",
      "   macro avg       0.98      0.98      0.98      1765\n",
      "weighted avg       0.98      0.98      0.98      1765\n",
      "\n"
     ]
    }
   ],
   "source": [
    "print(f\"{len(result)}번 반복 평균 : {sum([x['accuracy_score'] for x in result]) / len(result)}\")\n",
    "print(result[-1]['confusion_matrix'])\n",
    "print(result[-1]['classification_report'])"
   ]
  },
  {
   "cell_type": "code",
   "execution_count": null,
   "metadata": {
    "colab": {
     "base_uri": "https://localhost:8080/",
     "height": 535
    },
    "executionInfo": {
     "elapsed": 645,
     "status": "ok",
     "timestamp": 1729211995164,
     "user": {
      "displayName": "ByeongJin O",
      "userId": "14912423715743829428"
     },
     "user_tz": -540
    },
    "id": "2I-GnR8TtGfL",
    "outputId": "f370e5bb-94a5-40f0-ae1d-fe403dd24237"
   },
   "outputs": [
    {
     "data": {
      "image/png": "[encoded data removed]",
      "text/plain": [
       "<Figure size 1000x600 with 1 Axes>"
      ]
     },
     "metadata": {},
     "output_type": "display_data"
    }
   ],
   "source": [
    "dl_history_plot(history_list[-1])"
   ]
  },
  {
   "cell_type": "markdown",
   "metadata": {
    "id": "fXVqsTVaw5hk"
   },
   "source": [
    "### (6) 모델6\n",
    "\n",
    "3개의 Input (Acc, Gyro, Angle) 으로 분할\n",
    "> 각각 50, 50, 10 개의 히든 레이어로 연결\n",
    "\n",
    "> concatenate로 히든레이어 병합\n",
    "\n",
    "> 2개의 추가 히든레이어\n",
    "\n",
    "learning_rate = 0.001\n",
    "epochs = 100\n",
    "\n",
    "Created by. 남다윤"
   ]
  },
  {
   "cell_type": "code",
   "execution_count": null,
   "metadata": {
    "id": "NxdCIRdnyxXp"
   },
   "outputs": [],
   "source": [
    "def func_dl_process(x_train, x_val, y_train, y_val):\n",
    "  x_train = pd.DataFrame(x_train)\n",
    "  x_val = pd.DataFrame(x_val)\n",
    "\n",
    "  # 다중입력 모델링 (가속도, 각속도, angle센서(중력가속도와 각속도 등등의 벡터))\n",
    "  # 'Acc'가 포함되면서 'angle'이 포함되지 않은 컬럼을 선택하여 x_train1에 저장\n",
    "  x_train1 = x_train.filter(like='Acc').filter(regex='^(?!.*angle).*$', axis=1)\n",
    "  x_val1 = x_val.filter(like='Acc').filter(regex='^(?!.*angle).*$', axis=1)\n",
    "\n",
    "  # 'Gyro'가 포함되면서 'angle'이 포함되지 않은 컬럼을 선택하여 x_train2에 저장\n",
    "  x_train2 = x_train.filter(like='Gyro').filter(regex='^(?!.*angle).*$', axis=1)\n",
    "  x_val2 = x_val.filter(like='Gyro').filter(regex='^(?!.*angle).*$', axis=1)\n",
    "\n",
    "  # 'angle' 컬럼  x_train3에 저장\n",
    "  x_train3 = x_train.drop(columns=x_train1.columns).drop(columns=x_train2.columns)\n",
    "  x_val3 = x_val.drop(columns=x_val1.columns).drop(columns=x_val2.columns)\n",
    "\n",
    "  #입력\n",
    "  input_1 = Input(shape=(x_train1.shape[1],),name='input_1')\n",
    "  input_2 = Input(shape=(x_train2.shape[1],),name='input_2')\n",
    "  input_3 = Input(shape=(x_train3.shape[1],),name='input_3')\n",
    "\n",
    "  # 첫번째 입력을 위한 레이어\n",
    "  hl1_1=Dense(50,activation='relu')(input_1)\n",
    "  hl1_2=Dense(50,activation='relu')(input_2)\n",
    "  hl1_3=Dense(10,activation='relu')(input_3)\n",
    "\n",
    "  #세 히든레이어 결함\n",
    "  cbl = concatenate([hl1_1,hl1_2,hl1_3])\n",
    "\n",
    "  #추가 히든레이어\n",
    "  hl2 = Dense(32,activation='relu')(cbl)\n",
    "  hl3 = Dense(16,activation='relu')(hl2)\n",
    "\n",
    "  #출력\n",
    "  output = Dense(6,activation='softmax')(hl3)\n",
    "\n",
    "  #모델 선언\n",
    "  model = Model(inputs=[input_1,input_2,input_3],outputs = output)\n",
    "\n",
    "  model.compile(optimizer=Adam(learning_rate=0.001), loss='sparse_categorical_crossentropy')\n",
    "  history = model.fit([x_train1, x_train2, x_train3], y_train, epochs=100, verbose=0, validation_split=0.2).history\n",
    "  pred = model.predict([x_val1, x_val2, x_val3])\n",
    "  pred = pred.argmax(axis=1)\n",
    "  result = {\n",
    "      'accuracy_score' : accuracy_score(y_val, pred),\n",
    "      'confusion_matrix' : confusion_matrix(y_val, pred),\n",
    "      'classification_report' : classification_report(y_val, pred)\n",
    "  }\n",
    "  return result, history"
   ]
  },
  {
   "cell_type": "code",
   "execution_count": null,
   "metadata": {
    "colab": {
     "base_uri": "https://localhost:8080/"
    },
    "executionInfo": {
     "elapsed": 212430,
     "status": "ok",
     "timestamp": 1729212207594,
     "user": {
      "displayName": "ByeongJin O",
      "userId": "14912423715743829428"
     },
     "user_tz": -540
    },
    "id": "2Gut1-Fzw5hl",
    "outputId": "0f449fdb-3b06-4f04-d90f-5d8a8e869049"
   },
   "outputs": [
    {
     "name": "stdout",
     "output_type": "stream",
     "text": [
      "\u001b[1m56/56\u001b[0m \u001b[32m━━━━━━━━━━━━━━━━━━━━\u001b[0m\u001b[37m\u001b[0m \u001b[1m0s\u001b[0m 3ms/step\n",
      "1 번쨰 학습 Accuracy_score : 0.9779036827195468\n",
      "\u001b[1m56/56\u001b[0m \u001b[32m━━━━━━━━━━━━━━━━━━━━\u001b[0m\u001b[37m\u001b[0m \u001b[1m0s\u001b[0m 3ms/step\n",
      "2 번쨰 학습 Accuracy_score : 0.9688385269121813\n",
      "\u001b[1m56/56\u001b[0m \u001b[32m━━━━━━━━━━━━━━━━━━━━\u001b[0m\u001b[37m\u001b[0m \u001b[1m0s\u001b[0m 3ms/step\n",
      "3 번쨰 학습 Accuracy_score : 0.973371104815864\n",
      "\u001b[1m56/56\u001b[0m \u001b[32m━━━━━━━━━━━━━━━━━━━━\u001b[0m\u001b[37m\u001b[0m \u001b[1m0s\u001b[0m 3ms/step\n",
      "4 번쨰 학습 Accuracy_score : 0.9705382436260623\n",
      "\u001b[1m56/56\u001b[0m \u001b[32m━━━━━━━━━━━━━━━━━━━━\u001b[0m\u001b[37m\u001b[0m \u001b[1m0s\u001b[0m 4ms/step\n",
      "5 번쨰 학습 Accuracy_score : 0.9773371104815864\n"
     ]
    }
   ],
   "source": [
    "result = []\n",
    "history_list = []\n",
    "for i in range(5):\n",
    "  score, history = func_dl_process(x_train, x_val, y_train, y_val)\n",
    "  result.append(score)\n",
    "  history_list.append(history)\n",
    "  print(f\"{i+1} 번쨰 학습 Accuracy_score : {score['accuracy_score']}\")\n",
    "statistics_result['Model6'] = [result, history_list]"
   ]
  },
  {
   "cell_type": "code",
   "execution_count": null,
   "metadata": {
    "colab": {
     "base_uri": "https://localhost:8080/"
    },
    "executionInfo": {
     "elapsed": 1173,
     "status": "ok",
     "timestamp": 1729212709670,
     "user": {
      "displayName": "ByeongJin O",
      "userId": "14912423715743829428"
     },
     "user_tz": -540
    },
    "id": "HvVobvWYG-I3",
    "outputId": "6d832986-88ab-46c1-def1-aa7c371163c4"
   },
   "outputs": [
    {
     "name": "stdout",
     "output_type": "stream",
     "text": [
      "5번 반복 평균 : 0.9735977337110482\n",
      "[[312   0   0   0   0   0]\n",
      " [  1 302  20   0   0   0]\n",
      " [  0  10 311   0   0   0]\n",
      " [  0   0   0 289   1   2]\n",
      " [  0   0   0   1 252   1]\n",
      " [  0   0   0   2   2 259]]\n",
      "              precision    recall  f1-score   support\n",
      "\n",
      "           0       1.00      1.00      1.00       312\n",
      "           1       0.97      0.93      0.95       323\n",
      "           2       0.94      0.97      0.95       321\n",
      "           3       0.99      0.99      0.99       292\n",
      "           4       0.99      0.99      0.99       254\n",
      "           5       0.99      0.98      0.99       263\n",
      "\n",
      "    accuracy                           0.98      1765\n",
      "   macro avg       0.98      0.98      0.98      1765\n",
      "weighted avg       0.98      0.98      0.98      1765\n",
      "\n"
     ]
    }
   ],
   "source": [
    "print(f\"{len(result)}번 반복 평균 : {sum([x['accuracy_score'] for x in result]) / len(result)}\")\n",
    "print(result[-1]['confusion_matrix'])\n",
    "print(result[-1]['classification_report'])"
   ]
  },
  {
   "cell_type": "code",
   "execution_count": null,
   "metadata": {
    "colab": {
     "base_uri": "https://localhost:8080/",
     "height": 535
    },
    "executionInfo": {
     "elapsed": 1408,
     "status": "ok",
     "timestamp": 1729212716448,
     "user": {
      "displayName": "ByeongJin O",
      "userId": "14912423715743829428"
     },
     "user_tz": -540
    },
    "id": "DzvrRy51G-I4",
    "outputId": "8451a880-2906-42f8-a170-4c5f02a4a69f"
   },
   "outputs": [
    {
     "data": {
      "image/png": "[encoded data removed]",
      "text/plain": [
       "<Figure size 1000x600 with 1 Axes>"
      ]
     },
     "metadata": {},
     "output_type": "display_data"
    }
   ],
   "source": [
    "dl_history_plot(history_list[-1])"
   ]
  },
  {
   "cell_type": "markdown",
   "metadata": {
    "id": "_OTuXbgHzt4H"
   },
   "source": [
    "## 4.성능비교"
   ]
  },
  {
   "cell_type": "markdown",
   "metadata": {
    "id": "2TjwzbyYzt4I"
   },
   "source": [
    "* 세부 요구사항\n",
    "    - test 데이터에 대한 전처리\n",
    "    - 각 모델에 대해서 test 데이터로 성능 측정"
   ]
  },
  {
   "cell_type": "code",
   "execution_count": null,
   "metadata": {
    "colab": {
     "base_uri": "https://localhost:8080/",
     "height": 300
    },
    "executionInfo": {
     "elapsed": 1044,
     "status": "ok",
     "timestamp": 1729212695365,
     "user": {
      "displayName": "ByeongJin O",
      "userId": "14912423715743829428"
     },
     "user_tz": -540
    },
    "id": "3Y10D1FsiNEt",
    "outputId": "d7774e86-fe23-41da-bcbc-80bdef9ab4d7"
   },
   "outputs": [
    {
     "data": {
      "application/vnd.google.colaboratory.intrinsic+json": {
       "summary": "{\n  \"name\": \"df\",\n  \"rows\": 8,\n  \"fields\": [\n    {\n      \"column\": \"Model1\",\n      \"properties\": {\n        \"dtype\": \"number\",\n        \"std\": 1.5110622320273182,\n        \"min\": 0.0022161594578592393,\n        \"max\": 5.0,\n        \"num_unique_values\": 7,\n        \"samples\": [\n          5.0,\n          0.974844192634561,\n          0.9762039660056657\n        ],\n        \"semantic_type\": \"\",\n        \"description\": \"\"\n      }\n    },\n    {\n      \"column\": \"Model2\",\n      \"properties\": {\n        \"dtype\": \"number\",\n        \"std\": 1.5141104056871553,\n        \"min\": 0.018980592782064976,\n        \"max\": 5.0,\n        \"num_unique_values\": 7,\n        \"samples\": [\n          5.0,\n          0.9515014164305949,\n          0.9592067988668556\n        ],\n        \"semantic_type\": \"\",\n        \"description\": \"\"\n      }\n    },\n    {\n      \"column\": \"Model3\",\n      \"properties\": {\n        \"dtype\": \"number\",\n        \"std\": 1.5090533157075214,\n        \"min\": 0.007447785484489492,\n        \"max\": 5.0,\n        \"num_unique_values\": 6,\n        \"samples\": [\n          5.0,\n          0.9810764872521247,\n          0.9858356940509915\n        ],\n        \"semantic_type\": \"\",\n        \"description\": \"\"\n      }\n    },\n    {\n      \"column\": \"Model4\",\n      \"properties\": {\n        \"dtype\": \"number\",\n        \"std\": 1.5098210906310305,\n        \"min\": 0.00562877471139706,\n        \"max\": 5.0,\n        \"num_unique_values\": 8,\n        \"samples\": [\n          0.9785835694050992,\n          0.9801699716713881,\n          5.0\n        ],\n        \"semantic_type\": \"\",\n        \"description\": \"\"\n      }\n    },\n    {\n      \"column\": \"Model5\",\n      \"properties\": {\n        \"dtype\": \"number\",\n        \"std\": 1.509932572759767,\n        \"min\": 0.004939262258969598,\n        \"max\": 5.0,\n        \"num_unique_values\": 8,\n        \"samples\": [\n          0.9784702549575071,\n          0.9813031161473088,\n          5.0\n        ],\n        \"semantic_type\": \"\",\n        \"description\": \"\"\n      }\n    },\n    {\n      \"column\": \"Model6\",\n      \"properties\": {\n        \"dtype\": \"number\",\n        \"std\": 1.5111038265576133,\n        \"min\": 0.004018271552747238,\n        \"max\": 5.0,\n        \"num_unique_values\": 8,\n        \"samples\": [\n          0.9735977337110482,\n          0.973371104815864,\n          5.0\n        ],\n        \"semantic_type\": \"\",\n        \"description\": \"\"\n      }\n    }\n  ]\n}",
       "type": "dataframe"
      },
      "text/html": [
       "\n",
       "  <div id=\"df-36a4eb39-5269-4319-9b69-2437f638446e\" class=\"colab-df-container\">\n",
       "    <div>\n",
       "<style scoped>\n",
       "    .dataframe tbody tr th:only-of-type {\n",
       "        vertical-align: middle;\n",
       "    }\n",
       "\n",
       "    .dataframe tbody tr th {\n",
       "        vertical-align: top;\n",
       "    }\n",
       "\n",
       "    .dataframe thead th {\n",
       "        text-align: right;\n",
       "    }\n",
       "</style>\n",
       "<table border=\"1\" class=\"dataframe\">\n",
       "  <thead>\n",
       "    <tr style=\"text-align: right;\">\n",
       "      <th>name</th>\n",
       "      <th>Model1</th>\n",
       "      <th>Model2</th>\n",
       "      <th>Model3</th>\n",
       "      <th>Model4</th>\n",
       "      <th>Model5</th>\n",
       "      <th>Model6</th>\n",
       "    </tr>\n",
       "  </thead>\n",
       "  <tbody>\n",
       "    <tr>\n",
       "      <th>count</th>\n",
       "      <td>5.000000</td>\n",
       "      <td>5.000000</td>\n",
       "      <td>5.000000</td>\n",
       "      <td>5.000000</td>\n",
       "      <td>5.000000</td>\n",
       "      <td>5.000000</td>\n",
       "    </tr>\n",
       "    <tr>\n",
       "      <th>mean</th>\n",
       "      <td>0.974844</td>\n",
       "      <td>0.951501</td>\n",
       "      <td>0.981076</td>\n",
       "      <td>0.978584</td>\n",
       "      <td>0.978470</td>\n",
       "      <td>0.973598</td>\n",
       "    </tr>\n",
       "    <tr>\n",
       "      <th>std</th>\n",
       "      <td>0.002216</td>\n",
       "      <td>0.018981</td>\n",
       "      <td>0.007448</td>\n",
       "      <td>0.005629</td>\n",
       "      <td>0.004939</td>\n",
       "      <td>0.004018</td>\n",
       "    </tr>\n",
       "    <tr>\n",
       "      <th>min</th>\n",
       "      <td>0.971671</td>\n",
       "      <td>0.926346</td>\n",
       "      <td>0.968839</td>\n",
       "      <td>0.969972</td>\n",
       "      <td>0.971105</td>\n",
       "      <td>0.968839</td>\n",
       "    </tr>\n",
       "    <tr>\n",
       "      <th>25%</th>\n",
       "      <td>0.973371</td>\n",
       "      <td>0.936544</td>\n",
       "      <td>0.979037</td>\n",
       "      <td>0.976204</td>\n",
       "      <td>0.975637</td>\n",
       "      <td>0.970538</td>\n",
       "    </tr>\n",
       "    <tr>\n",
       "      <th>50%</th>\n",
       "      <td>0.976204</td>\n",
       "      <td>0.959207</td>\n",
       "      <td>0.985836</td>\n",
       "      <td>0.980170</td>\n",
       "      <td>0.981303</td>\n",
       "      <td>0.973371</td>\n",
       "    </tr>\n",
       "    <tr>\n",
       "      <th>75%</th>\n",
       "      <td>0.976204</td>\n",
       "      <td>0.967705</td>\n",
       "      <td>0.985836</td>\n",
       "      <td>0.983003</td>\n",
       "      <td>0.981870</td>\n",
       "      <td>0.977337</td>\n",
       "    </tr>\n",
       "    <tr>\n",
       "      <th>max</th>\n",
       "      <td>0.976771</td>\n",
       "      <td>0.967705</td>\n",
       "      <td>0.985836</td>\n",
       "      <td>0.983569</td>\n",
       "      <td>0.982436</td>\n",
       "      <td>0.977904</td>\n",
       "    </tr>\n",
       "  </tbody>\n",
       "</table>\n",
       "</div>\n",
       "    <div class=\"colab-df-buttons\">\n",
       "\n",
       "  <div class=\"colab-df-container\">\n",
       "    <button class=\"colab-df-convert\" onclick=\"convertToInteractive('df-36a4eb39-5269-4319-9b69-2437f638446e')\"\n",
       "            title=\"Convert this dataframe to an interactive table.\"\n",
       "            style=\"display:none;\">\n",
       "\n",
       "  <svg xmlns=\"http://www.w3.org/2000/svg\" height=\"24px\" viewBox=\"0 -960 960 960\">\n",
       "    <path d=\"M120-120v-720h720v720H120Zm60-500h600v-160H180v160Zm220 220h160v-160H400v160Zm0 220h160v-160H400v160ZM180-400h160v-160H180v160Zm440 0h160v-160H620v160ZM180-180h160v-160H180v160Zm440 0h160v-160H620v160Z\"/>\n",
       "  </svg>\n",
       "    </button>\n",
       "\n",
       "  <style>\n",
       "    .colab-df-container {\n",
       "      display:flex;\n",
       "      gap: 12px;\n",
       "    }\n",
       "\n",
       "    .colab-df-convert {\n",
       "      background-color: #E8F0FE;\n",
       "      border: none;\n",
       "      border-radius: 50%;\n",
       "      cursor: pointer;\n",
       "      display: none;\n",
       "      fill: #1967D2;\n",
       "      height: 32px;\n",
       "      padding: 0 0 0 0;\n",
       "      width: 32px;\n",
       "    }\n",
       "\n",
       "    .colab-df-convert:hover {\n",
       "      background-color: #E2EBFA;\n",
       "      box-shadow: 0px 1px 2px rgba(60, 64, 67, 0.3), 0px 1px 3px 1px rgba(60, 64, 67, 0.15);\n",
       "      fill: #174EA6;\n",
       "    }\n",
       "\n",
       "    .colab-df-buttons div {\n",
       "      margin-bottom: 4px;\n",
       "    }\n",
       "\n",
       "    [theme=dark] .colab-df-convert {\n",
       "      background-color: #3B4455;\n",
       "      fill: #D2E3FC;\n",
       "    }\n",
       "\n",
       "    [theme=dark] .colab-df-convert:hover {\n",
       "      background-color: #434B5C;\n",
       "      box-shadow: 0px 1px 3px 1px rgba(0, 0, 0, 0.15);\n",
       "      filter: drop-shadow(0px 1px 2px rgba(0, 0, 0, 0.3));\n",
       "      fill: #FFFFFF;\n",
       "    }\n",
       "  </style>\n",
       "\n",
       "    <script>\n",
       "      const buttonEl =\n",
       "        document.querySelector('#df-36a4eb39-5269-4319-9b69-2437f638446e button.colab-df-convert');\n",
       "      buttonEl.style.display =\n",
       "        google.colab.kernel.accessAllowed ? 'block' : 'none';\n",
       "\n",
       "      async function convertToInteractive(key) {\n",
       "        const element = document.querySelector('#df-36a4eb39-5269-4319-9b69-2437f638446e');\n",
       "        const dataTable =\n",
       "          await google.colab.kernel.invokeFunction('convertToInteractive',\n",
       "                                                    [key], {});\n",
       "        if (!dataTable) return;\n",
       "\n",
       "        const docLinkHtml = 'Like what you see? Visit the ' +\n",
       "          '<a target=\"_blank\" href=https://colab.research.google.com/notebooks/data_table.ipynb>data table notebook</a>'\n",
       "          + ' to learn more about interactive tables.';\n",
       "        element.innerHTML = '';\n",
       "        dataTable['output_type'] = 'display_data';\n",
       "        await google.colab.output.renderOutput(dataTable, element);\n",
       "        const docLink = document.createElement('div');\n",
       "        docLink.innerHTML = docLinkHtml;\n",
       "        element.appendChild(docLink);\n",
       "      }\n",
       "    </script>\n",
       "  </div>\n",
       "\n",
       "\n",
       "<div id=\"df-9fc1fb9f-7905-490a-bf1f-0ba40115420d\">\n",
       "  <button class=\"colab-df-quickchart\" onclick=\"quickchart('df-9fc1fb9f-7905-490a-bf1f-0ba40115420d')\"\n",
       "            title=\"Suggest charts\"\n",
       "            style=\"display:none;\">\n",
       "\n",
       "<svg xmlns=\"http://www.w3.org/2000/svg\" height=\"24px\"viewBox=\"0 0 24 24\"\n",
       "     width=\"24px\">\n",
       "    <g>\n",
       "        <path d=\"M19 3H5c-1.1 0-2 .9-2 2v14c0 1.1.9 2 2 2h14c1.1 0 2-.9 2-2V5c0-1.1-.9-2-2-2zM9 17H7v-7h2v7zm4 0h-2V7h2v10zm4 0h-2v-4h2v4z\"/>\n",
       "    </g>\n",
       "</svg>\n",
       "  </button>\n",
       "\n",
       "<style>\n",
       "  .colab-df-quickchart {\n",
       "      --bg-color: #E8F0FE;\n",
       "      --fill-color: #1967D2;\n",
       "      --hover-bg-color: #E2EBFA;\n",
       "      --hover-fill-color: #174EA6;\n",
       "      --disabled-fill-color: #AAA;\n",
       "      --disabled-bg-color: #DDD;\n",
       "  }\n",
       "\n",
       "  [theme=dark] .colab-df-quickchart {\n",
       "      --bg-color: #3B4455;\n",
       "      --fill-color: #D2E3FC;\n",
       "      --hover-bg-color: #434B5C;\n",
       "      --hover-fill-color: #FFFFFF;\n",
       "      --disabled-bg-color: #3B4455;\n",
       "      --disabled-fill-color: #666;\n",
       "  }\n",
       "\n",
       "  .colab-df-quickchart {\n",
       "    background-color: var(--bg-color);\n",
       "    border: none;\n",
       "    border-radius: 50%;\n",
       "    cursor: pointer;\n",
       "    display: none;\n",
       "    fill: var(--fill-color);\n",
       "    height: 32px;\n",
       "    padding: 0;\n",
       "    width: 32px;\n",
       "  }\n",
       "\n",
       "  .colab-df-quickchart:hover {\n",
       "    background-color: var(--hover-bg-color);\n",
       "    box-shadow: 0 1px 2px rgba(60, 64, 67, 0.3), 0 1px 3px 1px rgba(60, 64, 67, 0.15);\n",
       "    fill: var(--button-hover-fill-color);\n",
       "  }\n",
       "\n",
       "  .colab-df-quickchart-complete:disabled,\n",
       "  .colab-df-quickchart-complete:disabled:hover {\n",
       "    background-color: var(--disabled-bg-color);\n",
       "    fill: var(--disabled-fill-color);\n",
       "    box-shadow: none;\n",
       "  }\n",
       "\n",
       "  .colab-df-spinner {\n",
       "    border: 2px solid var(--fill-color);\n",
       "    border-color: transparent;\n",
       "    border-bottom-color: var(--fill-color);\n",
       "    animation:\n",
       "      spin 1s steps(1) infinite;\n",
       "  }\n",
       "\n",
       "  @keyframes spin {\n",
       "    0% {\n",
       "      border-color: transparent;\n",
       "      border-bottom-color: var(--fill-color);\n",
       "      border-left-color: var(--fill-color);\n",
       "    }\n",
       "    20% {\n",
       "      border-color: transparent;\n",
       "      border-left-color: var(--fill-color);\n",
       "      border-top-color: var(--fill-color);\n",
       "    }\n",
       "    30% {\n",
       "      border-color: transparent;\n",
       "      border-left-color: var(--fill-color);\n",
       "      border-top-color: var(--fill-color);\n",
       "      border-right-color: var(--fill-color);\n",
       "    }\n",
       "    40% {\n",
       "      border-color: transparent;\n",
       "      border-right-color: var(--fill-color);\n",
       "      border-top-color: var(--fill-color);\n",
       "    }\n",
       "    60% {\n",
       "      border-color: transparent;\n",
       "      border-right-color: var(--fill-color);\n",
       "    }\n",
       "    80% {\n",
       "      border-color: transparent;\n",
       "      border-right-color: var(--fill-color);\n",
       "      border-bottom-color: var(--fill-color);\n",
       "    }\n",
       "    90% {\n",
       "      border-color: transparent;\n",
       "      border-bottom-color: var(--fill-color);\n",
       "    }\n",
       "  }\n",
       "</style>\n",
       "\n",
       "  <script>\n",
       "    async function quickchart(key) {\n",
       "      const quickchartButtonEl =\n",
       "        document.querySelector('#' + key + ' button');\n",
       "      quickchartButtonEl.disabled = true;  // To prevent multiple clicks.\n",
       "      quickchartButtonEl.classList.add('colab-df-spinner');\n",
       "      try {\n",
       "        const charts = await google.colab.kernel.invokeFunction(\n",
       "            'suggestCharts', [key], {});\n",
       "      } catch (error) {\n",
       "        console.error('Error during call to suggestCharts:', error);\n",
       "      }\n",
       "      quickchartButtonEl.classList.remove('colab-df-spinner');\n",
       "      quickchartButtonEl.classList.add('colab-df-quickchart-complete');\n",
       "    }\n",
       "    (() => {\n",
       "      let quickchartButtonEl =\n",
       "        document.querySelector('#df-9fc1fb9f-7905-490a-bf1f-0ba40115420d button');\n",
       "      quickchartButtonEl.style.display =\n",
       "        google.colab.kernel.accessAllowed ? 'block' : 'none';\n",
       "    })();\n",
       "  </script>\n",
       "</div>\n",
       "\n",
       "    </div>\n",
       "  </div>\n"
      ],
      "text/plain": [
       "name     Model1    Model2    Model3    Model4    Model5    Model6\n",
       "count  5.000000  5.000000  5.000000  5.000000  5.000000  5.000000\n",
       "mean   0.974844  0.951501  0.981076  0.978584  0.978470  0.973598\n",
       "std    0.002216  0.018981  0.007448  0.005629  0.004939  0.004018\n",
       "min    0.971671  0.926346  0.968839  0.969972  0.971105  0.968839\n",
       "25%    0.973371  0.936544  0.979037  0.976204  0.975637  0.970538\n",
       "50%    0.976204  0.959207  0.985836  0.980170  0.981303  0.973371\n",
       "75%    0.976204  0.967705  0.985836  0.983003  0.981870  0.977337\n",
       "max    0.976771  0.967705  0.985836  0.983569  0.982436  0.977904"
      ]
     },
     "execution_count": 36,
     "metadata": {},
     "output_type": "execute_result"
    }
   ],
   "source": [
    "df_list = []\n",
    "\n",
    "for name, statistics in statistics_result.items():\n",
    "  t_dict = {'name': name}\n",
    "\n",
    "  li = [x['accuracy_score'] for x in statistics[0]]\n",
    "  # t_dict['mean'] = sum(li) / len(li)\n",
    "  # t_dict['min'] = min(li)\n",
    "  # t_dict['max'] = max(li)\n",
    "\n",
    "  for idx, x in enumerate(statistics[0]):\n",
    "    t_dict[f\"{idx+1}\"] = x['accuracy_score']\n",
    "\n",
    "  df_list.append(t_dict)\n",
    "\n",
    "df = pd.DataFrame(df_list)\n",
    "df = df.set_index('name')\n",
    "df.T.describe()"
   ]
  },
  {
   "cell_type": "markdown",
   "metadata": {
    "id": "D3rSYI8k88vs"
   },
   "source": [
    "# 테스트"
   ]
  },
  {
   "cell_type": "code",
   "execution_count": null,
   "metadata": {
    "id": "ciIQPNqriNBe"
   },
   "outputs": [],
   "source": [
    "# 테스트 불러오기\n",
    "data01_test = pd.read_csv('/content/drive/MyDrive/project/data01_test.csv')"
   ]
  },
  {
   "cell_type": "code",
   "execution_count": null,
   "metadata": {
    "id": "_bk0DHeViMqI"
   },
   "outputs": [],
   "source": [
    "# test subject Drop\n",
    "data01_test.drop(columns = 'subject', axis = 1 , inplace = True)\n",
    "data01_test"
   ]
  },
  {
   "cell_type": "code",
   "execution_count": null,
   "metadata": {
    "id": "-o0Uh0G79UrW"
   },
   "outputs": [],
   "source": [
    "# x, y 분류\n",
    "x = data01_test.drop(target, axis = 1)\n",
    "y = data01_test.loc[:, target]\n",
    "\n",
    "# MinMax Scaler\n",
    "scaler = MinMaxScaler()\n",
    "x = scaler.fit_transform(x)\n",
    "\n",
    "# integer encoding\n",
    "y = y.map({'STANDING' : 0, 'LAYING': 1, 'WALKING':2, 'WALKING_DOWNSTAIRS' :3, 'WALKING_UPSTAIRS' : 4, 'SITTING':5})\n",
    "\n",
    "x_train_test, x_test, y_train_test, y_val_test = train_test_split(x, y, test_size =.3, random_state = 1)\n"
   ]
  },
  {
   "cell_type": "code",
   "execution_count": null,
   "metadata": {
    "id": "LjPindNy8QKd"
   },
   "outputs": [],
   "source": [
    "# test Early Stopping\n",
    "from keras.callbacks import EarlyStopping\n",
    "# Early Stopping Setting\n",
    "min_de = 0.001\n",
    "pat = 20\n",
    "\n",
    "es = EarlyStopping(monitor = 'val_loss', min_delta = min_de, patience = pat)"
   ]
  },
  {
   "cell_type": "code",
   "execution_count": null,
   "metadata": {
    "colab": {
     "base_uri": "https://localhost:8080/",
     "height": 496
    },
    "executionInfo": {
     "elapsed": 761,
     "status": "ok",
     "timestamp": 1729226762375,
     "user": {
      "displayName": "멀록왕아옳옳옳옳",
      "userId": "03972408807334882903"
     },
     "user_tz": -540
    },
    "id": "FPif8SYcY3JI",
    "outputId": "086cbfe4-5c5f-4eb1-c2fc-313d398498aa"
   },
   "outputs": [
    {
     "data": {
      "text/html": [
       "<pre style=\"white-space:pre;overflow-x:auto;line-height:normal;font-family:Menlo,'DejaVu Sans Mono',consolas,'Courier New',monospace\"><span style=\"font-weight: bold\">Model: \"sequential\"</span>\n",
       "</pre>\n"
      ],
      "text/plain": [
       "\u001b[1mModel: \"sequential\"\u001b[0m\n"
      ]
     },
     "metadata": {},
     "output_type": "display_data"
    },
    {
     "data": {
      "text/html": [
       "<pre style=\"white-space:pre;overflow-x:auto;line-height:normal;font-family:Menlo,'DejaVu Sans Mono',consolas,'Courier New',monospace\">┏━━━━━━━━━━━━━━━━━━━━━━━━━━━━━━━━━━━━━━┳━━━━━━━━━━━━━━━━━━━━━━━━━━━━━┳━━━━━━━━━━━━━━━━━┓\n",
       "┃<span style=\"font-weight: bold\"> Layer (type)                         </span>┃<span style=\"font-weight: bold\"> Output Shape                </span>┃<span style=\"font-weight: bold\">         Param # </span>┃\n",
       "┡━━━━━━━━━━━━━━━━━━━━━━━━━━━━━━━━━━━━━━╇━━━━━━━━━━━━━━━━━━━━━━━━━━━━━╇━━━━━━━━━━━━━━━━━┩\n",
       "│ dense (<span style=\"color: #0087ff; text-decoration-color: #0087ff\">Dense</span>)                        │ (<span style=\"color: #00d7ff; text-decoration-color: #00d7ff\">None</span>, <span style=\"color: #00af00; text-decoration-color: #00af00\">256</span>)                 │         <span style=\"color: #00af00; text-decoration-color: #00af00\">143,872</span> │\n",
       "├──────────────────────────────────────┼─────────────────────────────┼─────────────────┤\n",
       "│ dropout (<span style=\"color: #0087ff; text-decoration-color: #0087ff\">Dropout</span>)                    │ (<span style=\"color: #00d7ff; text-decoration-color: #00d7ff\">None</span>, <span style=\"color: #00af00; text-decoration-color: #00af00\">256</span>)                 │               <span style=\"color: #00af00; text-decoration-color: #00af00\">0</span> │\n",
       "├──────────────────────────────────────┼─────────────────────────────┼─────────────────┤\n",
       "│ dense_1 (<span style=\"color: #0087ff; text-decoration-color: #0087ff\">Dense</span>)                      │ (<span style=\"color: #00d7ff; text-decoration-color: #00d7ff\">None</span>, <span style=\"color: #00af00; text-decoration-color: #00af00\">256</span>)                 │          <span style=\"color: #00af00; text-decoration-color: #00af00\">65,792</span> │\n",
       "├──────────────────────────────────────┼─────────────────────────────┼─────────────────┤\n",
       "│ dropout_1 (<span style=\"color: #0087ff; text-decoration-color: #0087ff\">Dropout</span>)                  │ (<span style=\"color: #00d7ff; text-decoration-color: #00d7ff\">None</span>, <span style=\"color: #00af00; text-decoration-color: #00af00\">256</span>)                 │               <span style=\"color: #00af00; text-decoration-color: #00af00\">0</span> │\n",
       "├──────────────────────────────────────┼─────────────────────────────┼─────────────────┤\n",
       "│ dense_2 (<span style=\"color: #0087ff; text-decoration-color: #0087ff\">Dense</span>)                      │ (<span style=\"color: #00d7ff; text-decoration-color: #00d7ff\">None</span>, <span style=\"color: #00af00; text-decoration-color: #00af00\">128</span>)                 │          <span style=\"color: #00af00; text-decoration-color: #00af00\">32,896</span> │\n",
       "├──────────────────────────────────────┼─────────────────────────────┼─────────────────┤\n",
       "│ dropout_2 (<span style=\"color: #0087ff; text-decoration-color: #0087ff\">Dropout</span>)                  │ (<span style=\"color: #00d7ff; text-decoration-color: #00d7ff\">None</span>, <span style=\"color: #00af00; text-decoration-color: #00af00\">128</span>)                 │               <span style=\"color: #00af00; text-decoration-color: #00af00\">0</span> │\n",
       "├──────────────────────────────────────┼─────────────────────────────┼─────────────────┤\n",
       "│ dense_3 (<span style=\"color: #0087ff; text-decoration-color: #0087ff\">Dense</span>)                      │ (<span style=\"color: #00d7ff; text-decoration-color: #00d7ff\">None</span>, <span style=\"color: #00af00; text-decoration-color: #00af00\">64</span>)                  │           <span style=\"color: #00af00; text-decoration-color: #00af00\">8,256</span> │\n",
       "├──────────────────────────────────────┼─────────────────────────────┼─────────────────┤\n",
       "│ dropout_3 (<span style=\"color: #0087ff; text-decoration-color: #0087ff\">Dropout</span>)                  │ (<span style=\"color: #00d7ff; text-decoration-color: #00d7ff\">None</span>, <span style=\"color: #00af00; text-decoration-color: #00af00\">64</span>)                  │               <span style=\"color: #00af00; text-decoration-color: #00af00\">0</span> │\n",
       "├──────────────────────────────────────┼─────────────────────────────┼─────────────────┤\n",
       "│ dense_4 (<span style=\"color: #0087ff; text-decoration-color: #0087ff\">Dense</span>)                      │ (<span style=\"color: #00d7ff; text-decoration-color: #00d7ff\">None</span>, <span style=\"color: #00af00; text-decoration-color: #00af00\">32</span>)                  │           <span style=\"color: #00af00; text-decoration-color: #00af00\">2,080</span> │\n",
       "├──────────────────────────────────────┼─────────────────────────────┼─────────────────┤\n",
       "│ dropout_4 (<span style=\"color: #0087ff; text-decoration-color: #0087ff\">Dropout</span>)                  │ (<span style=\"color: #00d7ff; text-decoration-color: #00d7ff\">None</span>, <span style=\"color: #00af00; text-decoration-color: #00af00\">32</span>)                  │               <span style=\"color: #00af00; text-decoration-color: #00af00\">0</span> │\n",
       "├──────────────────────────────────────┼─────────────────────────────┼─────────────────┤\n",
       "│ dense_5 (<span style=\"color: #0087ff; text-decoration-color: #0087ff\">Dense</span>)                      │ (<span style=\"color: #00d7ff; text-decoration-color: #00d7ff\">None</span>, <span style=\"color: #00af00; text-decoration-color: #00af00\">6</span>)                   │             <span style=\"color: #00af00; text-decoration-color: #00af00\">198</span> │\n",
       "└──────────────────────────────────────┴─────────────────────────────┴─────────────────┘\n",
       "</pre>\n"
      ],
      "text/plain": [
       "┏━━━━━━━━━━━━━━━━━━━━━━━━━━━━━━━━━━━━━━┳━━━━━━━━━━━━━━━━━━━━━━━━━━━━━┳━━━━━━━━━━━━━━━━━┓\n",
       "┃\u001b[1m \u001b[0m\u001b[1mLayer (type)                        \u001b[0m\u001b[1m \u001b[0m┃\u001b[1m \u001b[0m\u001b[1mOutput Shape               \u001b[0m\u001b[1m \u001b[0m┃\u001b[1m \u001b[0m\u001b[1m        Param #\u001b[0m\u001b[1m \u001b[0m┃\n",
       "┡━━━━━━━━━━━━━━━━━━━━━━━━━━━━━━━━━━━━━━╇━━━━━━━━━━━━━━━━━━━━━━━━━━━━━╇━━━━━━━━━━━━━━━━━┩\n",
       "│ dense (\u001b[38;5;33mDense\u001b[0m)                        │ (\u001b[38;5;45mNone\u001b[0m, \u001b[38;5;34m256\u001b[0m)                 │         \u001b[38;5;34m143,872\u001b[0m │\n",
       "├──────────────────────────────────────┼─────────────────────────────┼─────────────────┤\n",
       "│ dropout (\u001b[38;5;33mDropout\u001b[0m)                    │ (\u001b[38;5;45mNone\u001b[0m, \u001b[38;5;34m256\u001b[0m)                 │               \u001b[38;5;34m0\u001b[0m │\n",
       "├──────────────────────────────────────┼─────────────────────────────┼─────────────────┤\n",
       "│ dense_1 (\u001b[38;5;33mDense\u001b[0m)                      │ (\u001b[38;5;45mNone\u001b[0m, \u001b[38;5;34m256\u001b[0m)                 │          \u001b[38;5;34m65,792\u001b[0m │\n",
       "├──────────────────────────────────────┼─────────────────────────────┼─────────────────┤\n",
       "│ dropout_1 (\u001b[38;5;33mDropout\u001b[0m)                  │ (\u001b[38;5;45mNone\u001b[0m, \u001b[38;5;34m256\u001b[0m)                 │               \u001b[38;5;34m0\u001b[0m │\n",
       "├──────────────────────────────────────┼─────────────────────────────┼─────────────────┤\n",
       "│ dense_2 (\u001b[38;5;33mDense\u001b[0m)                      │ (\u001b[38;5;45mNone\u001b[0m, \u001b[38;5;34m128\u001b[0m)                 │          \u001b[38;5;34m32,896\u001b[0m │\n",
       "├──────────────────────────────────────┼─────────────────────────────┼─────────────────┤\n",
       "│ dropout_2 (\u001b[38;5;33mDropout\u001b[0m)                  │ (\u001b[38;5;45mNone\u001b[0m, \u001b[38;5;34m128\u001b[0m)                 │               \u001b[38;5;34m0\u001b[0m │\n",
       "├──────────────────────────────────────┼─────────────────────────────┼─────────────────┤\n",
       "│ dense_3 (\u001b[38;5;33mDense\u001b[0m)                      │ (\u001b[38;5;45mNone\u001b[0m, \u001b[38;5;34m64\u001b[0m)                  │           \u001b[38;5;34m8,256\u001b[0m │\n",
       "├──────────────────────────────────────┼─────────────────────────────┼─────────────────┤\n",
       "│ dropout_3 (\u001b[38;5;33mDropout\u001b[0m)                  │ (\u001b[38;5;45mNone\u001b[0m, \u001b[38;5;34m64\u001b[0m)                  │               \u001b[38;5;34m0\u001b[0m │\n",
       "├──────────────────────────────────────┼─────────────────────────────┼─────────────────┤\n",
       "│ dense_4 (\u001b[38;5;33mDense\u001b[0m)                      │ (\u001b[38;5;45mNone\u001b[0m, \u001b[38;5;34m32\u001b[0m)                  │           \u001b[38;5;34m2,080\u001b[0m │\n",
       "├──────────────────────────────────────┼─────────────────────────────┼─────────────────┤\n",
       "│ dropout_4 (\u001b[38;5;33mDropout\u001b[0m)                  │ (\u001b[38;5;45mNone\u001b[0m, \u001b[38;5;34m32\u001b[0m)                  │               \u001b[38;5;34m0\u001b[0m │\n",
       "├──────────────────────────────────────┼─────────────────────────────┼─────────────────┤\n",
       "│ dense_5 (\u001b[38;5;33mDense\u001b[0m)                      │ (\u001b[38;5;45mNone\u001b[0m, \u001b[38;5;34m6\u001b[0m)                   │             \u001b[38;5;34m198\u001b[0m │\n",
       "└──────────────────────────────────────┴─────────────────────────────┴─────────────────┘\n"
      ]
     },
     "metadata": {},
     "output_type": "display_data"
    },
    {
     "data": {
      "text/html": [
       "<pre style=\"white-space:pre;overflow-x:auto;line-height:normal;font-family:Menlo,'DejaVu Sans Mono',consolas,'Courier New',monospace\"><span style=\"font-weight: bold\"> Total params: </span><span style=\"color: #00af00; text-decoration-color: #00af00\">253,094</span> (988.65 KB)\n",
       "</pre>\n"
      ],
      "text/plain": [
       "\u001b[1m Total params: \u001b[0m\u001b[38;5;34m253,094\u001b[0m (988.65 KB)\n"
      ]
     },
     "metadata": {},
     "output_type": "display_data"
    },
    {
     "data": {
      "text/html": [
       "<pre style=\"white-space:pre;overflow-x:auto;line-height:normal;font-family:Menlo,'DejaVu Sans Mono',consolas,'Courier New',monospace\"><span style=\"font-weight: bold\"> Trainable params: </span><span style=\"color: #00af00; text-decoration-color: #00af00\">253,094</span> (988.65 KB)\n",
       "</pre>\n"
      ],
      "text/plain": [
       "\u001b[1m Trainable params: \u001b[0m\u001b[38;5;34m253,094\u001b[0m (988.65 KB)\n"
      ]
     },
     "metadata": {},
     "output_type": "display_data"
    },
    {
     "data": {
      "text/html": [
       "<pre style=\"white-space:pre;overflow-x:auto;line-height:normal;font-family:Menlo,'DejaVu Sans Mono',consolas,'Courier New',monospace\"><span style=\"font-weight: bold\"> Non-trainable params: </span><span style=\"color: #00af00; text-decoration-color: #00af00\">0</span> (0.00 B)\n",
       "</pre>\n"
      ],
      "text/plain": [
       "\u001b[1m Non-trainable params: \u001b[0m\u001b[38;5;34m0\u001b[0m (0.00 B)\n"
      ]
     },
     "metadata": {},
     "output_type": "display_data"
    }
   ],
   "source": [
    "# Set layer\n",
    "clear_session()\n",
    "\n",
    "\n",
    "model_test = Sequential([Input(shape=(x_train_test.shape[1],)),\n",
    "          Dense(256, activation='relu'),\n",
    "          Dropout(0.2),\n",
    "          Dense(256, activation='relu'),\n",
    "          Dropout(0.2),\n",
    "          Dense(128, activation='relu'),\n",
    "          Dropout(0.2),\n",
    "          Dense(64, activation='relu'),\n",
    "          Dropout(0.2),\n",
    "          Dense(32, activation='relu'),\n",
    "          Dropout(0.2),\n",
    "          Dense(6, activation='softmax')])\n",
    "model_test.summary()"
   ]
  },
  {
   "cell_type": "code",
   "execution_count": null,
   "metadata": {
    "colab": {
     "base_uri": "https://localhost:8080/"
    },
    "executionInfo": {
     "elapsed": 45246,
     "status": "ok",
     "timestamp": 1729227448814,
     "user": {
      "displayName": "멀록왕아옳옳옳옳",
      "userId": "03972408807334882903"
     },
     "user_tz": -540
    },
    "id": "5POJGVVc_gep",
    "outputId": "6fe28c7c-d3cc-42d1-aff9-ca1a530ec7d2"
   },
   "outputs": [
    {
     "name": "stdout",
     "output_type": "stream",
     "text": [
      "Epoch 1/150\n",
      "\u001b[1m26/26\u001b[0m \u001b[32m━━━━━━━━━━━━━━━━━━━━\u001b[0m\u001b[37m\u001b[0m \u001b[1m6s\u001b[0m 30ms/step - loss: 1.7861 - val_loss: 1.6185\n",
      "Epoch 2/150\n",
      "\u001b[1m26/26\u001b[0m \u001b[32m━━━━━━━━━━━━━━━━━━━━\u001b[0m\u001b[37m\u001b[0m \u001b[1m0s\u001b[0m 16ms/step - loss: 1.6533 - val_loss: 1.4918\n",
      "Epoch 3/150\n",
      "\u001b[1m26/26\u001b[0m \u001b[32m━━━━━━━━━━━━━━━━━━━━\u001b[0m\u001b[37m\u001b[0m \u001b[1m1s\u001b[0m 17ms/step - loss: 1.5649 - val_loss: 1.3722\n",
      "Epoch 4/150\n",
      "\u001b[1m26/26\u001b[0m \u001b[32m━━━━━━━━━━━━━━━━━━━━\u001b[0m\u001b[37m\u001b[0m \u001b[1m0s\u001b[0m 17ms/step - loss: 1.4319 - val_loss: 1.2710\n",
      "Epoch 5/150\n",
      "\u001b[1m26/26\u001b[0m \u001b[32m━━━━━━━━━━━━━━━━━━━━\u001b[0m\u001b[37m\u001b[0m \u001b[1m1s\u001b[0m 20ms/step - loss: 1.3686 - val_loss: 1.1765\n",
      "Epoch 6/150\n",
      "\u001b[1m26/26\u001b[0m \u001b[32m━━━━━━━━━━━━━━━━━━━━\u001b[0m\u001b[37m\u001b[0m \u001b[1m0s\u001b[0m 10ms/step - loss: 1.2912 - val_loss: 1.0748\n",
      "Epoch 7/150\n",
      "\u001b[1m26/26\u001b[0m \u001b[32m━━━━━━━━━━━━━━━━━━━━\u001b[0m\u001b[37m\u001b[0m \u001b[1m1s\u001b[0m 8ms/step - loss: 1.2192 - val_loss: 0.9583\n",
      "Epoch 8/150\n",
      "\u001b[1m26/26\u001b[0m \u001b[32m━━━━━━━━━━━━━━━━━━━━\u001b[0m\u001b[37m\u001b[0m \u001b[1m0s\u001b[0m 8ms/step - loss: 1.1373 - val_loss: 0.8691\n",
      "Epoch 9/150\n",
      "\u001b[1m26/26\u001b[0m \u001b[32m━━━━━━━━━━━━━━━━━━━━\u001b[0m\u001b[37m\u001b[0m \u001b[1m0s\u001b[0m 10ms/step - loss: 1.0605 - val_loss: 0.7850\n",
      "Epoch 10/150\n",
      "\u001b[1m26/26\u001b[0m \u001b[32m━━━━━━━━━━━━━━━━━━━━\u001b[0m\u001b[37m\u001b[0m \u001b[1m0s\u001b[0m 9ms/step - loss: 0.9567 - val_loss: 0.7099\n",
      "Epoch 11/150\n",
      "\u001b[1m26/26\u001b[0m \u001b[32m━━━━━━━━━━━━━━━━━━━━\u001b[0m\u001b[37m\u001b[0m \u001b[1m0s\u001b[0m 8ms/step - loss: 0.8837 - val_loss: 0.6450\n",
      "Epoch 12/150\n",
      "\u001b[1m26/26\u001b[0m \u001b[32m━━━━━━━━━━━━━━━━━━━━\u001b[0m\u001b[37m\u001b[0m \u001b[1m0s\u001b[0m 9ms/step - loss: 0.8694 - val_loss: 0.5966\n",
      "Epoch 13/150\n",
      "\u001b[1m26/26\u001b[0m \u001b[32m━━━━━━━━━━━━━━━━━━━━\u001b[0m\u001b[37m\u001b[0m \u001b[1m0s\u001b[0m 9ms/step - loss: 0.8407 - val_loss: 0.5714\n",
      "Epoch 14/150\n",
      "\u001b[1m26/26\u001b[0m \u001b[32m━━━━━━━━━━━━━━━━━━━━\u001b[0m\u001b[37m\u001b[0m \u001b[1m0s\u001b[0m 16ms/step - loss: 0.8010 - val_loss: 0.5323\n",
      "Epoch 15/150\n",
      "\u001b[1m26/26\u001b[0m \u001b[32m━━━━━━━━━━━━━━━━━━━━\u001b[0m\u001b[37m\u001b[0m \u001b[1m1s\u001b[0m 15ms/step - loss: 0.7151 - val_loss: 0.5091\n",
      "Epoch 16/150\n",
      "\u001b[1m26/26\u001b[0m \u001b[32m━━━━━━━━━━━━━━━━━━━━\u001b[0m\u001b[37m\u001b[0m \u001b[1m0s\u001b[0m 16ms/step - loss: 0.7384 - val_loss: 0.4567\n",
      "Epoch 17/150\n",
      "\u001b[1m26/26\u001b[0m \u001b[32m━━━━━━━━━━━━━━━━━━━━\u001b[0m\u001b[37m\u001b[0m \u001b[1m0s\u001b[0m 16ms/step - loss: 0.6673 - val_loss: 0.4386\n",
      "Epoch 18/150\n",
      "\u001b[1m26/26\u001b[0m \u001b[32m━━━━━━━━━━━━━━━━━━━━\u001b[0m\u001b[37m\u001b[0m \u001b[1m1s\u001b[0m 15ms/step - loss: 0.6568 - val_loss: 0.4257\n",
      "Epoch 19/150\n",
      "\u001b[1m26/26\u001b[0m \u001b[32m━━━━━━━━━━━━━━━━━━━━\u001b[0m\u001b[37m\u001b[0m \u001b[1m1s\u001b[0m 17ms/step - loss: 0.6047 - val_loss: 0.3958\n",
      "Epoch 20/150\n",
      "\u001b[1m26/26\u001b[0m \u001b[32m━━━━━━━━━━━━━━━━━━━━\u001b[0m\u001b[37m\u001b[0m \u001b[1m0s\u001b[0m 15ms/step - loss: 0.5596 - val_loss: 0.3758\n",
      "Epoch 21/150\n",
      "\u001b[1m26/26\u001b[0m \u001b[32m━━━━━━━━━━━━━━━━━━━━\u001b[0m\u001b[37m\u001b[0m \u001b[1m1s\u001b[0m 18ms/step - loss: 0.6267 - val_loss: 0.3782\n",
      "Epoch 22/150\n",
      "\u001b[1m26/26\u001b[0m \u001b[32m━━━━━━━━━━━━━━━━━━━━\u001b[0m\u001b[37m\u001b[0m \u001b[1m0s\u001b[0m 15ms/step - loss: 0.6081 - val_loss: 0.3643\n",
      "Epoch 23/150\n",
      "\u001b[1m26/26\u001b[0m \u001b[32m━━━━━━━━━━━━━━━━━━━━\u001b[0m\u001b[37m\u001b[0m \u001b[1m0s\u001b[0m 10ms/step - loss: 0.5470 - val_loss: 0.3453\n",
      "Epoch 24/150\n",
      "\u001b[1m26/26\u001b[0m \u001b[32m━━━━━━━━━━━━━━━━━━━━\u001b[0m\u001b[37m\u001b[0m \u001b[1m0s\u001b[0m 9ms/step - loss: 0.5558 - val_loss: 0.3339\n",
      "Epoch 25/150\n",
      "\u001b[1m26/26\u001b[0m \u001b[32m━━━━━━━━━━━━━━━━━━━━\u001b[0m\u001b[37m\u001b[0m \u001b[1m0s\u001b[0m 9ms/step - loss: 0.5054 - val_loss: 0.3189\n",
      "Epoch 26/150\n",
      "\u001b[1m26/26\u001b[0m \u001b[32m━━━━━━━━━━━━━━━━━━━━\u001b[0m\u001b[37m\u001b[0m \u001b[1m0s\u001b[0m 10ms/step - loss: 0.5118 - val_loss: 0.3097\n",
      "Epoch 27/150\n",
      "\u001b[1m26/26\u001b[0m \u001b[32m━━━━━━━━━━━━━━━━━━━━\u001b[0m\u001b[37m\u001b[0m \u001b[1m0s\u001b[0m 9ms/step - loss: 0.4496 - val_loss: 0.3037\n",
      "Epoch 28/150\n",
      "\u001b[1m26/26\u001b[0m \u001b[32m━━━━━━━━━━━━━━━━━━━━\u001b[0m\u001b[37m\u001b[0m \u001b[1m0s\u001b[0m 8ms/step - loss: 0.4573 - val_loss: 0.3188\n",
      "Epoch 29/150\n",
      "\u001b[1m26/26\u001b[0m \u001b[32m━━━━━━━━━━━━━━━━━━━━\u001b[0m\u001b[37m\u001b[0m \u001b[1m0s\u001b[0m 9ms/step - loss: 0.4756 - val_loss: 0.2883\n",
      "Epoch 30/150\n",
      "\u001b[1m26/26\u001b[0m \u001b[32m━━━━━━━━━━━━━━━━━━━━\u001b[0m\u001b[37m\u001b[0m \u001b[1m0s\u001b[0m 8ms/step - loss: 0.4892 - val_loss: 0.2842\n",
      "Epoch 31/150\n",
      "\u001b[1m26/26\u001b[0m \u001b[32m━━━━━━━━━━━━━━━━━━━━\u001b[0m\u001b[37m\u001b[0m \u001b[1m0s\u001b[0m 9ms/step - loss: 0.4738 - val_loss: 0.2868\n",
      "Epoch 32/150\n",
      "\u001b[1m26/26\u001b[0m \u001b[32m━━━━━━━━━━━━━━━━━━━━\u001b[0m\u001b[37m\u001b[0m \u001b[1m0s\u001b[0m 8ms/step - loss: 0.4433 - val_loss: 0.2733\n",
      "Epoch 33/150\n",
      "\u001b[1m26/26\u001b[0m \u001b[32m━━━━━━━━━━━━━━━━━━━━\u001b[0m\u001b[37m\u001b[0m \u001b[1m0s\u001b[0m 9ms/step - loss: 0.3978 - val_loss: 0.2888\n",
      "Epoch 34/150\n",
      "\u001b[1m26/26\u001b[0m \u001b[32m━━━━━━━━━━━━━━━━━━━━\u001b[0m\u001b[37m\u001b[0m \u001b[1m0s\u001b[0m 8ms/step - loss: 0.3976 - val_loss: 0.3151\n",
      "Epoch 35/150\n",
      "\u001b[1m26/26\u001b[0m \u001b[32m━━━━━━━━━━━━━━━━━━━━\u001b[0m\u001b[37m\u001b[0m \u001b[1m0s\u001b[0m 9ms/step - loss: 0.3688 - val_loss: 0.2652\n",
      "Epoch 36/150\n",
      "\u001b[1m26/26\u001b[0m \u001b[32m━━━━━━━━━━━━━━━━━━━━\u001b[0m\u001b[37m\u001b[0m \u001b[1m0s\u001b[0m 9ms/step - loss: 0.3777 - val_loss: 0.2355\n",
      "Epoch 37/150\n",
      "\u001b[1m26/26\u001b[0m \u001b[32m━━━━━━━━━━━━━━━━━━━━\u001b[0m\u001b[37m\u001b[0m \u001b[1m0s\u001b[0m 9ms/step - loss: 0.3943 - val_loss: 0.2350\n",
      "Epoch 38/150\n",
      "\u001b[1m26/26\u001b[0m \u001b[32m━━━━━━━━━━━━━━━━━━━━\u001b[0m\u001b[37m\u001b[0m \u001b[1m0s\u001b[0m 9ms/step - loss: 0.3687 - val_loss: 0.2294\n",
      "Epoch 39/150\n",
      "\u001b[1m26/26\u001b[0m \u001b[32m━━━━━━━━━━━━━━━━━━━━\u001b[0m\u001b[37m\u001b[0m \u001b[1m0s\u001b[0m 8ms/step - loss: 0.3753 - val_loss: 0.2418\n",
      "Epoch 40/150\n",
      "\u001b[1m26/26\u001b[0m \u001b[32m━━━━━━━━━━━━━━━━━━━━\u001b[0m\u001b[37m\u001b[0m \u001b[1m0s\u001b[0m 9ms/step - loss: 0.3953 - val_loss: 0.2218\n",
      "Epoch 41/150\n",
      "\u001b[1m26/26\u001b[0m \u001b[32m━━━━━━━━━━━━━━━━━━━━\u001b[0m\u001b[37m\u001b[0m \u001b[1m0s\u001b[0m 8ms/step - loss: 0.3072 - val_loss: 0.2279\n",
      "Epoch 42/150\n",
      "\u001b[1m26/26\u001b[0m \u001b[32m━━━━━━━━━━━━━━━━━━━━\u001b[0m\u001b[37m\u001b[0m \u001b[1m0s\u001b[0m 9ms/step - loss: 0.3809 - val_loss: 0.2200\n",
      "Epoch 43/150\n",
      "\u001b[1m26/26\u001b[0m \u001b[32m━━━━━━━━━━━━━━━━━━━━\u001b[0m\u001b[37m\u001b[0m \u001b[1m0s\u001b[0m 8ms/step - loss: 0.3005 - val_loss: 0.2096\n",
      "Epoch 44/150\n",
      "\u001b[1m26/26\u001b[0m \u001b[32m━━━━━━━━━━━━━━━━━━━━\u001b[0m\u001b[37m\u001b[0m \u001b[1m0s\u001b[0m 9ms/step - loss: 0.3706 - val_loss: 0.1986\n",
      "Epoch 45/150\n",
      "\u001b[1m26/26\u001b[0m \u001b[32m━━━━━━━━━━━━━━━━━━━━\u001b[0m\u001b[37m\u001b[0m \u001b[1m0s\u001b[0m 8ms/step - loss: 0.2829 - val_loss: 0.1916\n",
      "Epoch 46/150\n",
      "\u001b[1m26/26\u001b[0m \u001b[32m━━━━━━━━━━━━━━━━━━━━\u001b[0m\u001b[37m\u001b[0m \u001b[1m0s\u001b[0m 8ms/step - loss: 0.3276 - val_loss: 0.1960\n",
      "Epoch 47/150\n",
      "\u001b[1m26/26\u001b[0m \u001b[32m━━━━━━━━━━━━━━━━━━━━\u001b[0m\u001b[37m\u001b[0m \u001b[1m0s\u001b[0m 10ms/step - loss: 0.2703 - val_loss: 0.1919\n",
      "Epoch 48/150\n",
      "\u001b[1m26/26\u001b[0m \u001b[32m━━━━━━━━━━━━━━━━━━━━\u001b[0m\u001b[37m\u001b[0m \u001b[1m0s\u001b[0m 8ms/step - loss: 0.2620 - val_loss: 0.1837\n",
      "Epoch 49/150\n",
      "\u001b[1m26/26\u001b[0m \u001b[32m━━━━━━━━━━━━━━━━━━━━\u001b[0m\u001b[37m\u001b[0m \u001b[1m0s\u001b[0m 8ms/step - loss: 0.2759 - val_loss: 0.2130\n",
      "Epoch 50/150\n",
      "\u001b[1m26/26\u001b[0m \u001b[32m━━━━━━━━━━━━━━━━━━━━\u001b[0m\u001b[37m\u001b[0m \u001b[1m0s\u001b[0m 9ms/step - loss: 0.2829 - val_loss: 0.1914\n",
      "Epoch 51/150\n",
      "\u001b[1m26/26\u001b[0m \u001b[32m━━━━━━━━━━━━━━━━━━━━\u001b[0m\u001b[37m\u001b[0m \u001b[1m0s\u001b[0m 9ms/step - loss: 0.2899 - val_loss: 0.1767\n",
      "Epoch 52/150\n",
      "\u001b[1m26/26\u001b[0m \u001b[32m━━━━━━━━━━━━━━━━━━━━\u001b[0m\u001b[37m\u001b[0m \u001b[1m0s\u001b[0m 8ms/step - loss: 0.2681 - val_loss: 0.1882\n",
      "Epoch 53/150\n",
      "\u001b[1m26/26\u001b[0m \u001b[32m━━━━━━━━━━━━━━━━━━━━\u001b[0m\u001b[37m\u001b[0m \u001b[1m0s\u001b[0m 8ms/step - loss: 0.2587 - val_loss: 0.1723\n",
      "Epoch 54/150\n",
      "\u001b[1m26/26\u001b[0m \u001b[32m━━━━━━━━━━━━━━━━━━━━\u001b[0m\u001b[37m\u001b[0m \u001b[1m0s\u001b[0m 9ms/step - loss: 0.2613 - val_loss: 0.1767\n",
      "Epoch 55/150\n",
      "\u001b[1m26/26\u001b[0m \u001b[32m━━━━━━━━━━━━━━━━━━━━\u001b[0m\u001b[37m\u001b[0m \u001b[1m0s\u001b[0m 9ms/step - loss: 0.2415 - val_loss: 0.1717\n",
      "Epoch 56/150\n",
      "\u001b[1m26/26\u001b[0m \u001b[32m━━━━━━━━━━━━━━━━━━━━\u001b[0m\u001b[37m\u001b[0m \u001b[1m0s\u001b[0m 9ms/step - loss: 0.2167 - val_loss: 0.1640\n",
      "Epoch 57/150\n",
      "\u001b[1m26/26\u001b[0m \u001b[32m━━━━━━━━━━━━━━━━━━━━\u001b[0m\u001b[37m\u001b[0m \u001b[1m0s\u001b[0m 9ms/step - loss: 0.2712 - val_loss: 0.1730\n",
      "Epoch 58/150\n",
      "\u001b[1m26/26\u001b[0m \u001b[32m━━━━━━━━━━━━━━━━━━━━\u001b[0m\u001b[37m\u001b[0m \u001b[1m0s\u001b[0m 16ms/step - loss: 0.2077 - val_loss: 0.1648\n",
      "Epoch 59/150\n",
      "\u001b[1m26/26\u001b[0m \u001b[32m━━━━━━━━━━━━━━━━━━━━\u001b[0m\u001b[37m\u001b[0m \u001b[1m0s\u001b[0m 15ms/step - loss: 0.2175 - val_loss: 0.1537\n",
      "Epoch 60/150\n",
      "\u001b[1m26/26\u001b[0m \u001b[32m━━━━━━━━━━━━━━━━━━━━\u001b[0m\u001b[37m\u001b[0m \u001b[1m1s\u001b[0m 14ms/step - loss: 0.2276 - val_loss: 0.1701\n",
      "Epoch 61/150\n",
      "\u001b[1m26/26\u001b[0m \u001b[32m━━━━━━━━━━━━━━━━━━━━\u001b[0m\u001b[37m\u001b[0m \u001b[1m1s\u001b[0m 13ms/step - loss: 0.1967 - val_loss: 0.1542\n",
      "Epoch 62/150\n",
      "\u001b[1m26/26\u001b[0m \u001b[32m━━━━━━━━━━━━━━━━━━━━\u001b[0m\u001b[37m\u001b[0m \u001b[1m1s\u001b[0m 15ms/step - loss: 0.1918 - val_loss: 0.1628\n",
      "Epoch 63/150\n",
      "\u001b[1m26/26\u001b[0m \u001b[32m━━━━━━━━━━━━━━━━━━━━\u001b[0m\u001b[37m\u001b[0m \u001b[1m1s\u001b[0m 16ms/step - loss: 0.2410 - val_loss: 0.1585\n",
      "Epoch 64/150\n",
      "\u001b[1m26/26\u001b[0m \u001b[32m━━━━━━━━━━━━━━━━━━━━\u001b[0m\u001b[37m\u001b[0m \u001b[1m1s\u001b[0m 16ms/step - loss: 0.1712 - val_loss: 0.1499\n",
      "Epoch 65/150\n",
      "\u001b[1m26/26\u001b[0m \u001b[32m━━━━━━━━━━━━━━━━━━━━\u001b[0m\u001b[37m\u001b[0m \u001b[1m0s\u001b[0m 9ms/step - loss: 0.1797 - val_loss: 0.1507\n",
      "Epoch 66/150\n",
      "\u001b[1m26/26\u001b[0m \u001b[32m━━━━━━━━━━━━━━━━━━━━\u001b[0m\u001b[37m\u001b[0m \u001b[1m0s\u001b[0m 8ms/step - loss: 0.1726 - val_loss: 0.1397\n",
      "Epoch 67/150\n",
      "\u001b[1m26/26\u001b[0m \u001b[32m━━━━━━━━━━━━━━━━━━━━\u001b[0m\u001b[37m\u001b[0m \u001b[1m0s\u001b[0m 8ms/step - loss: 0.1774 - val_loss: 0.1465\n",
      "Epoch 68/150\n",
      "\u001b[1m26/26\u001b[0m \u001b[32m━━━━━━━━━━━━━━━━━━━━\u001b[0m\u001b[37m\u001b[0m \u001b[1m0s\u001b[0m 11ms/step - loss: 0.1730 - val_loss: 0.1651\n",
      "Epoch 69/150\n",
      "\u001b[1m26/26\u001b[0m \u001b[32m━━━━━━━━━━━━━━━━━━━━\u001b[0m\u001b[37m\u001b[0m \u001b[1m0s\u001b[0m 8ms/step - loss: 0.1957 - val_loss: 0.1475\n",
      "Epoch 70/150\n",
      "\u001b[1m26/26\u001b[0m \u001b[32m━━━━━━━━━━━━━━━━━━━━\u001b[0m\u001b[37m\u001b[0m \u001b[1m0s\u001b[0m 8ms/step - loss: 0.1923 - val_loss: 0.1392\n",
      "Epoch 71/150\n",
      "\u001b[1m26/26\u001b[0m \u001b[32m━━━━━━━━━━━━━━━━━━━━\u001b[0m\u001b[37m\u001b[0m \u001b[1m0s\u001b[0m 8ms/step - loss: 0.1748 - val_loss: 0.1368\n",
      "Epoch 72/150\n",
      "\u001b[1m26/26\u001b[0m \u001b[32m━━━━━━━━━━━━━━━━━━━━\u001b[0m\u001b[37m\u001b[0m \u001b[1m0s\u001b[0m 8ms/step - loss: 0.1475 - val_loss: 0.1655\n",
      "Epoch 73/150\n",
      "\u001b[1m26/26\u001b[0m \u001b[32m━━━━━━━━━━━━━━━━━━━━\u001b[0m\u001b[37m\u001b[0m \u001b[1m0s\u001b[0m 8ms/step - loss: 0.1861 - val_loss: 0.1543\n",
      "Epoch 74/150\n",
      "\u001b[1m26/26\u001b[0m \u001b[32m━━━━━━━━━━━━━━━━━━━━\u001b[0m\u001b[37m\u001b[0m \u001b[1m0s\u001b[0m 8ms/step - loss: 0.1649 - val_loss: 0.1372\n",
      "Epoch 75/150\n",
      "\u001b[1m26/26\u001b[0m \u001b[32m━━━━━━━━━━━━━━━━━━━━\u001b[0m\u001b[37m\u001b[0m \u001b[1m0s\u001b[0m 10ms/step - loss: 0.1567 - val_loss: 0.1338\n",
      "Epoch 76/150\n",
      "\u001b[1m26/26\u001b[0m \u001b[32m━━━━━━━━━━━━━━━━━━━━\u001b[0m\u001b[37m\u001b[0m \u001b[1m0s\u001b[0m 8ms/step - loss: 0.1311 - val_loss: 0.1266\n",
      "Epoch 77/150\n",
      "\u001b[1m26/26\u001b[0m \u001b[32m━━━━━━━━━━━━━━━━━━━━\u001b[0m\u001b[37m\u001b[0m \u001b[1m0s\u001b[0m 8ms/step - loss: 0.1795 - val_loss: 0.1312\n",
      "Epoch 78/150\n",
      "\u001b[1m26/26\u001b[0m \u001b[32m━━━━━━━━━━━━━━━━━━━━\u001b[0m\u001b[37m\u001b[0m \u001b[1m0s\u001b[0m 9ms/step - loss: 0.1565 - val_loss: 0.1756\n",
      "Epoch 79/150\n",
      "\u001b[1m26/26\u001b[0m \u001b[32m━━━━━━━━━━━━━━━━━━━━\u001b[0m\u001b[37m\u001b[0m \u001b[1m0s\u001b[0m 9ms/step - loss: 0.1380 - val_loss: 0.1402\n",
      "Epoch 80/150\n",
      "\u001b[1m26/26\u001b[0m \u001b[32m━━━━━━━━━━━━━━━━━━━━\u001b[0m\u001b[37m\u001b[0m \u001b[1m0s\u001b[0m 8ms/step - loss: 0.1549 - val_loss: 0.1315\n",
      "Epoch 81/150\n",
      "\u001b[1m26/26\u001b[0m \u001b[32m━━━━━━━━━━━━━━━━━━━━\u001b[0m\u001b[37m\u001b[0m \u001b[1m0s\u001b[0m 8ms/step - loss: 0.1389 - val_loss: 0.1800\n",
      "Epoch 82/150\n",
      "\u001b[1m26/26\u001b[0m \u001b[32m━━━━━━━━━━━━━━━━━━━━\u001b[0m\u001b[37m\u001b[0m \u001b[1m0s\u001b[0m 9ms/step - loss: 0.1324 - val_loss: 0.1312\n",
      "Epoch 83/150\n",
      "\u001b[1m26/26\u001b[0m \u001b[32m━━━━━━━━━━━━━━━━━━━━\u001b[0m\u001b[37m\u001b[0m \u001b[1m0s\u001b[0m 9ms/step - loss: 0.0987 - val_loss: 0.1248\n",
      "Epoch 84/150\n",
      "\u001b[1m26/26\u001b[0m \u001b[32m━━━━━━━━━━━━━━━━━━━━\u001b[0m\u001b[37m\u001b[0m \u001b[1m0s\u001b[0m 9ms/step - loss: 0.1381 - val_loss: 0.1190\n",
      "Epoch 85/150\n",
      "\u001b[1m26/26\u001b[0m \u001b[32m━━━━━━━━━━━━━━━━━━━━\u001b[0m\u001b[37m\u001b[0m \u001b[1m0s\u001b[0m 9ms/step - loss: 0.1262 - val_loss: 0.1193\n",
      "Epoch 86/150\n",
      "\u001b[1m26/26\u001b[0m \u001b[32m━━━━━━━━━━━━━━━━━━━━\u001b[0m\u001b[37m\u001b[0m \u001b[1m0s\u001b[0m 8ms/step - loss: 0.1272 - val_loss: 0.1323\n",
      "Epoch 87/150\n",
      "\u001b[1m26/26\u001b[0m \u001b[32m━━━━━━━━━━━━━━━━━━━━\u001b[0m\u001b[37m\u001b[0m \u001b[1m0s\u001b[0m 9ms/step - loss: 0.1583 - val_loss: 0.1101\n",
      "Epoch 88/150\n",
      "\u001b[1m26/26\u001b[0m \u001b[32m━━━━━━━━━━━━━━━━━━━━\u001b[0m\u001b[37m\u001b[0m \u001b[1m0s\u001b[0m 9ms/step - loss: 0.1146 - val_loss: 0.1880\n",
      "Epoch 89/150\n",
      "\u001b[1m26/26\u001b[0m \u001b[32m━━━━━━━━━━━━━━━━━━━━\u001b[0m\u001b[37m\u001b[0m \u001b[1m0s\u001b[0m 10ms/step - loss: 0.1382 - val_loss: 0.1285\n",
      "Epoch 90/150\n",
      "\u001b[1m26/26\u001b[0m \u001b[32m━━━━━━━━━━━━━━━━━━━━\u001b[0m\u001b[37m\u001b[0m \u001b[1m0s\u001b[0m 8ms/step - loss: 0.1058 - val_loss: 0.1122\n",
      "Epoch 91/150\n",
      "\u001b[1m26/26\u001b[0m \u001b[32m━━━━━━━━━━━━━━━━━━━━\u001b[0m\u001b[37m\u001b[0m \u001b[1m0s\u001b[0m 9ms/step - loss: 0.0922 - val_loss: 0.1064\n",
      "Epoch 92/150\n",
      "\u001b[1m26/26\u001b[0m \u001b[32m━━━━━━━━━━━━━━━━━━━━\u001b[0m\u001b[37m\u001b[0m \u001b[1m0s\u001b[0m 9ms/step - loss: 0.0963 - val_loss: 0.1403\n",
      "Epoch 93/150\n",
      "\u001b[1m26/26\u001b[0m \u001b[32m━━━━━━━━━━━━━━━━━━━━\u001b[0m\u001b[37m\u001b[0m \u001b[1m0s\u001b[0m 8ms/step - loss: 0.1080 - val_loss: 0.1436\n",
      "Epoch 94/150\n",
      "\u001b[1m26/26\u001b[0m \u001b[32m━━━━━━━━━━━━━━━━━━━━\u001b[0m\u001b[37m\u001b[0m \u001b[1m0s\u001b[0m 8ms/step - loss: 0.1231 - val_loss: 0.1488\n",
      "Epoch 95/150\n",
      "\u001b[1m26/26\u001b[0m \u001b[32m━━━━━━━━━━━━━━━━━━━━\u001b[0m\u001b[37m\u001b[0m \u001b[1m0s\u001b[0m 8ms/step - loss: 0.1007 - val_loss: 0.1258\n",
      "Epoch 96/150\n",
      "\u001b[1m26/26\u001b[0m \u001b[32m━━━━━━━━━━━━━━━━━━━━\u001b[0m\u001b[37m\u001b[0m \u001b[1m0s\u001b[0m 9ms/step - loss: 0.1033 - val_loss: 0.1307\n",
      "Epoch 97/150\n",
      "\u001b[1m26/26\u001b[0m \u001b[32m━━━━━━━━━━━━━━━━━━━━\u001b[0m\u001b[37m\u001b[0m \u001b[1m0s\u001b[0m 9ms/step - loss: 0.0839 - val_loss: 0.1176\n",
      "Epoch 98/150\n",
      "\u001b[1m26/26\u001b[0m \u001b[32m━━━━━━━━━━━━━━━━━━━━\u001b[0m\u001b[37m\u001b[0m \u001b[1m0s\u001b[0m 9ms/step - loss: 0.1096 - val_loss: 0.1198\n",
      "Epoch 99/150\n",
      "\u001b[1m26/26\u001b[0m \u001b[32m━━━━━━━━━━━━━━━━━━━━\u001b[0m\u001b[37m\u001b[0m \u001b[1m0s\u001b[0m 11ms/step - loss: 0.0968 - val_loss: 0.1239\n",
      "Epoch 100/150\n",
      "\u001b[1m26/26\u001b[0m \u001b[32m━━━━━━━━━━━━━━━━━━━━\u001b[0m\u001b[37m\u001b[0m \u001b[1m1s\u001b[0m 15ms/step - loss: 0.0949 - val_loss: 0.1105\n",
      "Epoch 101/150\n",
      "\u001b[1m26/26\u001b[0m \u001b[32m━━━━━━━━━━━━━━━━━━━━\u001b[0m\u001b[37m\u001b[0m \u001b[1m0s\u001b[0m 16ms/step - loss: 0.0787 - val_loss: 0.1329\n",
      "Epoch 102/150\n",
      "\u001b[1m26/26\u001b[0m \u001b[32m━━━━━━━━━━━━━━━━━━━━\u001b[0m\u001b[37m\u001b[0m \u001b[1m1s\u001b[0m 15ms/step - loss: 0.0770 - val_loss: 0.1061\n",
      "Epoch 103/150\n",
      "\u001b[1m26/26\u001b[0m \u001b[32m━━━━━━━━━━━━━━━━━━━━\u001b[0m\u001b[37m\u001b[0m \u001b[1m1s\u001b[0m 16ms/step - loss: 0.0724 - val_loss: 0.1197\n",
      "Epoch 104/150\n",
      "\u001b[1m26/26\u001b[0m \u001b[32m━━━━━━━━━━━━━━━━━━━━\u001b[0m\u001b[37m\u001b[0m \u001b[1m1s\u001b[0m 15ms/step - loss: 0.0853 - val_loss: 0.1700\n",
      "Epoch 105/150\n",
      "\u001b[1m26/26\u001b[0m \u001b[32m━━━━━━━━━━━━━━━━━━━━\u001b[0m\u001b[37m\u001b[0m \u001b[1m0s\u001b[0m 15ms/step - loss: 0.0640 - val_loss: 0.1187\n",
      "Epoch 106/150\n",
      "\u001b[1m26/26\u001b[0m \u001b[32m━━━━━━━━━━━━━━━━━━━━\u001b[0m\u001b[37m\u001b[0m \u001b[1m0s\u001b[0m 15ms/step - loss: 0.0841 - val_loss: 0.1137\n",
      "Epoch 107/150\n",
      "\u001b[1m26/26\u001b[0m \u001b[32m━━━━━━━━━━━━━━━━━━━━\u001b[0m\u001b[37m\u001b[0m \u001b[1m0s\u001b[0m 8ms/step - loss: 0.0881 - val_loss: 0.1955\n",
      "Epoch 108/150\n",
      "\u001b[1m26/26\u001b[0m \u001b[32m━━━━━━━━━━━━━━━━━━━━\u001b[0m\u001b[37m\u001b[0m \u001b[1m0s\u001b[0m 9ms/step - loss: 0.0858 - val_loss: 0.1096\n",
      "Epoch 109/150\n",
      "\u001b[1m26/26\u001b[0m \u001b[32m━━━━━━━━━━━━━━━━━━━━\u001b[0m\u001b[37m\u001b[0m \u001b[1m0s\u001b[0m 7ms/step - loss: 0.1231 - val_loss: 0.1179\n",
      "Epoch 110/150\n",
      "\u001b[1m26/26\u001b[0m \u001b[32m━━━━━━━━━━━━━━━━━━━━\u001b[0m\u001b[37m\u001b[0m \u001b[1m0s\u001b[0m 9ms/step - loss: 0.1357 - val_loss: 0.1106\n",
      "Epoch 111/150\n",
      "\u001b[1m26/26\u001b[0m \u001b[32m━━━━━━━━━━━━━━━━━━━━\u001b[0m\u001b[37m\u001b[0m \u001b[1m0s\u001b[0m 8ms/step - loss: 0.0854 - val_loss: 0.1272\n"
     ]
    }
   ],
   "source": [
    "# model compile\n",
    "model_test.compile(optimizer = Adam(learning_rate = 0.0001), loss = 'sparse_categorical_crossentropy')\n",
    "\n",
    "# model fit\n",
    "hist = model_test.fit(x_train_test, y_train_test, epochs = 150, validation_split = .2, callbacks = [es]).history"
   ]
  },
  {
   "cell_type": "code",
   "execution_count": null,
   "metadata": {
    "colab": {
     "base_uri": "https://localhost:8080/",
     "height": 542
    },
    "executionInfo": {
     "elapsed": 534,
     "status": "ok",
     "timestamp": 1729227454584,
     "user": {
      "displayName": "멀록왕아옳옳옳옳",
      "userId": "03972408807334882903"
     },
     "user_tz": -540
    },
    "id": "kOa2VdR9dTjc",
    "outputId": "33a9a334-c62f-4183-e028-fc0f5628501d"
   },
   "outputs": [
    {
     "data": {
      "image/png": "[encoded data removed]",
      "text/plain": [
       "<Figure size 1000x600 with 1 Axes>"
      ]
     },
     "metadata": {},
     "output_type": "display_data"
    }
   ],
   "source": [
    "dl_history_plot(hist)"
   ]
  },
  {
   "cell_type": "code",
   "execution_count": null,
   "metadata": {
    "colab": {
     "base_uri": "https://localhost:8080/"
    },
    "executionInfo": {
     "elapsed": 595,
     "status": "ok",
     "timestamp": 1729227459088,
     "user": {
      "displayName": "멀록왕아옳옳옳옳",
      "userId": "03972408807334882903"
     },
     "user_tz": -540
    },
    "id": "sZNnXzm1_geq",
    "outputId": "a385a1bd-d272-43af-ed98-33642436ee18"
   },
   "outputs": [
    {
     "name": "stdout",
     "output_type": "stream",
     "text": [
      "\u001b[1m14/14\u001b[0m \u001b[32m━━━━━━━━━━━━━━━━━━━━\u001b[0m\u001b[37m\u001b[0m \u001b[1m0s\u001b[0m 11ms/step\n",
      "[[82  0  0  0  0  6]\n",
      " [ 0 79  0  0  0  0]\n",
      " [ 0  0 75  0  0  0]\n",
      " [ 0  0  3 60  1  0]\n",
      " [ 0  0  3  0 61  0]\n",
      " [ 8  0  0  0  0 64]]\n",
      "              precision    recall  f1-score   support\n",
      "\n",
      "           0       0.91      0.93      0.92        88\n",
      "           1       1.00      1.00      1.00        79\n",
      "           2       0.93      1.00      0.96        75\n",
      "           3       1.00      0.94      0.97        64\n",
      "           4       0.98      0.95      0.97        64\n",
      "           5       0.91      0.89      0.90        72\n",
      "\n",
      "    accuracy                           0.95       442\n",
      "   macro avg       0.96      0.95      0.95       442\n",
      "weighted avg       0.95      0.95      0.95       442\n",
      "\n"
     ]
    }
   ],
   "source": [
    "y_pred_test = model_test.predict(x_test)\n",
    "\n",
    "y_pred_test=y_pred_test.argmax(axis = 1)\n",
    "print(confusion_matrix(y_val_test , y_pred_test))\n",
    "print(classification_report(y_val_test , y_pred_test))"
   ]
  }
 ],
 "metadata": {
  "colab": {
   "provenance": []
  },
  "kernelspec": {
   "display_name": "Python 3",
   "name": "python3"
  },
  "language_info": {
   "name": "python"
  }
 },
 "nbformat": 4,
 "nbformat_minor": 0
}
