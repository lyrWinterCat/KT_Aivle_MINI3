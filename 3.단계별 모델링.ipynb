{
 "cells": [
  {
   "cell_type": "markdown",
   "metadata": {
    "id": "NbI_RoQ9AP5r"
   },
   "source": [
    "#**스마트폰 센서 데이터 기반 모션 분류**\n",
    "# 단계3 : 단계별 모델링\n"
   ]
  },
  {
   "cell_type": "markdown",
   "metadata": {
    "id": "1Q7N3tIf0IXn"
   },
   "source": [
    "* 단계별로 나눠서 모델링을 수행  \n",
    "* 단계 구분 예시\n",
    "    * 단계1 : 정적(0), 동적(1) 행동 분류 모델 생성\n",
    "    * 단계2 : 세부 동작에 대한 분류모델 생성\n",
    "        * 단계1 모델에서 0으로 예측 -> 정적 행동 3가지 분류 모델링\n",
    "        * 단계1 모델에서 1으로 예측 -> 동적 행동 3가지 분류 모델링\n",
    "* 모델 통합\n",
    "    * 두 단계 모델을 통합하고, 새로운 데이터에 대해서 최종 예측결과와 성능평가가 나오도록 함수로 만들기\n",
    "* 성능 비교\n",
    "    * 기본 모델링의 성능과 비교\n",
    "    * 성능 가이드\n",
    "        * Accuracy : 0.97 ~ 0.99\n",
    "* 파이프라인 구성\n",
    "    * test 데이터를 입력하여, 전처리 및 예측결과가 나오도록 함수 구성"
   ]
  },
  {
   "cell_type": "markdown",
   "metadata": {
    "id": "rgiFiMnzd3Jn"
   },
   "source": [
    "## 1.환경설정"
   ]
  },
  {
   "cell_type": "markdown",
   "metadata": {
    "id": "0fDUoBYfd3Jx"
   },
   "source": [
    "* 세부 요구사항\n",
    "    - 경로 설정 : 구글콜랩\n",
    "        * 구글 드라이브 바로 밑에 project3 폴더를 만들고,\n",
    "        * 데이터 파일을 복사해 넣습니다.\n",
    "    - 기본적으로 필요한 라이브러리를 import 하도록 코드가 작성되어 있습니다.\n",
    "        * 필요하다고 판단되는 라이브러리를 추가하세요.\n"
   ]
  },
  {
   "cell_type": "markdown",
   "metadata": {
    "id": "EP6x0_Qrd3Jx"
   },
   "source": [
    "### (1) 경로 설정"
   ]
  },
  {
   "cell_type": "markdown",
   "metadata": {
    "id": "Nc5ajfyHd3Jx"
   },
   "source": [
    "* 구글 드라이브 연결"
   ]
  },
  {
   "cell_type": "code",
   "execution_count": 1,
   "metadata": {
    "colab": {
     "base_uri": "https://localhost:8080/"
    },
    "executionInfo": {
     "elapsed": 35317,
     "status": "ok",
     "timestamp": 1729214935072,
     "user": {
      "displayName": "ByeongJin O",
      "userId": "14912423715743829428"
     },
     "user_tz": -540
    },
    "id": "Ic8ZeFKcd3Jx",
    "outputId": "9b8dec3a-12d1-4d37-88f0-13403e8aab18"
   },
   "outputs": [
    {
     "name": "stdout",
     "output_type": "stream",
     "text": [
      "Mounted at /content/drive\n"
     ]
    }
   ],
   "source": [
    "from google.colab import drive\n",
    "drive.mount('/content/drive')"
   ]
  },
  {
   "cell_type": "code",
   "execution_count": 2,
   "metadata": {
    "executionInfo": {
     "elapsed": 5,
     "status": "ok",
     "timestamp": 1729214935072,
     "user": {
      "displayName": "ByeongJin O",
      "userId": "14912423715743829428"
     },
     "user_tz": -540
    },
    "id": "rR-drTHhd3Jx"
   },
   "outputs": [],
   "source": [
    "path = '/content/drive/MyDrive/project3/'"
   ]
  },
  {
   "cell_type": "markdown",
   "metadata": {
    "id": "Tqpjn1W3d3Jx"
   },
   "source": [
    "### (2) 라이브러리 불러오기"
   ]
  },
  {
   "cell_type": "markdown",
   "metadata": {
    "id": "-ZxRcPNqd3Jy"
   },
   "source": [
    "* 라이브러리 로딩"
   ]
  },
  {
   "cell_type": "code",
   "execution_count": 3,
   "metadata": {
    "executionInfo": {
     "elapsed": 9605,
     "status": "ok",
     "timestamp": 1729214948170,
     "user": {
      "displayName": "ByeongJin O",
      "userId": "14912423715743829428"
     },
     "user_tz": -540
    },
    "id": "___ks_QAd3Jy"
   },
   "outputs": [],
   "source": [
    "import pandas as pd\n",
    "import numpy as np\n",
    "import matplotlib.pyplot as plt\n",
    "import seaborn as sns\n",
    "\n",
    "import joblib\n",
    "\n",
    "from sklearn.model_selection import train_test_split\n",
    "from sklearn.preprocessing import MinMaxScaler, LabelEncoder\n",
    "from sklearn.metrics import *\n",
    "\n",
    "from keras.models import Sequential, Model\n",
    "from keras.layers import Dense, Flatten, Dropout, Input, concatenate\n",
    "from keras.backend import clear_session\n",
    "from keras.optimizers import Adam\n",
    "from keras.callbacks import EarlyStopping"
   ]
  },
  {
   "cell_type": "code",
   "execution_count": 4,
   "metadata": {
    "executionInfo": {
     "elapsed": 4,
     "status": "ok",
     "timestamp": 1729214948171,
     "user": {
      "displayName": "ByeongJin O",
      "userId": "14912423715743829428"
     },
     "user_tz": -540
    },
    "id": "3c4JgiEbNKfo"
   },
   "outputs": [],
   "source": [
    "# 학습곡선 함수\n",
    "def dl_history_plot(history):\n",
    "    plt.figure(figsize=(10,6))\n",
    "    plt.plot(history['loss'], label='train_err', marker = '.')\n",
    "    plt.plot(history['val_loss'], label='val_err', marker = '.')\n",
    "\n",
    "    plt.ylabel('Loss')\n",
    "    plt.xlabel('Epoch')\n",
    "    plt.legend()\n",
    "    plt.grid()\n",
    "    plt.show()"
   ]
  },
  {
   "cell_type": "markdown",
   "metadata": {
    "id": "bA-eHXdwBDCz"
   },
   "source": [
    "### (3) 데이터 불러오기"
   ]
  },
  {
   "cell_type": "markdown",
   "metadata": {
    "id": "tDueQoA3d3Jy"
   },
   "source": [
    "* 주어진 데이터셋\n",
    "    * data01_train.csv : 학습 및 검증용\n",
    "    * data01_test.csv : 테스트용\n",
    "    * feature.csv : feature 이름을 계층구조로 정리한 데이터\n",
    "\n",
    "* 세부 요구사항\n",
    "    * 칼럼 삭제 : data01_train.csv와 data01_test.csv 에서 'subject' 칼럼은 불필요하므로 삭제합니다."
   ]
  },
  {
   "cell_type": "markdown",
   "metadata": {
    "id": "IlitR6ytPkL2"
   },
   "source": [
    "#### 0) 함수 제작"
   ]
  },
  {
   "cell_type": "code",
   "execution_count": 5,
   "metadata": {
    "executionInfo": {
     "elapsed": 344,
     "status": "ok",
     "timestamp": 1729215033777,
     "user": {
      "displayName": "ByeongJin O",
      "userId": "14912423715743829428"
     },
     "user_tz": -540
    },
    "id": "g1JQBrDZPjEi"
   },
   "outputs": [],
   "source": [
    "# 가장 기본적인 pipeline\n",
    "def data01_pipeline(df):\n",
    "  df.drop(columns='subject', inplace=True)\n",
    "\n",
    "  scaler = MinMaxScaler()\n",
    "  df = scaler.fit_transform(df)\n",
    "\n",
    "  return df\n",
    "\n",
    "# STANDING, SITTING, LAYING, WALKING, WALKING-UPSTAIRS, WALKING-DOWNSTAIRS\n",
    "# LabelEncoder 방식으로 변환\n",
    "def data01_pipeline_activity(df):\n",
    "  x = df.drop(columns='Activity')\n",
    "  y = df.loc[:, ['Activity']]\n",
    "\n",
    "  df = data01_pipeline(x)\n",
    "\n",
    "  lenc = LabelEncoder()\n",
    "  y['Activity'] = lenc.fit_transform(y['Activity'])\n",
    "  return df, y['Activity'], lenc.classes_\n",
    "\n",
    "# Activity 기준으로 is_dynamic 변환\n",
    "def data01_pipeline_is_dynamic(df):\n",
    "  x = df.drop(columns='Activity')\n",
    "  y = df.loc[:, ['Activity']]\n",
    "\n",
    "  df = data01_pipeline(x)\n",
    "\n",
    "  y['is_dynamic'] = y['Activity'].apply(lambda x : 1 if x in ('WALKING', 'WALKING_UPSTAIRS', 'WALKING_DOWNSTAIRS') else 0)\n",
    "  y.drop(columns=['Activity'], inplace=True)\n",
    "\n",
    "  return df, y['is_dynamic']\n",
    "\n",
    "# is_dynamic, Activity 전부 출력\n",
    "def data01_pipeline_all(df):\n",
    "  x = df.drop(columns='Activity')\n",
    "  y = df.loc[:, ['Activity']]\n",
    "\n",
    "  df = data01_pipeline(x)\n",
    "\n",
    "  y['is_dynamic'] = y['Activity'].apply(lambda x : 1 if x in ('WALKING', 'WALKING_UPSTAIRS', 'WALKING_DOWNSTAIRS') else 0)\n",
    "\n",
    "  lenc = LabelEncoder()\n",
    "  y['Activity'] = lenc.fit_transform(y['Activity'])\n",
    "  return df, y['Activity'], lenc.classes_, y['is_dynamic']\n",
    "\n",
    "# is_dynamic에 따라 분리를 위한 함수\n",
    "def devide_is_dynamic(df, activity, is_dynamic):\n",
    "  result = pd.concat([pd.DataFrame(df), activity, is_dynamic], axis=1)\n",
    "  dynamic = result.loc[(is_dynamic == 1)]\n",
    "  dynamic_x = dynamic.drop(columns=['Activity', 'is_dynamic'])\n",
    "  dynamic_y = dynamic.loc[:, 'Activity']\n",
    "\n",
    "  static = result.loc[(is_dynamic == 0)]\n",
    "  static_x = static.drop(columns=['Activity', 'is_dynamic'])\n",
    "  static_y = static.loc[:, 'Activity']\n",
    "\n",
    "\n",
    "  return dynamic_x, dynamic_y, static_x, static_y\n",
    "\n",
    "# Loop 테스트 함수\n",
    "def loop_fit_test(param, x_train, y_train, x_val, y_val, loop_count=5, learning_rate=0.001, epochs=100, validation_split=0.2, es_info=None, verbose='auto'):\n",
    "  result = []\n",
    "  history_list = []\n",
    "  model_list = []\n",
    "  for i in range(loop_count):\n",
    "    clear_session()\n",
    "    model = Sequential(eval(param))\n",
    "    model.compile(optimizer=Adam(learning_rate=learning_rate), loss='sparse_categorical_crossentropy')\n",
    "    es = None if es_info is None else [EarlyStopping(monitor=es_info['monitor'], min_delta=es_info['min_delta'], patience=es_info['patience'])]\n",
    "    history = model.fit(x_train, y_train, epochs=epochs, verbose=verbose, validation_split=validation_split, callbacks=es).history\n",
    "    pred = model.predict(x_val)\n",
    "    pred = pred.argmax(axis=1)\n",
    "    result.append({\n",
    "        'accuracy_score' : accuracy_score(y_val, pred),\n",
    "        'confusion_matrix' : confusion_matrix(y_val, pred),\n",
    "        'classification_report' : classification_report(y_val, pred)\n",
    "    })\n",
    "    history_list.append(history)\n",
    "    model_list.append(model)\n",
    "    print(f\"{i+1} 번쨰 학습 Accuracy_score : {result[-1]['accuracy_score']}\")\n",
    "  return result, history_list, model_list"
   ]
  },
  {
   "cell_type": "markdown",
   "metadata": {
    "id": "fmgUEGOipvG5"
   },
   "source": [
    "#### 1) 데이터로딩"
   ]
  },
  {
   "cell_type": "code",
   "execution_count": 6,
   "metadata": {
    "executionInfo": {
     "elapsed": 6088,
     "status": "ok",
     "timestamp": 1729215041756,
     "user": {
      "displayName": "ByeongJin O",
      "userId": "14912423715743829428"
     },
     "user_tz": -540
    },
    "id": "HdZCcSs6qfRC"
   },
   "outputs": [],
   "source": [
    "original_data = pd.read_csv(path + 'data01_train.csv')"
   ]
  },
  {
   "cell_type": "code",
   "execution_count": null,
   "metadata": {
    "id": "V8tUE_fyqfRC"
   },
   "outputs": [],
   "source": []
  },
  {
   "cell_type": "code",
   "execution_count": null,
   "metadata": {
    "id": "FcUbOi_-qfRC"
   },
   "outputs": [],
   "source": []
  },
  {
   "cell_type": "markdown",
   "metadata": {
    "id": "aI7qJqz3pr3m"
   },
   "source": [
    "#### 2) 기본 정보 조회"
   ]
  },
  {
   "cell_type": "code",
   "execution_count": null,
   "metadata": {
    "id": "yFVSAGNhpr3m"
   },
   "outputs": [],
   "source": []
  },
  {
   "cell_type": "code",
   "execution_count": null,
   "metadata": {
    "id": "xJnnr8K-pr3m"
   },
   "outputs": [],
   "source": []
  },
  {
   "cell_type": "code",
   "execution_count": null,
   "metadata": {
    "id": "ajJ1qJkhpr3n"
   },
   "outputs": [],
   "source": []
  },
  {
   "cell_type": "code",
   "execution_count": null,
   "metadata": {
    "id": "Jn78I6JFpr3n"
   },
   "outputs": [],
   "source": []
  },
  {
   "cell_type": "markdown",
   "metadata": {
    "id": "O38e5xai7SIW"
   },
   "source": [
    "## 2.데이터 전처리"
   ]
  },
  {
   "cell_type": "markdown",
   "metadata": {
    "id": "5vKH3MU30d8H"
   },
   "source": [
    "* 세부 요구사항\n",
    "    - Label 추가 : 1단계 모델을 위한 레이블 추가\n",
    "    - train : val = 8 : 2 혹은 7 : 3\n",
    "    - random_state 옵션을 사용하여 다른 모델과 비교를 위해 성능이 재현되도록 합니다."
   ]
  },
  {
   "cell_type": "markdown",
   "metadata": {
    "id": "wHxeKHxze2uL"
   },
   "source": [
    "### (1) 1단계 모델링을 위한 레이블"
   ]
  },
  {
   "cell_type": "code",
   "execution_count": 227,
   "metadata": {
    "executionInfo": {
     "elapsed": 454,
     "status": "ok",
     "timestamp": 1729230014543,
     "user": {
      "displayName": "ByeongJin O",
      "userId": "14912423715743829428"
     },
     "user_tz": -540
    },
    "id": "bT3ScKtUe76_"
   },
   "outputs": [],
   "source": [
    "x, y_activity, classes, y_is_dynamic = data01_pipeline_all(original_data.copy())\n",
    "dynamic_x, dynamic_y, static_x, static_y = devide_is_dynamic(x, y_activity, y_is_dynamic)"
   ]
  },
  {
   "cell_type": "markdown",
   "metadata": {
    "id": "uAsBmDupKQX8"
   },
   "source": [
    "### (2) x, y 분리"
   ]
  },
  {
   "cell_type": "code",
   "execution_count": 228,
   "metadata": {
    "colab": {
     "base_uri": "https://localhost:8080/"
    },
    "executionInfo": {
     "elapsed": 327,
     "status": "ok",
     "timestamp": 1729230018128,
     "user": {
      "displayName": "ByeongJin O",
      "userId": "14912423715743829428"
     },
     "user_tz": -540
    },
    "id": "JVOseiQLKMoq",
    "outputId": "40b71fb4-6ed7-47ce-cb29-ba8640ab4f3d"
   },
   "outputs": [
    {
     "data": {
      "text/plain": [
       "array(['LAYING', 'SITTING', 'STANDING', 'WALKING', 'WALKING_DOWNSTAIRS',\n",
       "       'WALKING_UPSTAIRS'], dtype=object)"
      ]
     },
     "execution_count": 228,
     "metadata": {},
     "output_type": "execute_result"
    }
   ],
   "source": [
    "# 함수화 진행\n",
    "classes"
   ]
  },
  {
   "cell_type": "markdown",
   "metadata": {
    "id": "A8hxVzM3Agvw"
   },
   "source": [
    "### (3) 스케일링\n"
   ]
  },
  {
   "cell_type": "markdown",
   "metadata": {
    "id": "8OHAQJ9HJZP8"
   },
   "source": [
    "* 세부 요구사항\n",
    "    - 스케일링을 필요로 하는 알고리즘 사용을 위해서 코드 수행\n",
    "    - min-max 방식 혹은 standard 방식 중 한가지 사용."
   ]
  },
  {
   "cell_type": "code",
   "execution_count": null,
   "metadata": {
    "id": "egLANGC5BMmk"
   },
   "outputs": [],
   "source": [
    "# 함수화 진행"
   ]
  },
  {
   "cell_type": "markdown",
   "metadata": {
    "id": "TH_rqRv6jA9V"
   },
   "source": [
    "### (4) 데이터 분할\n",
    "* train, val 분할"
   ]
  },
  {
   "cell_type": "code",
   "execution_count": 37,
   "metadata": {
    "executionInfo": {
     "elapsed": 2605,
     "status": "ok",
     "timestamp": 1729216998088,
     "user": {
      "displayName": "ByeongJin O",
      "userId": "14912423715743829428"
     },
     "user_tz": -540
    },
    "id": "EATFZQZpx5yR"
   },
   "outputs": [],
   "source": [
    "# activity 분할\n",
    "x_train, x_val, y_train, y_val = train_test_split(x, y_activity, test_size=0.3, random_state=20)\n",
    "\n",
    "# is_dynamic 분할\n",
    "x_train2, x_val2, y_train2, y_val2 = train_test_split(x, y_is_dynamic, test_size=0.3, random_state=20)\n",
    "\n",
    "# 정적 데이터 분할\n",
    "x_train_static, x_val_static, y_train_static, y_val_static = train_test_split(static_x, static_y, test_size=0.3, random_state=20)\n",
    "\n",
    "# 동적 데이터 분할\n",
    "x_train_dynamic, x_val_dynamic, y_train_dynamic, y_val_dynamic = train_test_split(dynamic_x, dynamic_y, test_size=0.3, random_state=20)"
   ]
  },
  {
   "cell_type": "code",
   "execution_count": 108,
   "metadata": {
    "colab": {
     "base_uri": "https://localhost:8080/"
    },
    "executionInfo": {
     "elapsed": 3,
     "status": "ok",
     "timestamp": 1729221871193,
     "user": {
      "displayName": "ByeongJin O",
      "userId": "14912423715743829428"
     },
     "user_tz": -540
    },
    "id": "Sa-2XthPU0hj",
    "outputId": "4d1d9363-72f3-4403-c719-c688de00307e"
   },
   "outputs": [
    {
     "data": {
      "text/plain": [
       "(1852, 561)"
      ]
     },
     "execution_count": 108,
     "metadata": {},
     "output_type": "execute_result"
    }
   ],
   "source": [
    "x_train.shape\n",
    "x_train_dynamic.shape"
   ]
  },
  {
   "cell_type": "markdown",
   "metadata": {
    "id": "bue7ZTLABQzi"
   },
   "source": [
    "## **3.단계별 모델링**"
   ]
  },
  {
   "cell_type": "markdown",
   "metadata": {
    "id": "zSYmjDzQRYNM"
   },
   "source": [
    "### (0) 글로벌 변수"
   ]
  },
  {
   "cell_type": "code",
   "execution_count": 9,
   "metadata": {
    "executionInfo": {
     "elapsed": 1478,
     "status": "ok",
     "timestamp": 1729215485838,
     "user": {
      "displayName": "ByeongJin O",
      "userId": "14912423715743829428"
     },
     "user_tz": -540
    },
    "id": "AstLT8bFRYUs"
   },
   "outputs": [],
   "source": [
    "result_dict = {}\n",
    "history_dict = {}"
   ]
  },
  {
   "cell_type": "markdown",
   "metadata": {
    "id": "fCpsgFz40pJ3"
   },
   "source": [
    "### (1) 단계1"
   ]
  },
  {
   "cell_type": "markdown",
   "metadata": {
    "id": "JtwoYR2e0pJ3"
   },
   "source": [
    "* 세부 요구사항\n",
    "    * 적절한 단계로 구분한 후, 1단계를 분류하는 모델 생성\n",
    "        * 예시 : 정적 행동(Laying, Sitting, Standing)과 동적 행동(동적 : Walking, Walking-Up, Walking-Down)을 구분하는 모델 생성.\n",
    "    * 몇 가지 모델을 만들고 가장 성능이 좋은 모델을 선정하시오."
   ]
  },
  {
   "cell_type": "markdown",
   "metadata": {
    "id": "cWYtB_nUD6zu"
   },
   "source": [
    "#### 1) 모델1"
   ]
  },
  {
   "cell_type": "code",
   "execution_count": 29,
   "metadata": {
    "colab": {
     "base_uri": "https://localhost:8080/"
    },
    "collapsed": true,
    "executionInfo": {
     "elapsed": 35783,
     "status": "ok",
     "timestamp": 1729216484015,
     "user": {
      "displayName": "ByeongJin O",
      "userId": "14912423715743829428"
     },
     "user_tz": -540
    },
    "id": "6lV2HRaPf4k8",
    "outputId": "5ec31959-5fd7-4b14-b2e3-922b88c8bbae"
   },
   "outputs": [
    {
     "name": "stdout",
     "output_type": "stream",
     "text": [
      "\u001b[1m56/56\u001b[0m \u001b[32m━━━━━━━━━━━━━━━━━━━━\u001b[0m\u001b[37m\u001b[0m \u001b[1m0s\u001b[0m 2ms/step\n"
     ]
    }
   ],
   "source": [
    "#모델 선언\n",
    "model1 = Sequential([\n",
    "    Input(shape=(x_train.shape[1],)),\n",
    "    Dense(1, activation='sigmoid')\n",
    "])\n",
    "model1.compile(optimizer=Adam(learning_rate=0.001), loss='binary_crossentropy')\n",
    "history1 = model1.fit(x_train2, y_train2, epochs=100, verbose=0, validation_split=0.2).history\n",
    "pred1 = model1.predict(x_val2)\n",
    "# pred1 = pred1.argmax(axis=1)\n",
    "pred1 = np.where(pred1 >= 0.5, 1, 0)\n",
    "result1 = {\n",
    "    'accuracy_score' : accuracy_score(y_val2, pred1),\n",
    "    'confusion_matrix' : confusion_matrix(y_val2, pred1),\n",
    "    'classification_report' : classification_report(y_val2, pred1)\n",
    "}\n",
    "result_dict['Model1'] = [result1, history1]"
   ]
  },
  {
   "cell_type": "code",
   "execution_count": 35,
   "metadata": {
    "colab": {
     "base_uri": "https://localhost:8080/"
    },
    "executionInfo": {
     "elapsed": 4,
     "status": "ok",
     "timestamp": 1729216643756,
     "user": {
      "displayName": "ByeongJin O",
      "userId": "14912423715743829428"
     },
     "user_tz": -540
    },
    "id": "A5T3I0P9Vzn7",
    "outputId": "04a008e8-06fc-40d8-928d-52a3b83430e9"
   },
   "outputs": [
    {
     "name": "stdout",
     "output_type": "stream",
     "text": [
      "[[956   0]\n",
      " [  0 809]]\n",
      "              precision    recall  f1-score   support\n",
      "\n",
      "           0       1.00      1.00      1.00       956\n",
      "           1       1.00      1.00      1.00       809\n",
      "\n",
      "    accuracy                           1.00      1765\n",
      "   macro avg       1.00      1.00      1.00      1765\n",
      "weighted avg       1.00      1.00      1.00      1765\n",
      "\n"
     ]
    }
   ],
   "source": [
    "print(result_dict['Model1'][0]['confusion_matrix'])\n",
    "print(result_dict['Model1'][0]['classification_report'])"
   ]
  },
  {
   "cell_type": "code",
   "execution_count": 32,
   "metadata": {
    "colab": {
     "base_uri": "https://localhost:8080/",
     "height": 518
    },
    "executionInfo": {
     "elapsed": 1988,
     "status": "ok",
     "timestamp": 1729216590579,
     "user": {
      "displayName": "ByeongJin O",
      "userId": "14912423715743829428"
     },
     "user_tz": -540
    },
    "id": "qKIYgnA5Sbv-",
    "outputId": "a3c45eaf-f1b4-4817-a524-dd45be3f1e45"
   },
   "outputs": [
    {
     "data": {
      "image/png": "[encoded data removed]",
      "text/plain": [
       "<Figure size 1000x600 with 1 Axes>"
      ]
     },
     "metadata": {},
     "output_type": "display_data"
    }
   ],
   "source": [
    "dl_history_plot(result_dict['Model1'][1])"
   ]
  },
  {
   "cell_type": "code",
   "execution_count": null,
   "metadata": {
    "id": "oq7lvKmE0rrO"
   },
   "outputs": [],
   "source": []
  },
  {
   "cell_type": "markdown",
   "metadata": {
    "id": "Xo6HcoOUh8I5"
   },
   "source": [
    "#### 2) 모델2"
   ]
  },
  {
   "cell_type": "code",
   "execution_count": null,
   "metadata": {
    "id": "rgQFTyrn0uLA"
   },
   "outputs": [],
   "source": []
  },
  {
   "cell_type": "code",
   "execution_count": null,
   "metadata": {
    "id": "Mjl9LNyQ0uIm"
   },
   "outputs": [],
   "source": []
  },
  {
   "cell_type": "code",
   "execution_count": null,
   "metadata": {
    "id": "zZ05bc900uFd"
   },
   "outputs": [],
   "source": []
  },
  {
   "cell_type": "markdown",
   "metadata": {
    "id": "cK9A9XmW0pJ8"
   },
   "source": [
    "### (2) 단계2"
   ]
  },
  {
   "cell_type": "markdown",
   "metadata": {
    "id": "uPFEN7aniicS"
   },
   "source": [
    "#### 1) 단계2-1 : 정적 동작 세부 분류"
   ]
  },
  {
   "cell_type": "markdown",
   "metadata": {
    "id": "S8v3DgDX0pJ8"
   },
   "source": [
    "* 세부 요구사항\n",
    "    * 정적 행동(Laying, Sitting, Standing)인 데이터 추출\n",
    "    * Laying, Sitting, Standing 를 분류하는 모델을 생성\n",
    "    * 몇가지 모델을 만들고 가장 성능이 좋은 모델을 선정하시오."
   ]
  },
  {
   "cell_type": "markdown",
   "metadata": {
    "id": "RErsvbDnldZ9"
   },
   "source": [
    "##### 1> 정적 동작 세부 분류 1번"
   ]
  },
  {
   "cell_type": "code",
   "execution_count": 245,
   "metadata": {
    "colab": {
     "base_uri": "https://localhost:8080/"
    },
    "executionInfo": {
     "elapsed": 52169,
     "status": "ok",
     "timestamp": 1729231368533,
     "user": {
      "displayName": "ByeongJin O",
      "userId": "14912423715743829428"
     },
     "user_tz": -540
    },
    "id": "ZUnIqQ3O0yrb",
    "outputId": "ccb59ef3-4175-4511-dd5b-902f1ec5a141"
   },
   "outputs": [
    {
     "name": "stdout",
     "output_type": "stream",
     "text": [
      "Epoch 1/1000\n",
      "\u001b[1m57/57\u001b[0m \u001b[32m━━━━━━━━━━━━━━━━━━━━\u001b[0m\u001b[37m\u001b[0m \u001b[1m2s\u001b[0m 15ms/step - loss: 1.0456 - val_loss: 0.7169\n",
      "Epoch 2/1000\n",
      "\u001b[1m57/57\u001b[0m \u001b[32m━━━━━━━━━━━━━━━━━━━━\u001b[0m\u001b[37m\u001b[0m \u001b[1m1s\u001b[0m 14ms/step - loss: 0.7400 - val_loss: 0.4583\n",
      "Epoch 3/1000\n",
      "\u001b[1m57/57\u001b[0m \u001b[32m━━━━━━━━━━━━━━━━━━━━\u001b[0m\u001b[37m\u001b[0m \u001b[1m1s\u001b[0m 14ms/step - loss: 0.5104 - val_loss: 0.3786\n",
      "Epoch 4/1000\n",
      "\u001b[1m57/57\u001b[0m \u001b[32m━━━━━━━━━━━━━━━━━━━━\u001b[0m\u001b[37m\u001b[0m \u001b[1m1s\u001b[0m 13ms/step - loss: 0.4425 - val_loss: 0.3133\n",
      "Epoch 5/1000\n",
      "\u001b[1m57/57\u001b[0m \u001b[32m━━━━━━━━━━━━━━━━━━━━\u001b[0m\u001b[37m\u001b[0m \u001b[1m1s\u001b[0m 14ms/step - loss: 0.4040 - val_loss: 0.3146\n",
      "Epoch 6/1000\n",
      "\u001b[1m57/57\u001b[0m \u001b[32m━━━━━━━━━━━━━━━━━━━━\u001b[0m\u001b[37m\u001b[0m \u001b[1m1s\u001b[0m 9ms/step - loss: 0.3318 - val_loss: 0.2558\n",
      "Epoch 7/1000\n",
      "\u001b[1m57/57\u001b[0m \u001b[32m━━━━━━━━━━━━━━━━━━━━\u001b[0m\u001b[37m\u001b[0m \u001b[1m1s\u001b[0m 9ms/step - loss: 0.2930 - val_loss: 0.2231\n",
      "Epoch 8/1000\n",
      "\u001b[1m57/57\u001b[0m \u001b[32m━━━━━━━━━━━━━━━━━━━━\u001b[0m\u001b[37m\u001b[0m \u001b[1m1s\u001b[0m 10ms/step - loss: 0.2646 - val_loss: 0.2042\n",
      "Epoch 9/1000\n",
      "\u001b[1m57/57\u001b[0m \u001b[32m━━━━━━━━━━━━━━━━━━━━\u001b[0m\u001b[37m\u001b[0m \u001b[1m1s\u001b[0m 9ms/step - loss: 0.2589 - val_loss: 0.1908\n",
      "Epoch 10/1000\n",
      "\u001b[1m57/57\u001b[0m \u001b[32m━━━━━━━━━━━━━━━━━━━━\u001b[0m\u001b[37m\u001b[0m \u001b[1m1s\u001b[0m 9ms/step - loss: 0.2052 - val_loss: 0.2484\n",
      "Epoch 11/1000\n",
      "\u001b[1m57/57\u001b[0m \u001b[32m━━━━━━━━━━━━━━━━━━━━\u001b[0m\u001b[37m\u001b[0m \u001b[1m1s\u001b[0m 9ms/step - loss: 0.2254 - val_loss: 0.1614\n",
      "Epoch 12/1000\n",
      "\u001b[1m57/57\u001b[0m \u001b[32m━━━━━━━━━━━━━━━━━━━━\u001b[0m\u001b[37m\u001b[0m \u001b[1m1s\u001b[0m 10ms/step - loss: 0.1916 - val_loss: 0.1623\n",
      "Epoch 13/1000\n",
      "\u001b[1m57/57\u001b[0m \u001b[32m━━━━━━━━━━━━━━━━━━━━\u001b[0m\u001b[37m\u001b[0m \u001b[1m1s\u001b[0m 10ms/step - loss: 0.1747 - val_loss: 0.1532\n",
      "Epoch 14/1000\n",
      "\u001b[1m57/57\u001b[0m \u001b[32m━━━━━━━━━━━━━━━━━━━━\u001b[0m\u001b[37m\u001b[0m \u001b[1m1s\u001b[0m 9ms/step - loss: 0.1642 - val_loss: 0.1583\n",
      "Epoch 15/1000\n",
      "\u001b[1m57/57\u001b[0m \u001b[32m━━━━━━━━━━━━━━━━━━━━\u001b[0m\u001b[37m\u001b[0m \u001b[1m1s\u001b[0m 10ms/step - loss: 0.1598 - val_loss: 0.1318\n",
      "Epoch 16/1000\n",
      "\u001b[1m57/57\u001b[0m \u001b[32m━━━━━━━━━━━━━━━━━━━━\u001b[0m\u001b[37m\u001b[0m \u001b[1m1s\u001b[0m 9ms/step - loss: 0.1674 - val_loss: 0.1320\n",
      "Epoch 17/1000\n",
      "\u001b[1m57/57\u001b[0m \u001b[32m━━━━━━━━━━━━━━━━━━━━\u001b[0m\u001b[37m\u001b[0m \u001b[1m1s\u001b[0m 9ms/step - loss: 0.1445 - val_loss: 0.1319\n",
      "Epoch 18/1000\n",
      "\u001b[1m57/57\u001b[0m \u001b[32m━━━━━━━━━━━━━━━━━━━━\u001b[0m\u001b[37m\u001b[0m \u001b[1m1s\u001b[0m 10ms/step - loss: 0.1294 - val_loss: 0.1416\n",
      "Epoch 19/1000\n",
      "\u001b[1m57/57\u001b[0m \u001b[32m━━━━━━━━━━━━━━━━━━━━\u001b[0m\u001b[37m\u001b[0m \u001b[1m1s\u001b[0m 9ms/step - loss: 0.1266 - val_loss: 0.1209\n",
      "Epoch 20/1000\n",
      "\u001b[1m57/57\u001b[0m \u001b[32m━━━━━━━━━━━━━━━━━━━━\u001b[0m\u001b[37m\u001b[0m \u001b[1m1s\u001b[0m 9ms/step - loss: 0.1141 - val_loss: 0.1197\n",
      "Epoch 21/1000\n",
      "\u001b[1m57/57\u001b[0m \u001b[32m━━━━━━━━━━━━━━━━━━━━\u001b[0m\u001b[37m\u001b[0m \u001b[1m1s\u001b[0m 9ms/step - loss: 0.1038 - val_loss: 0.1291\n",
      "Epoch 22/1000\n",
      "\u001b[1m57/57\u001b[0m \u001b[32m━━━━━━━━━━━━━━━━━━━━\u001b[0m\u001b[37m\u001b[0m \u001b[1m1s\u001b[0m 12ms/step - loss: 0.1162 - val_loss: 0.1189\n",
      "Epoch 23/1000\n",
      "\u001b[1m57/57\u001b[0m \u001b[32m━━━━━━━━━━━━━━━━━━━━\u001b[0m\u001b[37m\u001b[0m \u001b[1m2s\u001b[0m 17ms/step - loss: 0.1166 - val_loss: 0.1197\n",
      "Epoch 24/1000\n",
      "\u001b[1m57/57\u001b[0m \u001b[32m━━━━━━━━━━━━━━━━━━━━\u001b[0m\u001b[37m\u001b[0m \u001b[1m1s\u001b[0m 14ms/step - loss: 0.1171 - val_loss: 0.1128\n",
      "Epoch 25/1000\n",
      "\u001b[1m57/57\u001b[0m \u001b[32m━━━━━━━━━━━━━━━━━━━━\u001b[0m\u001b[37m\u001b[0m \u001b[1m1s\u001b[0m 14ms/step - loss: 0.0879 - val_loss: 0.1106\n",
      "Epoch 26/1000\n",
      "\u001b[1m57/57\u001b[0m \u001b[32m━━━━━━━━━━━━━━━━━━━━\u001b[0m\u001b[37m\u001b[0m \u001b[1m1s\u001b[0m 12ms/step - loss: 0.0752 - val_loss: 0.1194\n",
      "Epoch 27/1000\n",
      "\u001b[1m57/57\u001b[0m \u001b[32m━━━━━━━━━━━━━━━━━━━━\u001b[0m\u001b[37m\u001b[0m \u001b[1m1s\u001b[0m 9ms/step - loss: 0.1104 - val_loss: 0.1121\n",
      "Epoch 28/1000\n",
      "\u001b[1m57/57\u001b[0m \u001b[32m━━━━━━━━━━━━━━━━━━━━\u001b[0m\u001b[37m\u001b[0m \u001b[1m1s\u001b[0m 8ms/step - loss: 0.0802 - val_loss: 0.1133\n",
      "Epoch 29/1000\n",
      "\u001b[1m57/57\u001b[0m \u001b[32m━━━━━━━━━━━━━━━━━━━━\u001b[0m\u001b[37m\u001b[0m \u001b[1m1s\u001b[0m 10ms/step - loss: 0.0833 - val_loss: 0.1100\n",
      "Epoch 30/1000\n",
      "\u001b[1m57/57\u001b[0m \u001b[32m━━━━━━━━━━━━━━━━━━━━\u001b[0m\u001b[37m\u001b[0m \u001b[1m1s\u001b[0m 9ms/step - loss: 0.0846 - val_loss: 0.1204\n",
      "Epoch 31/1000\n",
      "\u001b[1m57/57\u001b[0m \u001b[32m━━━━━━━━━━━━━━━━━━━━\u001b[0m\u001b[37m\u001b[0m \u001b[1m1s\u001b[0m 9ms/step - loss: 0.0857 - val_loss: 0.1037\n",
      "Epoch 32/1000\n",
      "\u001b[1m57/57\u001b[0m \u001b[32m━━━━━━━━━━━━━━━━━━━━\u001b[0m\u001b[37m\u001b[0m \u001b[1m1s\u001b[0m 9ms/step - loss: 0.0770 - val_loss: 0.1027\n",
      "Epoch 33/1000\n",
      "\u001b[1m57/57\u001b[0m \u001b[32m━━━━━━━━━━━━━━━━━━━━\u001b[0m\u001b[37m\u001b[0m \u001b[1m1s\u001b[0m 8ms/step - loss: 0.0702 - val_loss: 0.1322\n",
      "Epoch 34/1000\n",
      "\u001b[1m57/57\u001b[0m \u001b[32m━━━━━━━━━━━━━━━━━━━━\u001b[0m\u001b[37m\u001b[0m \u001b[1m1s\u001b[0m 10ms/step - loss: 0.0760 - val_loss: 0.1123\n",
      "Epoch 35/1000\n",
      "\u001b[1m57/57\u001b[0m \u001b[32m━━━━━━━━━━━━━━━━━━━━\u001b[0m\u001b[37m\u001b[0m \u001b[1m1s\u001b[0m 9ms/step - loss: 0.0746 - val_loss: 0.1036\n",
      "Epoch 36/1000\n",
      "\u001b[1m57/57\u001b[0m \u001b[32m━━━━━━━━━━━━━━━━━━━━\u001b[0m\u001b[37m\u001b[0m \u001b[1m1s\u001b[0m 9ms/step - loss: 0.0761 - val_loss: 0.1038\n",
      "Epoch 37/1000\n",
      "\u001b[1m57/57\u001b[0m \u001b[32m━━━━━━━━━━━━━━━━━━━━\u001b[0m\u001b[37m\u001b[0m \u001b[1m1s\u001b[0m 9ms/step - loss: 0.0611 - val_loss: 0.1069\n",
      "Epoch 38/1000\n",
      "\u001b[1m57/57\u001b[0m \u001b[32m━━━━━━━━━━━━━━━━━━━━\u001b[0m\u001b[37m\u001b[0m \u001b[1m1s\u001b[0m 8ms/step - loss: 0.0823 - val_loss: 0.1055\n",
      "Epoch 39/1000\n",
      "\u001b[1m57/57\u001b[0m \u001b[32m━━━━━━━━━━━━━━━━━━━━\u001b[0m\u001b[37m\u001b[0m \u001b[1m1s\u001b[0m 10ms/step - loss: 0.0704 - val_loss: 0.1073\n",
      "Epoch 40/1000\n",
      "\u001b[1m57/57\u001b[0m \u001b[32m━━━━━━━━━━━━━━━━━━━━\u001b[0m\u001b[37m\u001b[0m \u001b[1m1s\u001b[0m 9ms/step - loss: 0.0626 - val_loss: 0.1630\n",
      "Epoch 41/1000\n",
      "\u001b[1m57/57\u001b[0m \u001b[32m━━━━━━━━━━━━━━━━━━━━\u001b[0m\u001b[37m\u001b[0m \u001b[1m1s\u001b[0m 9ms/step - loss: 0.0738 - val_loss: 0.1517\n",
      "Epoch 42/1000\n",
      "\u001b[1m57/57\u001b[0m \u001b[32m━━━━━━━━━━━━━━━━━━━━\u001b[0m\u001b[37m\u001b[0m \u001b[1m1s\u001b[0m 10ms/step - loss: 0.0613 - val_loss: 0.1034\n",
      "Epoch 43/1000\n",
      "\u001b[1m57/57\u001b[0m \u001b[32m━━━━━━━━━━━━━━━━━━━━\u001b[0m\u001b[37m\u001b[0m \u001b[1m1s\u001b[0m 13ms/step - loss: 0.0544 - val_loss: 0.1042\n",
      "Epoch 44/1000\n",
      "\u001b[1m57/57\u001b[0m \u001b[32m━━━━━━━━━━━━━━━━━━━━\u001b[0m\u001b[37m\u001b[0m \u001b[1m1s\u001b[0m 14ms/step - loss: 0.0482 - val_loss: 0.1181\n",
      "Epoch 45/1000\n",
      "\u001b[1m57/57\u001b[0m \u001b[32m━━━━━━━━━━━━━━━━━━━━\u001b[0m\u001b[37m\u001b[0m \u001b[1m1s\u001b[0m 14ms/step - loss: 0.0508 - val_loss: 0.1194\n",
      "Epoch 46/1000\n",
      "\u001b[1m57/57\u001b[0m \u001b[32m━━━━━━━━━━━━━━━━━━━━\u001b[0m\u001b[37m\u001b[0m \u001b[1m1s\u001b[0m 11ms/step - loss: 0.0555 - val_loss: 0.1143\n",
      "Epoch 47/1000\n",
      "\u001b[1m57/57\u001b[0m \u001b[32m━━━━━━━━━━━━━━━━━━━━\u001b[0m\u001b[37m\u001b[0m \u001b[1m1s\u001b[0m 9ms/step - loss: 0.0547 - val_loss: 0.1200\n",
      "Epoch 48/1000\n",
      "\u001b[1m57/57\u001b[0m \u001b[32m━━━━━━━━━━━━━━━━━━━━\u001b[0m\u001b[37m\u001b[0m \u001b[1m1s\u001b[0m 10ms/step - loss: 0.0504 - val_loss: 0.1301\n",
      "Epoch 49/1000\n",
      "\u001b[1m57/57\u001b[0m \u001b[32m━━━━━━━━━━━━━━━━━━━━\u001b[0m\u001b[37m\u001b[0m \u001b[1m1s\u001b[0m 9ms/step - loss: 0.0668 - val_loss: 0.1032\n",
      "Epoch 50/1000\n",
      "\u001b[1m57/57\u001b[0m \u001b[32m━━━━━━━━━━━━━━━━━━━━\u001b[0m\u001b[37m\u001b[0m \u001b[1m1s\u001b[0m 9ms/step - loss: 0.0660 - val_loss: 0.0957\n",
      "Epoch 51/1000\n",
      "\u001b[1m57/57\u001b[0m \u001b[32m━━━━━━━━━━━━━━━━━━━━\u001b[0m\u001b[37m\u001b[0m \u001b[1m1s\u001b[0m 10ms/step - loss: 0.0655 - val_loss: 0.1195\n",
      "Epoch 52/1000\n",
      "\u001b[1m57/57\u001b[0m \u001b[32m━━━━━━━━━━━━━━━━━━━━\u001b[0m\u001b[37m\u001b[0m \u001b[1m1s\u001b[0m 9ms/step - loss: 0.0557 - val_loss: 0.1053\n",
      "Epoch 53/1000\n",
      "\u001b[1m57/57\u001b[0m \u001b[32m━━━━━━━━━━━━━━━━━━━━\u001b[0m\u001b[37m\u001b[0m \u001b[1m1s\u001b[0m 9ms/step - loss: 0.0482 - val_loss: 0.1115\n",
      "Epoch 54/1000\n",
      "\u001b[1m57/57\u001b[0m \u001b[32m━━━━━━━━━━━━━━━━━━━━\u001b[0m\u001b[37m\u001b[0m \u001b[1m1s\u001b[0m 9ms/step - loss: 0.0445 - val_loss: 0.1000\n",
      "Epoch 55/1000\n",
      "\u001b[1m57/57\u001b[0m \u001b[32m━━━━━━━━━━━━━━━━━━━━\u001b[0m\u001b[37m\u001b[0m \u001b[1m1s\u001b[0m 8ms/step - loss: 0.0413 - val_loss: 0.1030\n",
      "Epoch 56/1000\n",
      "\u001b[1m57/57\u001b[0m \u001b[32m━━━━━━━━━━━━━━━━━━━━\u001b[0m\u001b[37m\u001b[0m \u001b[1m1s\u001b[0m 10ms/step - loss: 0.0352 - val_loss: 0.1809\n",
      "Epoch 57/1000\n",
      "\u001b[1m57/57\u001b[0m \u001b[32m━━━━━━━━━━━━━━━━━━━━\u001b[0m\u001b[37m\u001b[0m \u001b[1m1s\u001b[0m 9ms/step - loss: 0.0657 - val_loss: 0.1324\n",
      "Epoch 58/1000\n",
      "\u001b[1m57/57\u001b[0m \u001b[32m━━━━━━━━━━━━━━━━━━━━\u001b[0m\u001b[37m\u001b[0m \u001b[1m1s\u001b[0m 9ms/step - loss: 0.0744 - val_loss: 0.1035\n",
      "Epoch 59/1000\n",
      "\u001b[1m57/57\u001b[0m \u001b[32m━━━━━━━━━━━━━━━━━━━━\u001b[0m\u001b[37m\u001b[0m \u001b[1m1s\u001b[0m 9ms/step - loss: 0.0330 - val_loss: 0.1121\n",
      "Epoch 60/1000\n",
      "\u001b[1m57/57\u001b[0m \u001b[32m━━━━━━━━━━━━━━━━━━━━\u001b[0m\u001b[37m\u001b[0m \u001b[1m1s\u001b[0m 9ms/step - loss: 0.0378 - val_loss: 0.1072\n",
      "Epoch 61/1000\n",
      "\u001b[1m57/57\u001b[0m \u001b[32m━━━━━━━━━━━━━━━━━━━━\u001b[0m\u001b[37m\u001b[0m \u001b[1m1s\u001b[0m 9ms/step - loss: 0.0510 - val_loss: 0.0988\n",
      "Epoch 62/1000\n",
      "\u001b[1m57/57\u001b[0m \u001b[32m━━━━━━━━━━━━━━━━━━━━\u001b[0m\u001b[37m\u001b[0m \u001b[1m1s\u001b[0m 9ms/step - loss: 0.0255 - val_loss: 0.1069\n",
      "Epoch 63/1000\n",
      "\u001b[1m57/57\u001b[0m \u001b[32m━━━━━━━━━━━━━━━━━━━━\u001b[0m\u001b[37m\u001b[0m \u001b[1m1s\u001b[0m 13ms/step - loss: 0.0391 - val_loss: 0.0987\n",
      "Epoch 64/1000\n",
      "\u001b[1m57/57\u001b[0m \u001b[32m━━━━━━━━━━━━━━━━━━━━\u001b[0m\u001b[37m\u001b[0m \u001b[1m1s\u001b[0m 13ms/step - loss: 0.0274 - val_loss: 0.1064\n",
      "Epoch 65/1000\n",
      "\u001b[1m57/57\u001b[0m \u001b[32m━━━━━━━━━━━━━━━━━━━━\u001b[0m\u001b[37m\u001b[0m \u001b[1m1s\u001b[0m 14ms/step - loss: 0.0419 - val_loss: 0.0987\n",
      "Epoch 66/1000\n",
      "\u001b[1m57/57\u001b[0m \u001b[32m━━━━━━━━━━━━━━━━━━━━\u001b[0m\u001b[37m\u001b[0m \u001b[1m1s\u001b[0m 15ms/step - loss: 0.0337 - val_loss: 0.1772\n",
      "Epoch 67/1000\n",
      "\u001b[1m57/57\u001b[0m \u001b[32m━━━━━━━━━━━━━━━━━━━━\u001b[0m\u001b[37m\u001b[0m \u001b[1m1s\u001b[0m 9ms/step - loss: 0.0522 - val_loss: 0.1288\n",
      "Epoch 68/1000\n",
      "\u001b[1m57/57\u001b[0m \u001b[32m━━━━━━━━━━━━━━━━━━━━\u001b[0m\u001b[37m\u001b[0m \u001b[1m1s\u001b[0m 10ms/step - loss: 0.0443 - val_loss: 0.1068\n",
      "Epoch 69/1000\n",
      "\u001b[1m57/57\u001b[0m \u001b[32m━━━━━━━━━━━━━━━━━━━━\u001b[0m\u001b[37m\u001b[0m \u001b[1m1s\u001b[0m 9ms/step - loss: 0.0292 - val_loss: 0.1342\n",
      "Epoch 70/1000\n",
      "\u001b[1m57/57\u001b[0m \u001b[32m━━━━━━━━━━━━━━━━━━━━\u001b[0m\u001b[37m\u001b[0m \u001b[1m1s\u001b[0m 10ms/step - loss: 0.0257 - val_loss: 0.1346\n",
      "\u001b[1m31/31\u001b[0m \u001b[32m━━━━━━━━━━━━━━━━━━━━\u001b[0m\u001b[37m\u001b[0m \u001b[1m0s\u001b[0m 4ms/step\n"
     ]
    }
   ],
   "source": [
    "#모델 선언\n",
    "model2 = Sequential([\n",
    "  Input(shape=(x_train.shape[1],)),\n",
    "  Dense(512, activation='relu'),\n",
    "  Dropout(0.2),\n",
    "  Dense(256, activation='relu'),\n",
    "  Dropout(0.2),\n",
    "  Dense(128, activation='relu'),\n",
    "  Dropout(0.2),\n",
    "  Dense(64, activation='relu'),\n",
    "  Dropout(0.2),\n",
    "  Dense(3, activation='softmax')\n",
    "])\n",
    "# 256을 512로 바꾸고, 32 하나 제거\n",
    "es = EarlyStopping(monitor='val_loss', min_delta=0.001, patience=20)\n",
    "model2.compile(optimizer=Adam(learning_rate=0.0001), loss='sparse_categorical_crossentropy')\n",
    "history2 = model2.fit(x_train_static, y_train_static, epochs=1000, validation_split=0.2, callbacks=[es]).history\n",
    "pred2 = model2.predict(x_val_static)\n",
    "pred2 = pred2.argmax(axis=1)\n",
    "# pred1 = np.where(pred1 >= 0.5, 1, 0)\n",
    "result2 = {\n",
    "    'accuracy_score' : accuracy_score(y_val_static, pred2),\n",
    "    'confusion_matrix' : confusion_matrix(y_val_static, pred2),\n",
    "    'classification_report' : classification_report(y_val_static, pred2)\n",
    "}\n",
    "result_dict['Model2'] = [result2, history2]"
   ]
  },
  {
   "cell_type": "code",
   "execution_count": 243,
   "metadata": {
    "colab": {
     "base_uri": "https://localhost:8080/"
    },
    "executionInfo": {
     "elapsed": 2400,
     "status": "ok",
     "timestamp": 1729231226825,
     "user": {
      "displayName": "ByeongJin O",
      "userId": "14912423715743829428"
     },
     "user_tz": -540
    },
    "id": "PY2uBvF90ynr",
    "outputId": "c3f61b5c-93e1-49de-e7ee-841e11c11011"
   },
   "outputs": [
    {
     "name": "stdout",
     "output_type": "stream",
     "text": [
      "0.9824922760041195\n",
      "[[338   0   0]\n",
      " [  0 300   8]\n",
      " [  0   9 316]]\n",
      "              precision    recall  f1-score   support\n",
      "\n",
      "           0       1.00      1.00      1.00       338\n",
      "           1       0.97      0.97      0.97       308\n",
      "           2       0.98      0.97      0.97       325\n",
      "\n",
      "    accuracy                           0.98       971\n",
      "   macro avg       0.98      0.98      0.98       971\n",
      "weighted avg       0.98      0.98      0.98       971\n",
      "\n"
     ]
    }
   ],
   "source": [
    "print(result_dict['Model2'][0]['accuracy_score'])\n",
    "print(result_dict['Model2'][0]['confusion_matrix'])\n",
    "print(result_dict['Model2'][0]['classification_report'])"
   ]
  },
  {
   "cell_type": "code",
   "execution_count": 136,
   "metadata": {
    "colab": {
     "base_uri": "https://localhost:8080/",
     "height": 528
    },
    "executionInfo": {
     "elapsed": 807,
     "status": "ok",
     "timestamp": 1729227221671,
     "user": {
      "displayName": "ByeongJin O",
      "userId": "14912423715743829428"
     },
     "user_tz": -540
    },
    "id": "rUcp7mTm0ykX",
    "outputId": "af35df04-1402-4516-c752-50a9188207a3"
   },
   "outputs": [
    {
     "data": {
      "image/png": "[encoded data removed]",
      "text/plain": [
       "<Figure size 1000x600 with 1 Axes>"
      ]
     },
     "metadata": {},
     "output_type": "display_data"
    }
   ],
   "source": [
    "dl_history_plot(result_dict['Model2'][1])"
   ]
  },
  {
   "cell_type": "markdown",
   "metadata": {
    "id": "m8oVtAfPlkWc"
   },
   "source": [
    "##### 2> 정적 동작 세부 분류 2"
   ]
  },
  {
   "cell_type": "code",
   "execution_count": 102,
   "metadata": {
    "executionInfo": {
     "elapsed": 803,
     "status": "ok",
     "timestamp": 1729221704706,
     "user": {
      "displayName": "ByeongJin O",
      "userId": "14912423715743829428"
     },
     "user_tz": -540
    },
    "id": "5kkOdhaHloP8"
   },
   "outputs": [],
   "source": [
    "def func_dl_process(x_train, x_val, y_train, y_val):\n",
    "  x_train = pd.DataFrame(x_train)\n",
    "  x_val = pd.DataFrame(x_val)\n",
    "\n",
    "  # 다중입력 모델링 (가속도, 각속도, angle센서(중력가속도와 각속도 등등의 벡터))\n",
    "  # 'Acc'가 포함되면서 'angle'이 포함되지 않은 컬럼을 선택하여 x_train1에 저장\n",
    "  x_train1 = x_train.filter(like='Acc').filter(regex='^(?!.*angle).*$', axis=1)\n",
    "  x_val1 = x_val.filter(like='Acc').filter(regex='^(?!.*angle).*$', axis=1)\n",
    "\n",
    "  # 'Gyro'가 포함되면서 'angle'이 포함되지 않은 컬럼을 선택하여 x_train2에 저장\n",
    "  x_train2 = x_train.filter(like='Gyro').filter(regex='^(?!.*angle).*$', axis=1)\n",
    "  x_val2 = x_val.filter(like='Gyro').filter(regex='^(?!.*angle).*$', axis=1)\n",
    "\n",
    "  # 'angle' 컬럼  x_train3에 저장\n",
    "  x_train3 = x_train.drop(columns=x_train1.columns).drop(columns=x_train2.columns)\n",
    "  x_val3 = x_val.drop(columns=x_val1.columns).drop(columns=x_val2.columns)\n",
    "\n",
    "  #입력\n",
    "  input_1 = Input(shape=(x_train1.shape[1],),name='input_1')\n",
    "  input_2 = Input(shape=(x_train2.shape[1],),name='input_2')\n",
    "  input_3 = Input(shape=(x_train3.shape[1],),name='input_3')\n",
    "\n",
    "  # 첫번째 입력을 위한 레이어\n",
    "  hl1_1=Dense(50,activation='relu')(input_1)\n",
    "  hl1_2=Dense(50,activation='relu')(input_2)\n",
    "  hl1_3=Dense(10,activation='relu')(input_3)\n",
    "\n",
    "  #세 히든레이어 결함\n",
    "  cbl = concatenate([hl1_1,hl1_2,hl1_3])\n",
    "\n",
    "  #추가 히든레이어\n",
    "  hl2 = Dense(32,activation='relu')(cbl)\n",
    "  hl3 = Dense(16,activation='relu')(hl2)\n",
    "\n",
    "  #출력\n",
    "  output = Dense(6,activation='softmax')(hl3)\n",
    "\n",
    "  #모델 선언\n",
    "  model = Model(inputs=[input_1,input_2,input_3],outputs = output)\n",
    "\n",
    "  model.compile(optimizer=Adam(learning_rate=0.0005), loss='sparse_categorical_crossentropy')\n",
    "  history = model.fit([x_train1, x_train2, x_train3], y_train, epochs=100, verbose=0, validation_split=0.2).history\n",
    "  pred = model.predict([x_val1, x_val2, x_val3])\n",
    "  pred = pred.argmax(axis=1)\n",
    "  result = {\n",
    "      'accuracy_score' : accuracy_score(y_val, pred),\n",
    "      'confusion_matrix' : confusion_matrix(y_val, pred),\n",
    "      'classification_report' : classification_report(y_val, pred)\n",
    "  }\n",
    "  return model, result, history"
   ]
  },
  {
   "cell_type": "markdown",
   "metadata": {
    "id": "uWhufCg29ozz"
   },
   "source": []
  },
  {
   "cell_type": "code",
   "execution_count": 103,
   "metadata": {
    "colab": {
     "base_uri": "https://localhost:8080/"
    },
    "executionInfo": {
     "elapsed": 32121,
     "status": "ok",
     "timestamp": 1729221736824,
     "user": {
      "displayName": "ByeongJin O",
      "userId": "14912423715743829428"
     },
     "user_tz": -540
    },
    "id": "G0oxciLMoAis",
    "outputId": "93717978-d0f4-47fd-a8d3-ab805c9a87fa"
   },
   "outputs": [
    {
     "name": "stdout",
     "output_type": "stream",
     "text": [
      "\u001b[1m31/31\u001b[0m \u001b[32m━━━━━━━━━━━━━━━━━━━━\u001b[0m\u001b[37m\u001b[0m \u001b[1m0s\u001b[0m 7ms/step\n"
     ]
    }
   ],
   "source": [
    "model2_2, result2_2, history2_2 = func_dl_process(x_train_static, x_val_static, y_train_static, y_val_static)\n",
    "result_dict['Model2_2'] = [result2_2, history2_2]"
   ]
  },
  {
   "cell_type": "code",
   "execution_count": 104,
   "metadata": {
    "colab": {
     "base_uri": "https://localhost:8080/"
    },
    "executionInfo": {
     "elapsed": 5,
     "status": "ok",
     "timestamp": 1729221736824,
     "user": {
      "displayName": "ByeongJin O",
      "userId": "14912423715743829428"
     },
     "user_tz": -540
    },
    "id": "o5ZTTIGVloP8",
    "outputId": "19585521-ca1b-42f5-9d95-16c081978168"
   },
   "outputs": [
    {
     "name": "stdout",
     "output_type": "stream",
     "text": [
      "0.9773429454170958\n",
      "[[338   0   0]\n",
      " [  0 298  10]\n",
      " [  0  12 313]]\n",
      "              precision    recall  f1-score   support\n",
      "\n",
      "           0       1.00      1.00      1.00       338\n",
      "           1       0.96      0.97      0.96       308\n",
      "           2       0.97      0.96      0.97       325\n",
      "\n",
      "    accuracy                           0.98       971\n",
      "   macro avg       0.98      0.98      0.98       971\n",
      "weighted avg       0.98      0.98      0.98       971\n",
      "\n"
     ]
    }
   ],
   "source": [
    "print(result_dict['Model2_2'][0]['accuracy_score'])\n",
    "print(result_dict['Model2_2'][0]['confusion_matrix'])\n",
    "print(result_dict['Model2_2'][0]['classification_report'])"
   ]
  },
  {
   "cell_type": "code",
   "execution_count": 105,
   "metadata": {
    "colab": {
     "base_uri": "https://localhost:8080/",
     "height": 528
    },
    "executionInfo": {
     "elapsed": 688,
     "status": "ok",
     "timestamp": 1729221737508,
     "user": {
      "displayName": "ByeongJin O",
      "userId": "14912423715743829428"
     },
     "user_tz": -540
    },
    "id": "83xKvIphloP9",
    "outputId": "75e40bff-b9fb-4f43-d3b3-756f047bf468"
   },
   "outputs": [
    {
     "data": {
      "image/png": "[encoded data removed]",
      "text/plain": [
       "<Figure size 1000x600 with 1 Axes>"
      ]
     },
     "metadata": {},
     "output_type": "display_data"
    }
   ],
   "source": [
    "dl_history_plot(result_dict['Model2_2'][1])"
   ]
  },
  {
   "cell_type": "markdown",
   "metadata": {
    "id": "WFaqIRAy0pJ-"
   },
   "source": [
    "#### 2) 단계2-2 : 동적 동작 세부 분류"
   ]
  },
  {
   "cell_type": "markdown",
   "metadata": {
    "id": "dwGTMsJ60pJ-"
   },
   "source": [
    "* 세부 요구사항\n",
    "    * 동동적 행동(Walking, Walking Upstairs, Walking Downstairs)인 데이터 추출\n",
    "    * Walking, Walking Upstairs, Walking Downstairs 를 분류하는 모델을 생성\n",
    "    * 몇가지 모델을 만들고 가장 성능이 좋은 모델을 선정하시오."
   ]
  },
  {
   "cell_type": "code",
   "execution_count": 74,
   "metadata": {
    "executionInfo": {
     "elapsed": 4,
     "status": "ok",
     "timestamp": 1729219144733,
     "user": {
      "displayName": "ByeongJin O",
      "userId": "14912423715743829428"
     },
     "user_tz": -540
    },
    "id": "nzg3i2gBeoYW"
   },
   "outputs": [],
   "source": [
    "t_y_train_dynamic = y_train_dynamic-3\n",
    "t_y_val_dynamic = y_val_dynamic-3"
   ]
  },
  {
   "cell_type": "code",
   "execution_count": 238,
   "metadata": {
    "colab": {
     "base_uri": "https://localhost:8080/"
    },
    "executionInfo": {
     "elapsed": 49505,
     "status": "ok",
     "timestamp": 1729230837738,
     "user": {
      "displayName": "ByeongJin O",
      "userId": "14912423715743829428"
     },
     "user_tz": -540
    },
    "id": "tfLclxZB00V9",
    "outputId": "97ece2c6-3e71-4531-e6c9-2f2de8584d5b"
   },
   "outputs": [
    {
     "name": "stdout",
     "output_type": "stream",
     "text": [
      "Epoch 1/500\n",
      "\u001b[1m47/47\u001b[0m \u001b[32m━━━━━━━━━━━━━━━━━━━━\u001b[0m\u001b[37m\u001b[0m \u001b[1m3s\u001b[0m 11ms/step - loss: 1.1059 - val_loss: 1.0645\n",
      "Epoch 2/500\n",
      "\u001b[1m47/47\u001b[0m \u001b[32m━━━━━━━━━━━━━━━━━━━━\u001b[0m\u001b[37m\u001b[0m \u001b[1m0s\u001b[0m 8ms/step - loss: 1.0633 - val_loss: 0.9700\n",
      "Epoch 3/500\n",
      "\u001b[1m47/47\u001b[0m \u001b[32m━━━━━━━━━━━━━━━━━━━━\u001b[0m\u001b[37m\u001b[0m \u001b[1m0s\u001b[0m 7ms/step - loss: 0.9820 - val_loss: 0.8225\n",
      "Epoch 4/500\n",
      "\u001b[1m47/47\u001b[0m \u001b[32m━━━━━━━━━━━━━━━━━━━━\u001b[0m\u001b[37m\u001b[0m \u001b[1m1s\u001b[0m 6ms/step - loss: 0.8547 - val_loss: 0.6553\n",
      "Epoch 5/500\n",
      "\u001b[1m47/47\u001b[0m \u001b[32m━━━━━━━━━━━━━━━━━━━━\u001b[0m\u001b[37m\u001b[0m \u001b[1m1s\u001b[0m 7ms/step - loss: 0.7111 - val_loss: 0.4661\n",
      "Epoch 6/500\n",
      "\u001b[1m47/47\u001b[0m \u001b[32m━━━━━━━━━━━━━━━━━━━━\u001b[0m\u001b[37m\u001b[0m \u001b[1m1s\u001b[0m 6ms/step - loss: 0.5429 - val_loss: 0.3343\n",
      "Epoch 7/500\n",
      "\u001b[1m47/47\u001b[0m \u001b[32m━━━━━━━━━━━━━━━━━━━━\u001b[0m\u001b[37m\u001b[0m \u001b[1m1s\u001b[0m 6ms/step - loss: 0.4252 - val_loss: 0.2672\n",
      "Epoch 8/500\n",
      "\u001b[1m47/47\u001b[0m \u001b[32m━━━━━━━━━━━━━━━━━━━━\u001b[0m\u001b[37m\u001b[0m \u001b[1m0s\u001b[0m 7ms/step - loss: 0.3249 - val_loss: 0.2336\n",
      "Epoch 9/500\n",
      "\u001b[1m47/47\u001b[0m \u001b[32m━━━━━━━━━━━━━━━━━━━━\u001b[0m\u001b[37m\u001b[0m \u001b[1m0s\u001b[0m 8ms/step - loss: 0.2847 - val_loss: 0.2146\n",
      "Epoch 10/500\n",
      "\u001b[1m47/47\u001b[0m \u001b[32m━━━━━━━━━━━━━━━━━━━━\u001b[0m\u001b[37m\u001b[0m \u001b[1m1s\u001b[0m 6ms/step - loss: 0.2363 - val_loss: 0.1816\n",
      "Epoch 11/500\n",
      "\u001b[1m47/47\u001b[0m \u001b[32m━━━━━━━━━━━━━━━━━━━━\u001b[0m\u001b[37m\u001b[0m \u001b[1m1s\u001b[0m 7ms/step - loss: 0.2087 - val_loss: 0.1441\n",
      "Epoch 12/500\n",
      "\u001b[1m47/47\u001b[0m \u001b[32m━━━━━━━━━━━━━━━━━━━━\u001b[0m\u001b[37m\u001b[0m \u001b[1m1s\u001b[0m 7ms/step - loss: 0.1676 - val_loss: 0.1372\n",
      "Epoch 13/500\n",
      "\u001b[1m47/47\u001b[0m \u001b[32m━━━━━━━━━━━━━━━━━━━━\u001b[0m\u001b[37m\u001b[0m \u001b[1m1s\u001b[0m 7ms/step - loss: 0.2075 - val_loss: 0.1281\n",
      "Epoch 14/500\n",
      "\u001b[1m47/47\u001b[0m \u001b[32m━━━━━━━━━━━━━━━━━━━━\u001b[0m\u001b[37m\u001b[0m \u001b[1m1s\u001b[0m 7ms/step - loss: 0.1646 - val_loss: 0.1006\n",
      "Epoch 15/500\n",
      "\u001b[1m47/47\u001b[0m \u001b[32m━━━━━━━━━━━━━━━━━━━━\u001b[0m\u001b[37m\u001b[0m \u001b[1m0s\u001b[0m 6ms/step - loss: 0.1174 - val_loss: 0.0991\n",
      "Epoch 16/500\n",
      "\u001b[1m47/47\u001b[0m \u001b[32m━━━━━━━━━━━━━━━━━━━━\u001b[0m\u001b[37m\u001b[0m \u001b[1m0s\u001b[0m 7ms/step - loss: 0.1152 - val_loss: 0.0879\n",
      "Epoch 17/500\n",
      "\u001b[1m47/47\u001b[0m \u001b[32m━━━━━━━━━━━━━━━━━━━━\u001b[0m\u001b[37m\u001b[0m \u001b[1m0s\u001b[0m 7ms/step - loss: 0.1105 - val_loss: 0.0811\n",
      "Epoch 18/500\n",
      "\u001b[1m47/47\u001b[0m \u001b[32m━━━━━━━━━━━━━━━━━━━━\u001b[0m\u001b[37m\u001b[0m \u001b[1m0s\u001b[0m 7ms/step - loss: 0.1149 - val_loss: 0.0921\n",
      "Epoch 19/500\n",
      "\u001b[1m47/47\u001b[0m \u001b[32m━━━━━━━━━━━━━━━━━━━━\u001b[0m\u001b[37m\u001b[0m \u001b[1m0s\u001b[0m 6ms/step - loss: 0.1069 - val_loss: 0.0849\n",
      "Epoch 20/500\n",
      "\u001b[1m47/47\u001b[0m \u001b[32m━━━━━━━━━━━━━━━━━━━━\u001b[0m\u001b[37m\u001b[0m \u001b[1m1s\u001b[0m 6ms/step - loss: 0.0857 - val_loss: 0.0744\n",
      "Epoch 21/500\n",
      "\u001b[1m47/47\u001b[0m \u001b[32m━━━━━━━━━━━━━━━━━━━━\u001b[0m\u001b[37m\u001b[0m \u001b[1m1s\u001b[0m 11ms/step - loss: 0.0815 - val_loss: 0.0779\n",
      "Epoch 22/500\n",
      "\u001b[1m47/47\u001b[0m \u001b[32m━━━━━━━━━━━━━━━━━━━━\u001b[0m\u001b[37m\u001b[0m \u001b[1m1s\u001b[0m 10ms/step - loss: 0.0864 - val_loss: 0.0671\n",
      "Epoch 23/500\n",
      "\u001b[1m47/47\u001b[0m \u001b[32m━━━━━━━━━━━━━━━━━━━━\u001b[0m\u001b[37m\u001b[0m \u001b[1m1s\u001b[0m 12ms/step - loss: 0.0670 - val_loss: 0.0632\n",
      "Epoch 24/500\n",
      "\u001b[1m47/47\u001b[0m \u001b[32m━━━━━━━━━━━━━━━━━━━━\u001b[0m\u001b[37m\u001b[0m \u001b[1m1s\u001b[0m 12ms/step - loss: 0.0654 - val_loss: 0.0635\n",
      "Epoch 25/500\n",
      "\u001b[1m47/47\u001b[0m \u001b[32m━━━━━━━━━━━━━━━━━━━━\u001b[0m\u001b[37m\u001b[0m \u001b[1m1s\u001b[0m 12ms/step - loss: 0.0487 - val_loss: 0.0467\n",
      "Epoch 26/500\n",
      "\u001b[1m47/47\u001b[0m \u001b[32m━━━━━━━━━━━━━━━━━━━━\u001b[0m\u001b[37m\u001b[0m \u001b[1m1s\u001b[0m 13ms/step - loss: 0.0493 - val_loss: 0.0516\n",
      "Epoch 27/500\n",
      "\u001b[1m47/47\u001b[0m \u001b[32m━━━━━━━━━━━━━━━━━━━━\u001b[0m\u001b[37m\u001b[0m \u001b[1m1s\u001b[0m 7ms/step - loss: 0.0471 - val_loss: 0.0452\n",
      "Epoch 28/500\n",
      "\u001b[1m47/47\u001b[0m \u001b[32m━━━━━━━━━━━━━━━━━━━━\u001b[0m\u001b[37m\u001b[0m \u001b[1m1s\u001b[0m 7ms/step - loss: 0.0472 - val_loss: 0.0461\n",
      "Epoch 29/500\n",
      "\u001b[1m47/47\u001b[0m \u001b[32m━━━━━━━━━━━━━━━━━━━━\u001b[0m\u001b[37m\u001b[0m \u001b[1m0s\u001b[0m 7ms/step - loss: 0.0358 - val_loss: 0.0491\n",
      "Epoch 30/500\n",
      "\u001b[1m47/47\u001b[0m \u001b[32m━━━━━━━━━━━━━━━━━━━━\u001b[0m\u001b[37m\u001b[0m \u001b[1m1s\u001b[0m 7ms/step - loss: 0.0418 - val_loss: 0.0509\n",
      "Epoch 31/500\n",
      "\u001b[1m47/47\u001b[0m \u001b[32m━━━━━━━━━━━━━━━━━━━━\u001b[0m\u001b[37m\u001b[0m \u001b[1m1s\u001b[0m 7ms/step - loss: 0.0432 - val_loss: 0.0380\n",
      "Epoch 32/500\n",
      "\u001b[1m47/47\u001b[0m \u001b[32m━━━━━━━━━━━━━━━━━━━━\u001b[0m\u001b[37m\u001b[0m \u001b[1m1s\u001b[0m 8ms/step - loss: 0.0343 - val_loss: 0.0362\n",
      "Epoch 33/500\n",
      "\u001b[1m47/47\u001b[0m \u001b[32m━━━━━━━━━━━━━━━━━━━━\u001b[0m\u001b[37m\u001b[0m \u001b[1m1s\u001b[0m 8ms/step - loss: 0.0306 - val_loss: 0.0481\n",
      "Epoch 34/500\n",
      "\u001b[1m47/47\u001b[0m \u001b[32m━━━━━━━━━━━━━━━━━━━━\u001b[0m\u001b[37m\u001b[0m \u001b[1m0s\u001b[0m 7ms/step - loss: 0.0197 - val_loss: 0.0434\n",
      "Epoch 35/500\n",
      "\u001b[1m47/47\u001b[0m \u001b[32m━━━━━━━━━━━━━━━━━━━━\u001b[0m\u001b[37m\u001b[0m \u001b[1m0s\u001b[0m 8ms/step - loss: 0.0377 - val_loss: 0.0550\n",
      "Epoch 36/500\n",
      "\u001b[1m47/47\u001b[0m \u001b[32m━━━━━━━━━━━━━━━━━━━━\u001b[0m\u001b[37m\u001b[0m \u001b[1m0s\u001b[0m 7ms/step - loss: 0.0214 - val_loss: 0.0532\n",
      "Epoch 37/500\n",
      "\u001b[1m47/47\u001b[0m \u001b[32m━━━━━━━━━━━━━━━━━━━━\u001b[0m\u001b[37m\u001b[0m \u001b[1m0s\u001b[0m 8ms/step - loss: 0.0231 - val_loss: 0.0306\n",
      "Epoch 38/500\n",
      "\u001b[1m47/47\u001b[0m \u001b[32m━━━━━━━━━━━━━━━━━━━━\u001b[0m\u001b[37m\u001b[0m \u001b[1m1s\u001b[0m 8ms/step - loss: 0.0197 - val_loss: 0.0379\n",
      "Epoch 39/500\n",
      "\u001b[1m47/47\u001b[0m \u001b[32m━━━━━━━━━━━━━━━━━━━━\u001b[0m\u001b[37m\u001b[0m \u001b[1m1s\u001b[0m 7ms/step - loss: 0.0166 - val_loss: 0.0338\n",
      "Epoch 40/500\n",
      "\u001b[1m47/47\u001b[0m \u001b[32m━━━━━━━━━━━━━━━━━━━━\u001b[0m\u001b[37m\u001b[0m \u001b[1m1s\u001b[0m 7ms/step - loss: 0.0223 - val_loss: 0.0317\n",
      "Epoch 41/500\n",
      "\u001b[1m47/47\u001b[0m \u001b[32m━━━━━━━━━━━━━━━━━━━━\u001b[0m\u001b[37m\u001b[0m \u001b[1m0s\u001b[0m 7ms/step - loss: 0.0125 - val_loss: 0.0311\n",
      "Epoch 42/500\n",
      "\u001b[1m47/47\u001b[0m \u001b[32m━━━━━━━━━━━━━━━━━━━━\u001b[0m\u001b[37m\u001b[0m \u001b[1m1s\u001b[0m 7ms/step - loss: 0.0153 - val_loss: 0.0388\n",
      "Epoch 43/500\n",
      "\u001b[1m47/47\u001b[0m \u001b[32m━━━━━━━━━━━━━━━━━━━━\u001b[0m\u001b[37m\u001b[0m \u001b[1m0s\u001b[0m 6ms/step - loss: 0.0172 - val_loss: 0.0321\n",
      "Epoch 44/500\n",
      "\u001b[1m47/47\u001b[0m \u001b[32m━━━━━━━━━━━━━━━━━━━━\u001b[0m\u001b[37m\u001b[0m \u001b[1m1s\u001b[0m 7ms/step - loss: 0.0166 - val_loss: 0.0765\n",
      "Epoch 45/500\n",
      "\u001b[1m47/47\u001b[0m \u001b[32m━━━━━━━━━━━━━━━━━━━━\u001b[0m\u001b[37m\u001b[0m \u001b[1m0s\u001b[0m 8ms/step - loss: 0.0194 - val_loss: 0.0343\n",
      "Epoch 46/500\n",
      "\u001b[1m47/47\u001b[0m \u001b[32m━━━━━━━━━━━━━━━━━━━━\u001b[0m\u001b[37m\u001b[0m \u001b[1m1s\u001b[0m 12ms/step - loss: 0.0437 - val_loss: 0.0291\n",
      "Epoch 47/500\n",
      "\u001b[1m47/47\u001b[0m \u001b[32m━━━━━━━━━━━━━━━━━━━━\u001b[0m\u001b[37m\u001b[0m \u001b[1m1s\u001b[0m 12ms/step - loss: 0.0143 - val_loss: 0.0345\n",
      "Epoch 48/500\n",
      "\u001b[1m47/47\u001b[0m \u001b[32m━━━━━━━━━━━━━━━━━━━━\u001b[0m\u001b[37m\u001b[0m \u001b[1m1s\u001b[0m 11ms/step - loss: 0.0118 - val_loss: 0.0602\n",
      "Epoch 49/500\n",
      "\u001b[1m47/47\u001b[0m \u001b[32m━━━━━━━━━━━━━━━━━━━━\u001b[0m\u001b[37m\u001b[0m \u001b[1m1s\u001b[0m 12ms/step - loss: 0.0078 - val_loss: 0.0340\n",
      "Epoch 50/500\n",
      "\u001b[1m47/47\u001b[0m \u001b[32m━━━━━━━━━━━━━━━━━━━━\u001b[0m\u001b[37m\u001b[0m \u001b[1m1s\u001b[0m 13ms/step - loss: 0.0126 - val_loss: 0.0355\n",
      "Epoch 51/500\n",
      "\u001b[1m47/47\u001b[0m \u001b[32m━━━━━━━━━━━━━━━━━━━━\u001b[0m\u001b[37m\u001b[0m \u001b[1m1s\u001b[0m 12ms/step - loss: 0.0083 - val_loss: 0.0450\n",
      "Epoch 52/500\n",
      "\u001b[1m47/47\u001b[0m \u001b[32m━━━━━━━━━━━━━━━━━━━━\u001b[0m\u001b[37m\u001b[0m \u001b[1m1s\u001b[0m 14ms/step - loss: 0.0080 - val_loss: 0.0453\n",
      "Epoch 53/500\n",
      "\u001b[1m47/47\u001b[0m \u001b[32m━━━━━━━━━━━━━━━━━━━━\u001b[0m\u001b[37m\u001b[0m \u001b[1m0s\u001b[0m 7ms/step - loss: 0.0185 - val_loss: 0.0398\n",
      "Epoch 54/500\n",
      "\u001b[1m47/47\u001b[0m \u001b[32m━━━━━━━━━━━━━━━━━━━━\u001b[0m\u001b[37m\u001b[0m \u001b[1m1s\u001b[0m 7ms/step - loss: 0.0106 - val_loss: 0.0335\n",
      "Epoch 55/500\n",
      "\u001b[1m47/47\u001b[0m \u001b[32m━━━━━━━━━━━━━━━━━━━━\u001b[0m\u001b[37m\u001b[0m \u001b[1m1s\u001b[0m 7ms/step - loss: 0.0065 - val_loss: 0.0343\n",
      "Epoch 56/500\n",
      "\u001b[1m47/47\u001b[0m \u001b[32m━━━━━━━━━━━━━━━━━━━━\u001b[0m\u001b[37m\u001b[0m \u001b[1m1s\u001b[0m 7ms/step - loss: 0.0062 - val_loss: 0.0303\n",
      "Epoch 57/500\n",
      "\u001b[1m47/47\u001b[0m \u001b[32m━━━━━━━━━━━━━━━━━━━━\u001b[0m\u001b[37m\u001b[0m \u001b[1m1s\u001b[0m 8ms/step - loss: 0.0092 - val_loss: 0.0396\n",
      "Epoch 58/500\n",
      "\u001b[1m47/47\u001b[0m \u001b[32m━━━━━━━━━━━━━━━━━━━━\u001b[0m\u001b[37m\u001b[0m \u001b[1m1s\u001b[0m 8ms/step - loss: 0.0080 - val_loss: 0.0390\n",
      "Epoch 59/500\n",
      "\u001b[1m47/47\u001b[0m \u001b[32m━━━━━━━━━━━━━━━━━━━━\u001b[0m\u001b[37m\u001b[0m \u001b[1m1s\u001b[0m 8ms/step - loss: 0.0150 - val_loss: 0.0595\n",
      "Epoch 60/500\n",
      "\u001b[1m47/47\u001b[0m \u001b[32m━━━━━━━━━━━━━━━━━━━━\u001b[0m\u001b[37m\u001b[0m \u001b[1m1s\u001b[0m 8ms/step - loss: 0.0067 - val_loss: 0.0381\n",
      "Epoch 61/500\n",
      "\u001b[1m47/47\u001b[0m \u001b[32m━━━━━━━━━━━━━━━━━━━━\u001b[0m\u001b[37m\u001b[0m \u001b[1m0s\u001b[0m 7ms/step - loss: 0.0064 - val_loss: 0.0366\n",
      "Epoch 62/500\n",
      "\u001b[1m47/47\u001b[0m \u001b[32m━━━━━━━━━━━━━━━━━━━━\u001b[0m\u001b[37m\u001b[0m \u001b[1m0s\u001b[0m 7ms/step - loss: 0.0059 - val_loss: 0.0353\n",
      "Epoch 63/500\n",
      "\u001b[1m47/47\u001b[0m \u001b[32m━━━━━━━━━━━━━━━━━━━━\u001b[0m\u001b[37m\u001b[0m \u001b[1m1s\u001b[0m 7ms/step - loss: 0.0027 - val_loss: 0.0273\n",
      "Epoch 64/500\n",
      "\u001b[1m47/47\u001b[0m \u001b[32m━━━━━━━━━━━━━━━━━━━━\u001b[0m\u001b[37m\u001b[0m \u001b[1m0s\u001b[0m 8ms/step - loss: 0.0064 - val_loss: 0.0455\n",
      "Epoch 65/500\n",
      "\u001b[1m47/47\u001b[0m \u001b[32m━━━━━━━━━━━━━━━━━━━━\u001b[0m\u001b[37m\u001b[0m \u001b[1m0s\u001b[0m 7ms/step - loss: 0.0128 - val_loss: 0.0356\n",
      "Epoch 66/500\n",
      "\u001b[1m47/47\u001b[0m \u001b[32m━━━━━━━━━━━━━━━━━━━━\u001b[0m\u001b[37m\u001b[0m \u001b[1m0s\u001b[0m 7ms/step - loss: 0.0031 - val_loss: 0.0282\n",
      "Epoch 67/500\n",
      "\u001b[1m47/47\u001b[0m \u001b[32m━━━━━━━━━━━━━━━━━━━━\u001b[0m\u001b[37m\u001b[0m \u001b[1m0s\u001b[0m 8ms/step - loss: 0.0139 - val_loss: 0.0325\n",
      "Epoch 68/500\n",
      "\u001b[1m47/47\u001b[0m \u001b[32m━━━━━━━━━━━━━━━━━━━━\u001b[0m\u001b[37m\u001b[0m \u001b[1m0s\u001b[0m 8ms/step - loss: 0.0430 - val_loss: 0.0794\n",
      "Epoch 69/500\n",
      "\u001b[1m47/47\u001b[0m \u001b[32m━━━━━━━━━━━━━━━━━━━━\u001b[0m\u001b[37m\u001b[0m \u001b[1m1s\u001b[0m 8ms/step - loss: 0.0259 - val_loss: 0.0368\n",
      "Epoch 70/500\n",
      "\u001b[1m47/47\u001b[0m \u001b[32m━━━━━━━━━━━━━━━━━━━━\u001b[0m\u001b[37m\u001b[0m \u001b[1m0s\u001b[0m 7ms/step - loss: 0.0046 - val_loss: 0.0425\n",
      "Epoch 71/500\n",
      "\u001b[1m47/47\u001b[0m \u001b[32m━━━━━━━━━━━━━━━━━━━━\u001b[0m\u001b[37m\u001b[0m \u001b[1m1s\u001b[0m 9ms/step - loss: 0.0031 - val_loss: 0.0336\n",
      "Epoch 72/500\n",
      "\u001b[1m47/47\u001b[0m \u001b[32m━━━━━━━━━━━━━━━━━━━━\u001b[0m\u001b[37m\u001b[0m \u001b[1m1s\u001b[0m 10ms/step - loss: 0.0117 - val_loss: 0.0606\n",
      "Epoch 73/500\n",
      "\u001b[1m47/47\u001b[0m \u001b[32m━━━━━━━━━━━━━━━━━━━━\u001b[0m\u001b[37m\u001b[0m \u001b[1m1s\u001b[0m 12ms/step - loss: 0.0129 - val_loss: 0.0301\n",
      "Epoch 74/500\n",
      "\u001b[1m47/47\u001b[0m \u001b[32m━━━━━━━━━━━━━━━━━━━━\u001b[0m\u001b[37m\u001b[0m \u001b[1m1s\u001b[0m 12ms/step - loss: 0.0033 - val_loss: 0.0377\n",
      "Epoch 75/500\n",
      "\u001b[1m47/47\u001b[0m \u001b[32m━━━━━━━━━━━━━━━━━━━━\u001b[0m\u001b[37m\u001b[0m \u001b[1m1s\u001b[0m 12ms/step - loss: 0.0025 - val_loss: 0.0291\n",
      "Epoch 76/500\n",
      "\u001b[1m47/47\u001b[0m \u001b[32m━━━━━━━━━━━━━━━━━━━━\u001b[0m\u001b[37m\u001b[0m \u001b[1m1s\u001b[0m 13ms/step - loss: 0.0181 - val_loss: 0.0640\n",
      "Epoch 77/500\n",
      "\u001b[1m47/47\u001b[0m \u001b[32m━━━━━━━━━━━━━━━━━━━━\u001b[0m\u001b[37m\u001b[0m \u001b[1m1s\u001b[0m 11ms/step - loss: 0.0052 - val_loss: 0.0316\n",
      "Epoch 78/500\n",
      "\u001b[1m47/47\u001b[0m \u001b[32m━━━━━━━━━━━━━━━━━━━━\u001b[0m\u001b[37m\u001b[0m \u001b[1m0s\u001b[0m 8ms/step - loss: 0.0044 - val_loss: 0.0312\n",
      "Epoch 79/500\n",
      "\u001b[1m47/47\u001b[0m \u001b[32m━━━━━━━━━━━━━━━━━━━━\u001b[0m\u001b[37m\u001b[0m \u001b[1m0s\u001b[0m 8ms/step - loss: 0.0018 - val_loss: 0.0279\n",
      "Epoch 80/500\n",
      "\u001b[1m47/47\u001b[0m \u001b[32m━━━━━━━━━━━━━━━━━━━━\u001b[0m\u001b[37m\u001b[0m \u001b[1m1s\u001b[0m 8ms/step - loss: 0.0032 - val_loss: 0.0277\n",
      "Epoch 81/500\n",
      "\u001b[1m47/47\u001b[0m \u001b[32m━━━━━━━━━━━━━━━━━━━━\u001b[0m\u001b[37m\u001b[0m \u001b[1m0s\u001b[0m 8ms/step - loss: 0.0041 - val_loss: 0.1022\n",
      "Epoch 82/500\n",
      "\u001b[1m47/47\u001b[0m \u001b[32m━━━━━━━━━━━━━━━━━━━━\u001b[0m\u001b[37m\u001b[0m \u001b[1m0s\u001b[0m 8ms/step - loss: 0.0133 - val_loss: 0.0474\n",
      "Epoch 83/500\n",
      "\u001b[1m47/47\u001b[0m \u001b[32m━━━━━━━━━━━━━━━━━━━━\u001b[0m\u001b[37m\u001b[0m \u001b[1m0s\u001b[0m 8ms/step - loss: 0.0109 - val_loss: 0.0324\n",
      "\u001b[1m25/25\u001b[0m \u001b[32m━━━━━━━━━━━━━━━━━━━━\u001b[0m\u001b[37m\u001b[0m \u001b[1m0s\u001b[0m 4ms/step\n"
     ]
    }
   ],
   "source": [
    "#모델 선언\n",
    "model3 = Sequential([\n",
    "  Input(shape=(x_train.shape[1],)),\n",
    "  Dense(256, activation='relu'),\n",
    "  Dropout(0.2),\n",
    "  Dense(256, activation='relu'),\n",
    "  Dropout(0.2),\n",
    "  Dense(128, activation='relu'),\n",
    "  Dropout(0.2),\n",
    "  Dense(64, activation='relu'),\n",
    "  Dropout(0.2),\n",
    "  Dense(32, activation='relu'),\n",
    "  Dropout(0.2),\n",
    "  Dense(3, activation='softmax')\n",
    "])\n",
    "es = EarlyStopping(monitor='val_loss', min_delta=0.001, patience=20)\n",
    "model3.compile(optimizer=Adam(learning_rate=0.0001), loss='sparse_categorical_crossentropy')\n",
    "history3 = model3.fit(x_train_dynamic, t_y_train_dynamic, epochs=500, validation_split=0.2, callbacks=[es]).history\n",
    "pred3 = model3.predict(x_val_dynamic)\n",
    "pred3 = pred3.argmax(axis=1)\n",
    "# pred1 = np.where(pred1 >= 0.5, 1, 0)\n",
    "result3 = {\n",
    "    'accuracy_score' : accuracy_score(t_y_val_dynamic, pred3),\n",
    "    'confusion_matrix' : confusion_matrix(t_y_val_dynamic, pred3),\n",
    "    'classification_report' : classification_report(t_y_val_dynamic, pred3)\n",
    "}\n",
    "result_dict['Model3'] = [result3, history3]"
   ]
  },
  {
   "cell_type": "code",
   "execution_count": 235,
   "metadata": {
    "colab": {
     "base_uri": "https://localhost:8080/"
    },
    "executionInfo": {
     "elapsed": 1780,
     "status": "ok",
     "timestamp": 1729230713212,
     "user": {
      "displayName": "ByeongJin O",
      "userId": "14912423715743829428"
     },
     "user_tz": -540
    },
    "id": "ErvefaZL00SZ",
    "outputId": "bf2e2916-514d-453e-ec88-ecf45cefd034"
   },
   "outputs": [
    {
     "name": "stdout",
     "output_type": "stream",
     "text": [
      "0.9886792452830189\n",
      "[[289   3   1]\n",
      " [  1 240   0]\n",
      " [  2   2 257]]\n",
      "              precision    recall  f1-score   support\n",
      "\n",
      "           0       0.99      0.99      0.99       293\n",
      "           1       0.98      1.00      0.99       241\n",
      "           2       1.00      0.98      0.99       261\n",
      "\n",
      "    accuracy                           0.99       795\n",
      "   macro avg       0.99      0.99      0.99       795\n",
      "weighted avg       0.99      0.99      0.99       795\n",
      "\n"
     ]
    }
   ],
   "source": [
    "print(result_dict['Model3'][0]['accuracy_score'])\n",
    "print(result_dict['Model3'][0]['confusion_matrix'])\n",
    "print(result_dict['Model3'][0]['classification_report'])"
   ]
  },
  {
   "cell_type": "code",
   "execution_count": 236,
   "metadata": {
    "colab": {
     "base_uri": "https://localhost:8080/",
     "height": 528
    },
    "executionInfo": {
     "elapsed": 1290,
     "status": "ok",
     "timestamp": 1729230726990,
     "user": {
      "displayName": "ByeongJin O",
      "userId": "14912423715743829428"
     },
     "user_tz": -540
    },
    "id": "-pG1CDkk00PJ",
    "outputId": "a05f4316-c428-4383-ede9-70a6d6ccdc22"
   },
   "outputs": [
    {
     "data": {
      "image/png": "[encoded data removed]",
      "text/plain": [
       "<Figure size 1000x600 with 1 Axes>"
      ]
     },
     "metadata": {},
     "output_type": "display_data"
    }
   ],
   "source": [
    "dl_history_plot(result_dict['Model3'][1])"
   ]
  },
  {
   "cell_type": "markdown",
   "metadata": {
    "id": "G0vxLxBy1MHk"
   },
   "source": [
    "### (3) 분류 모델 파이프라인 구성\n"
   ]
  },
  {
   "cell_type": "markdown",
   "metadata": {
    "id": "6ypgwVbm1MHl"
   },
   "source": [
    "* 세부 요구사항\n",
    "    * 두 단계 모델을 통합하고, 새로운 데이터(test)에 대해서 최종 예측결과와 성능평가가 나오도록 함수로 만들기\n",
    "    * 데이터 파이프라인 구축 : test데이터가 로딩되어 전처리 과정을 거치고, 예측 및 성능 평가 수행"
   ]
  },
  {
   "cell_type": "markdown",
   "metadata": {
    "id": "J6mVuIA51MHm"
   },
   "source": [
    "* 예시\n",
    "![](https://github.com/DA4BAM/image/blob/main/pipeline%20function.png?raw=true)"
   ]
  },
  {
   "cell_type": "markdown",
   "metadata": {
    "id": "Re6LpNYhi5d3"
   },
   "source": [
    "#### 1) 함수 만들기"
   ]
  },
  {
   "cell_type": "code",
   "execution_count": 232,
   "metadata": {
    "executionInfo": {
     "elapsed": 568,
     "status": "ok",
     "timestamp": 1729230576183,
     "user": {
      "displayName": "ByeongJin O",
      "userId": "14912423715743829428"
     },
     "user_tz": -540
    },
    "id": "THvjpwK31MHn"
   },
   "outputs": [],
   "source": [
    "def func_predict(df):\n",
    "  global model1, model2, model3\n",
    "\n",
    "  data = df.copy()\n",
    "  x, y_activity, classes = data01_pipeline_activity(data)\n",
    "\n",
    "  pred1 = model1.predict(x)\n",
    "  pred1 = np.where(pred1 >= 0.5, 1, 0)\n",
    "\n",
    "  t1 = pd.DataFrame(x)\n",
    "  t2 = pd.DataFrame(pred1)\n",
    "  t2 = pd.concat([t2, y_activity], axis=1)\n",
    "  t2.columns = [\"is_activity\", 'activity']\n",
    "  temp = pd.concat([t1, t2], axis=1)\n",
    "\n",
    "  dynamic = temp.loc[(temp['is_activity'] == 1)]\n",
    "  dynamic_x = dynamic.drop(columns=['is_activity', 'activity'])\n",
    "\n",
    "  static = temp.loc[(temp['is_activity'] == 0)]\n",
    "  static_x = static.drop(columns=['is_activity', 'activity'])\n",
    "\n",
    "  pred2 = model2.predict(static_x)\n",
    "  pred2 = pred2.argmax(axis=1)\n",
    "  pred3 = model3.predict(dynamic_x)\n",
    "  pred3 = pred3.argmax(axis=1)\n",
    "  pred3 = pred3 + 3\n",
    "\n",
    "  pred_list = np.concatenate([pred2, pred3])\n",
    "  activity_list = pd.concat([static.loc[:, 'activity'], dynamic.loc[:, 'activity']], axis=0)\n",
    "\n",
    "  print(confusion_matrix(pred_list, activity_list))\n",
    "  print(classification_report(pred_list, activity_list))\n",
    "\n",
    "  return pred_list, accuracy_score(pred_list, activity_list), classes"
   ]
  },
  {
   "cell_type": "markdown",
   "metadata": {
    "id": "cxkIFT-MIpSg"
   },
   "source": []
  },
  {
   "cell_type": "code",
   "execution_count": 221,
   "metadata": {
    "colab": {
     "base_uri": "https://localhost:8080/"
    },
    "executionInfo": {
     "elapsed": 513,
     "status": "ok",
     "timestamp": 1729229815671,
     "user": {
      "displayName": "ByeongJin O",
      "userId": "14912423715743829428"
     },
     "user_tz": -540
    },
    "id": "ZdO7GTOq1Vtl",
    "outputId": "835d1c2f-f6ea-4c46-c7b1-b9b9fa97faae"
   },
   "outputs": [
    {
     "name": "stdout",
     "output_type": "stream",
     "text": [
      "(1471,)\n",
      "(1471, 563)\n"
     ]
    }
   ],
   "source": []
  },
  {
   "cell_type": "markdown",
   "metadata": {
    "id": "pk2Efe1K1MHn"
   },
   "source": [
    "#### 2) test 셋으로 예측하고 평가하기"
   ]
  },
  {
   "cell_type": "code",
   "execution_count": 152,
   "metadata": {
    "executionInfo": {
     "elapsed": 535,
     "status": "ok",
     "timestamp": 1729227691664,
     "user": {
      "displayName": "ByeongJin O",
      "userId": "14912423715743829428"
     },
     "user_tz": -540
    },
    "id": "eVLnQbdfUyx9"
   },
   "outputs": [],
   "source": [
    "test_data = pd.read_csv(path + 'data01_test.csv')"
   ]
  },
  {
   "cell_type": "code",
   "execution_count": 246,
   "metadata": {
    "colab": {
     "base_uri": "https://localhost:8080/"
    },
    "executionInfo": {
     "elapsed": 2606,
     "status": "ok",
     "timestamp": 1729231437718,
     "user": {
      "displayName": "ByeongJin O",
      "userId": "14912423715743829428"
     },
     "user_tz": -540
    },
    "id": "PnignN3RDtNC",
    "outputId": "a0db85e3-c262-4a86-e76e-014e66f0eabb"
   },
   "outputs": [
    {
     "name": "stdout",
     "output_type": "stream",
     "text": [
      "\u001b[1m46/46\u001b[0m \u001b[32m━━━━━━━━━━━━━━━━━━━━\u001b[0m\u001b[37m\u001b[0m \u001b[1m0s\u001b[0m 1ms/step\n",
      "\u001b[1m27/27\u001b[0m \u001b[32m━━━━━━━━━━━━━━━━━━━━\u001b[0m\u001b[37m\u001b[0m \u001b[1m0s\u001b[0m 2ms/step\n",
      "\u001b[1m20/20\u001b[0m \u001b[32m━━━━━━━━━━━━━━━━━━━━\u001b[0m\u001b[37m\u001b[0m \u001b[1m0s\u001b[0m 2ms/step \n",
      "[[292   0   0   0   0   0]\n",
      " [  0 248  18   0   0   0]\n",
      " [  0   6 269   0   0   0]\n",
      " [  0   0   0 225   1   8]\n",
      " [  0   0   0   2 194   2]\n",
      " [  0   0   0   1   0 205]]\n",
      "              precision    recall  f1-score   support\n",
      "\n",
      "           0       1.00      1.00      1.00       292\n",
      "           1       0.98      0.93      0.95       266\n",
      "           2       0.94      0.98      0.96       275\n",
      "           3       0.99      0.96      0.97       234\n",
      "           4       0.99      0.98      0.99       198\n",
      "           5       0.95      1.00      0.97       206\n",
      "\n",
      "    accuracy                           0.97      1471\n",
      "   macro avg       0.97      0.97      0.97      1471\n",
      "weighted avg       0.97      0.97      0.97      1471\n",
      "\n",
      "0.9741672331747111\n"
     ]
    }
   ],
   "source": [
    "return_data = func_predict(test_data)\n",
    "print(return_data[1])"
   ]
  },
  {
   "cell_type": "code",
   "execution_count": null,
   "metadata": {
    "id": "9kMVyrYIttsG"
   },
   "outputs": [],
   "source": []
  },
  {
   "cell_type": "code",
   "execution_count": null,
   "metadata": {
    "id": "gtaiiaeoyvi3"
   },
   "outputs": [],
   "source": []
  }
 ],
 "metadata": {
  "colab": {
   "provenance": []
  },
  "kernelspec": {
   "display_name": "Python 3",
   "name": "python3"
  },
  "language_info": {
   "name": "python"
  }
 },
 "nbformat": 4,
 "nbformat_minor": 0
}
